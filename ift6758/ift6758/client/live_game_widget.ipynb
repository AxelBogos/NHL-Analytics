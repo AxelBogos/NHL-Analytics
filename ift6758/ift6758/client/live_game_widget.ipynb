{
 "cells": [
  {
   "cell_type": "code",
   "execution_count": 10,
   "id": "a9556784",
   "metadata": {},
   "outputs": [
    {
     "data": {
      "application/vnd.jupyter.widget-view+json": {
       "model_id": "01d353a3baca41a4830af65da6ce9a37",
       "version_major": 2,
       "version_minor": 0
      },
      "text/plain": [
       "VBox(children=(HBox(children=(Label(value='Workspace', layout=Layout(display='flex')), Text(value='axelbogos')…"
      ]
     },
     "metadata": {},
     "output_type": "display_data"
    },
    {
     "ename": "TypeError",
     "evalue": "ping_api() got an unexpected keyword argument 'ip'",
     "output_type": "error",
     "traceback": [
      "\u001b[1;31m---------------------------------------------------------------------------\u001b[0m",
      "\u001b[1;31mTypeError\u001b[0m                                 Traceback (most recent call last)",
      "\u001b[1;32mC:\\Users\\MARC-A~1\\AppData\\Local\\Temp/ipykernel_18736/1487978853.py\u001b[0m in \u001b[0;36mon_game_button_click\u001b[1;34m(b)\u001b[0m\n\u001b[0;32m     64\u001b[0m \u001b[1;33m\u001b[0m\u001b[0m\n\u001b[0;32m     65\u001b[0m \u001b[1;32mdef\u001b[0m \u001b[0mon_game_button_click\u001b[0m\u001b[1;33m(\u001b[0m\u001b[0mb\u001b[0m\u001b[1;33m)\u001b[0m\u001b[1;33m:\u001b[0m\u001b[1;33m\u001b[0m\u001b[1;33m\u001b[0m\u001b[0m\n\u001b[1;32m---> 66\u001b[1;33m     \u001b[0mgame_data\u001b[0m \u001b[1;33m=\u001b[0m \u001b[0mupdate_game_ID\u001b[0m\u001b[1;33m(\u001b[0m\u001b[1;33m)\u001b[0m\u001b[1;33m\u001b[0m\u001b[1;33m\u001b[0m\u001b[0m\n\u001b[0m\u001b[0;32m     67\u001b[0m     \u001b[1;32mif\u001b[0m \u001b[0mgame_data\u001b[0m \u001b[1;33m!=\u001b[0m \u001b[1;32mNone\u001b[0m\u001b[1;33m:\u001b[0m\u001b[1;33m\u001b[0m\u001b[1;33m\u001b[0m\u001b[0m\n\u001b[0;32m     68\u001b[0m         \u001b[1;32mif\u001b[0m \u001b[0mgame_data\u001b[0m\u001b[1;33m.\u001b[0m\u001b[0mshape\u001b[0m\u001b[1;33m[\u001b[0m\u001b[1;36m0\u001b[0m\u001b[1;33m]\u001b[0m \u001b[1;33m>\u001b[0m \u001b[1;36m0\u001b[0m\u001b[1;33m:\u001b[0m\u001b[1;33m\u001b[0m\u001b[1;33m\u001b[0m\u001b[0m\n",
      "\u001b[1;32mC:\\Users\\MARC-A~1\\AppData\\Local\\Temp/ipykernel_18736/1487978853.py\u001b[0m in \u001b[0;36mupdate_game_ID\u001b[1;34m(gameid, prevgameid, game_data)\u001b[0m\n\u001b[0;32m     39\u001b[0m     \u001b[1;32mif\u001b[0m \u001b[0mgameid\u001b[0m \u001b[1;33m!=\u001b[0m \u001b[0mprevgameid\u001b[0m\u001b[1;33m:\u001b[0m\u001b[1;33m\u001b[0m\u001b[1;33m\u001b[0m\u001b[0m\n\u001b[0;32m     40\u001b[0m         \u001b[0mgame_client\u001b[0m \u001b[1;33m=\u001b[0m \u001b[0mGame_Client\u001b[0m\u001b[1;33m(\u001b[0m\u001b[0mgame_id\u001b[0m \u001b[1;33m=\u001b[0m \u001b[0mgameid\u001b[0m\u001b[1;33m)\u001b[0m\u001b[1;33m\u001b[0m\u001b[1;33m\u001b[0m\u001b[0m\n\u001b[1;32m---> 41\u001b[1;33m         \u001b[0mgame_data\u001b[0m \u001b[1;33m=\u001b[0m \u001b[0mgame_client\u001b[0m\u001b[1;33m.\u001b[0m\u001b[0mping_api\u001b[0m\u001b[1;33m(\u001b[0m\u001b[0mip\u001b[0m\u001b[1;33m=\u001b[0m\u001b[1;34m\"127.0.0.1\"\u001b[0m\u001b[1;33m)\u001b[0m\u001b[1;33m\u001b[0m\u001b[1;33m\u001b[0m\u001b[0m\n\u001b[0m\u001b[0;32m     42\u001b[0m         \u001b[1;32mif\u001b[0m \u001b[0mgame_data\u001b[0m \u001b[1;33m!=\u001b[0m \u001b[1;32mNone\u001b[0m\u001b[1;33m:\u001b[0m\u001b[1;33m\u001b[0m\u001b[1;33m\u001b[0m\u001b[0m\n\u001b[0;32m     43\u001b[0m             \u001b[1;32mif\u001b[0m \u001b[0mgame_data\u001b[0m\u001b[1;33m.\u001b[0m\u001b[0mshape\u001b[0m\u001b[1;33m[\u001b[0m\u001b[1;36m0\u001b[0m\u001b[1;33m]\u001b[0m \u001b[1;33m>\u001b[0m \u001b[1;36m0\u001b[0m\u001b[1;33m:\u001b[0m\u001b[1;33m\u001b[0m\u001b[1;33m\u001b[0m\u001b[0m\n",
      "\u001b[1;31mTypeError\u001b[0m: ping_api() got an unexpected keyword argument 'ip'"
     ]
    }
   ],
   "source": [
    "import os\n",
    "os.chdir('../')\n",
    "os.chdir('../')\n",
    "\n",
    "import ipywidgets as widgets\n",
    "from ipywidgets import interact, interact_manual, widget, Layout, Button, HBox, FloatText, Textarea, Dropdown, Label, VBox\n",
    "from IPython.display import display\n",
    "from IPython.html import widgets\n",
    "from prettytable import PrettyTable\n",
    "from ift6758.client.serving_client import ServingClient\n",
    "from ift6758.client.game_client import Game_Client\n",
    "\n",
    "\n",
    "form_item_layout = Layout(\n",
    "    display='inline-flex',\n",
    "    flex_flow='row',\n",
    "    flex_wrap= 'wrap',\n",
    "    justify_content='space-between',\n",
    "    max_width='0.8'\n",
    ")\n",
    "\n",
    "#Creating required variable\n",
    "prevgameid = None\n",
    "gameid = widgets.Text()\n",
    "GAME_ID_FLAG = 'GAME_ID_FLAG'\n",
    "update_data = Button(description='Update Data', button_style='danger')\n",
    "model = widgets.Text(value='6-lgbm')\n",
    "version = widgets.Text(value = '1.0.1')\n",
    "workspace= widgets.Text(value='axelbogos')\n",
    "update_model = Button(description='Update Model', button_style='danger')\n",
    "out = widgets.Output()\n",
    "\n",
    "game_data = None\n",
    "\n",
    "serving_client = ServingClient(ip=\"127.0.0.1\")\n",
    "game_client = None\n",
    "\n",
    "def update_game_ID(gameid=gameid.value, prevgameid=prevgameid, game_data=game_data):\n",
    "    if gameid != prevgameid:\n",
    "        game_client = Game_Client(game_id = gameid)\n",
    "        game_data = game_client.ping_api()\n",
    "        if game_data != None:\n",
    "            if game_data.shape[0] > 0:\n",
    "                predictions = serving_client.predict(game_data)\n",
    "                game_data['predict'] = predictions\n",
    "    else:\n",
    "        game_data_temp = game_client.ping_api()\n",
    "        if game_data_temp != None:\n",
    "            if game_data_temp.shape[0] > 0:\n",
    "                predictions = serving_client.predict(game_data_temp)\n",
    "                game_data_temp['predict'] = predictions\n",
    "                game_data.append(game_data_temp)\n",
    "    return game_data\n",
    "\n",
    "def create_dashboard(game_data=game_data):\n",
    "    home_team = game_data.iloc[0][\"home_team\"]\n",
    "    away_team = game_data.iloc[0][\"away_team\"]\n",
    "    \n",
    "    x = PrettyTable([\"Home Team\", \"Away Team\"])\n",
    "    x.add_row([home_team, away_team])\n",
    "    x.add_row(game_data.predict[game_data[\"team\"]== game_data[\"home_team\"]].sum(),\n",
    "                                game_data.predict[game_data[\"team\"]== game_data[\"away_team\"]].sum())\n",
    "    return x        \n",
    "\n",
    "def on_game_button_click(b):\n",
    "    game_data = update_game_ID()\n",
    "    if game_data != None:\n",
    "        if game_data.shape[0] > 0:\n",
    "            x=create_dashboard(game_data)\n",
    "            \n",
    "            with out:\n",
    "                    out.clear_output()\n",
    "                    display(print(x.get_string(title=f\"Period {game_client.period} - {game_client.time_left}\")))\n",
    "                    display(game_data)\n",
    "    else:\n",
    "        with out:\n",
    "            out.clear_output()\n",
    "            display('No data yet for this game')\n",
    "\n",
    "\n",
    "\n",
    "def on_model_button_click(b):\n",
    "    serving_client.download_registry_model(workspace.value,model.value,version.value)\n",
    "    if game_data != None:\n",
    "        if game_data.shape[0] > 0:\n",
    "            predictions = serving_client.predict(game_data)\n",
    "            game_data['predict'] = predictions\n",
    "            x=create_dashboard(game_data)\n",
    "    with out:\n",
    "            out.clear_output()\n",
    "            display('model updated')\n",
    "            if game_data != None:\n",
    "                if game_data.shape[0] > 0:\n",
    "                    display(print(x.get_string(title=f\"Period {game_client.period} - {game_client.time_left}\")))\n",
    "                    display(game_data)\n",
    "            else:\n",
    "                display('No data yet for this game')\n",
    "\n",
    "        \n",
    "\n",
    "update_data.on_click(on_game_button_click)\n",
    "update_model.on_click(on_model_button_click)\n",
    "\n",
    "box1 = HBox([Label(value='Workspace',layout=Layout(display=\"flex\")),\n",
    "      workspace, Label(value='Model:'), model], layout=form_item_layout)\n",
    "box2 =HBox([Label(value='version'), version, update_model], layout=form_item_layout)\n",
    "box3 = HBox([Label(value='GameID'),\n",
    "        gameid,update_data], layout=form_item_layout)\n",
    "box4 = HBox([out],layout=form_item_layout)\n",
    "\n",
    "VBox([box1,box2,box3,box4])"
   ]
  },
  {
   "cell_type": "markdown",
   "id": "ba924f23",
   "metadata": {},
   "source": [
    "list available model with corresponding version"
   ]
  },
  {
   "cell_type": "code",
   "execution_count": null,
   "id": "2b404170",
   "metadata": {},
   "outputs": [],
   "source": [
    "import os\n",
    "os.chdir('../')\n",
    "os.chdir('../')\n",
    "os.getcwd()"
   ]
  },
  {
   "cell_type": "code",
   "execution_count": null,
   "id": "d80b59bd",
   "metadata": {},
   "outputs": [],
   "source": [
    "os.chdir('../')\n",
    "os.chdir('../')\n",
    "from ift6758.client.serving_client import ServingClient"
   ]
  },
  {
   "cell_type": "code",
   "execution_count": null,
   "id": "13d9a386",
   "metadata": {},
   "outputs": [],
   "source": [
    "os.getcwd()"
   ]
  },
  {
   "cell_type": "code",
   "execution_count": 7,
   "id": "8789dd2e",
   "metadata": {},
   "outputs": [
    {
     "data": {
      "text/plain": [
       "'2015020002'"
      ]
     },
     "execution_count": 7,
     "metadata": {},
     "output_type": "execute_result"
    }
   ],
   "source": [
    "gameid.value"
   ]
  },
  {
   "cell_type": "code",
   "execution_count": null,
   "id": "6af8d40f",
   "metadata": {},
   "outputs": [],
   "source": []
  }
 ],
 "metadata": {
  "kernelspec": {
   "display_name": "Python 3 (ipykernel)",
   "language": "python",
   "name": "python3"
  },
  "language_info": {
   "codemirror_mode": {
    "name": "ipython",
    "version": 3
   },
   "file_extension": ".py",
   "mimetype": "text/x-python",
   "name": "python",
   "nbconvert_exporter": "python",
   "pygments_lexer": "ipython3",
   "version": "3.8.11"
  }
 },
 "nbformat": 4,
 "nbformat_minor": 5
}
