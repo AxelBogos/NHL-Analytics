{
 "cells": [
  {
   "cell_type": "markdown",
   "source": [
    "## LGBM Optuna Optimization"
   ],
   "metadata": {
    "collapsed": false
   }
  },
  {
   "cell_type": "markdown",
   "source": [
    "## Imports"
   ],
   "metadata": {
    "collapsed": false
   }
  },
  {
   "cell_type": "code",
   "execution_count": 74,
   "outputs": [],
   "source": [
    "import optuna\n",
    "from optuna.integration import LightGBMPruningCallback\n",
    "from sklearn.metrics import accuracy_score, f1_score, precision_score, recall_score,log_loss\n",
    "from sklearn.model_selection import StratifiedKFold, train_test_split\n",
    "from sklearn.preprocessing import StandardScaler\n",
    "import pandas as pd\n",
    "import lightgbm as lgbm\n",
    "import numpy as np\n",
    "from pprint import pprint\n",
    "\n",
    "from ift6758.models.utils import load_data\n",
    "\n",
    "from sklearn.ensemble import RandomForestClassifier\n"
   ],
   "metadata": {
    "collapsed": false,
    "pycharm": {
     "name": "#%%\n"
    }
   }
  },
  {
   "cell_type": "markdown",
   "source": [
    "## Notebook Variables"
   ],
   "metadata": {
    "collapsed": false
   }
  },
  {
   "cell_type": "code",
   "execution_count": 75,
   "outputs": [],
   "source": [
    "RANDOM_SEED = 1237342\n",
    "# FEATURES = ['shot_type', 'is_rebound', 'distance_to_prev_event', 'is_penalty_shot', 'shot_distance', 'shot_angle',\n",
    "#             'change_in_angle']\n",
    "FEATURES = ['shot_distance', 'shot_angle']\n",
    "target = 'is_goal'"
   ],
   "metadata": {
    "collapsed": false,
    "pycharm": {
     "name": "#%%\n"
    }
   }
  },
  {
   "cell_type": "markdown",
   "source": [],
   "metadata": {
    "collapsed": false
   }
  },
  {
   "cell_type": "code",
   "execution_count": 71,
   "outputs": [],
   "source": [
    "train, test = load_data(features=FEATURES, target=target)\n",
    "CATEGORICAL_COLUMNS = train.select_dtypes(exclude=[\"number\", \"bool_\"]).columns\n",
    "\n",
    "# drop NAs\n",
    "train = train.dropna()\n",
    "test = test.dropna()\n",
    "train = train.reset_index()\n",
    "test = test.reset_index()\n",
    "\n",
    "# Convert bools to ints\n",
    "train[train.select_dtypes([bool]).columns] = train.select_dtypes([bool]).astype(int)\n",
    "test[test.select_dtypes([bool]).columns] = test.select_dtypes([bool]).astype(int)\n",
    "\n",
    "# X, y split\n",
    "X, y = train.drop(columns=[target]), train[target]\n",
    "X_test, y_test = test.drop(columns=[target]), test[target]\n",
    "\n",
    "# Scale non-categorical features\n",
    "scaler = StandardScaler()\n",
    "X[X.columns.difference(CATEGORICAL_COLUMNS)] = scaler.fit_transform(\n",
    "    X[X.columns.difference(CATEGORICAL_COLUMNS)])\n",
    "X_test[X_test.columns.difference(CATEGORICAL_COLUMNS)] = scaler.fit_transform(\n",
    "    X_test[X_test.columns.difference(CATEGORICAL_COLUMNS)])\n",
    "\n",
    "# one-hot categorical columns\n",
    "X = pd.get_dummies(data=X, columns=CATEGORICAL_COLUMNS)\n",
    "X_test = pd.get_dummies(data=X_test, columns=CATEGORICAL_COLUMNS)"
   ],
   "metadata": {
    "collapsed": false,
    "pycharm": {
     "name": "#%%\n"
    }
   }
  },
  {
   "cell_type": "code",
   "execution_count": 76,
   "outputs": [
    {
     "name": "stdout",
     "output_type": "stream",
     "text": [
      "{'accuracy': 0.8998812243033348,\n",
      " 'f1': 0.018627977789718787,\n",
      " 'precision': 0.4126984126984127,\n",
      " 'recall': 0.009529045262964999}\n",
      "(array([0, 1]), array([54599,   126]))\n"
     ]
    }
   ],
   "source": [
    "clf = RandomForestClassifier()\n",
    "\n",
    "clf.fit(X,y)\n",
    "y_pred = clf.predict(X_test)\n",
    "f1 = f1_score(y_test, y_pred)\n",
    "accuracy = accuracy_score(y_test, y_pred)\n",
    "precision = precision_score(y_test, y_pred)\n",
    "recall = recall_score(y_test, y_pred)\n",
    "metrics = {\"accuracy\": accuracy, \"f1\": f1, \"recall\": recall, \"precision\": precision}\n",
    "pprint(metrics)\n",
    "print(np.unique(y_pred,return_counts=True))"
   ],
   "metadata": {
    "collapsed": false,
    "pycharm": {
     "name": "#%%\n"
    }
   }
  },
  {
   "cell_type": "markdown",
   "source": [
    "## Optuna Hyper-parameter search"
   ],
   "metadata": {
    "collapsed": false
   }
  },
  {
   "cell_type": "code",
   "execution_count": 65,
   "outputs": [],
   "source": [
    "def objective(trial, X, y):\n",
    "    param_grid = {\n",
    "        \"n_estimators\": trial.suggest_int(\"n_estimators\", 50,1000,step=50),\n",
    "        \"learning_rate\": trial.suggest_float(\"learning_rate\", 0.01, 0.3),\n",
    "        \"num_leaves\": trial.suggest_int(\"num_leaves\", 20, 100, step=20),\n",
    "        \"max_depth\": trial.suggest_int(\"max_depth\", 3, 12),\n",
    "        # \"min_data_in_leaf\": trial.suggest_int(\"min_data_in_leaf\", 200, 10000, step=100),\n",
    "        # \"lambda_l1\": trial.suggest_int(\"lambda_l1\", 0, 100, step=5),\n",
    "        # \"lambda_l2\": trial.suggest_int(\"lambda_l2\", 0, 100, step=5),\n",
    "        # \"min_gain_to_split\": trial.suggest_float(\"min_gain_to_split\", 0, 15),\n",
    "        # \"bagging_fraction\": trial.suggest_float(\"bagging_fraction\", 0.2, 1, step=0.1),\n",
    "        # \"feature_fraction\": trial.suggest_float(\"feature_fraction\", 0.2, 1, step=0.1),\n",
    "    }\n",
    "\n",
    "    cv = StratifiedKFold(n_splits=3, shuffle=True, random_state=RANDOM_SEED)\n",
    "\n",
    "    cv_scores = np.empty(3)\n",
    "    for idx, (train_idx, val_idx) in enumerate(cv.split(X, y)):\n",
    "        X_train, X_val = X.iloc[train_idx], X.iloc[val_idx]\n",
    "        y_train, y_val = y[train_idx], y[val_idx]\n",
    "\n",
    "        model = lgbm.LGBMClassifier(objective=\"binary\", **param_grid)\n",
    "        model.fit(\n",
    "            X_train,\n",
    "            y_train,\n",
    "            eval_set=[(X_val, y_val)],\n",
    "            eval_metric=\"binary_logloss\",\n",
    "            early_stopping_rounds= 10,\n",
    "            callbacks=[\n",
    "                LightGBMPruningCallback(trial, \"binary_logloss\")\n",
    "            ],\n",
    "        )\n",
    "        preds = model.predict_proba(X_val)\n",
    "        cv_scores[idx] = log_loss(y_val, preds)\n",
    "\n",
    "    return np.mean(cv_scores)"
   ],
   "metadata": {
    "collapsed": false,
    "pycharm": {
     "name": "#%%\n"
    }
   }
  },
  {
   "cell_type": "code",
   "execution_count": 66,
   "outputs": [
    {
     "name": "stderr",
     "output_type": "stream",
     "text": [
      "\u001B[32m[I 2021-11-22 17:47:16,955]\u001B[0m A new study created in memory with name: LGBM Classifier\u001B[0m\n"
     ]
    },
    {
     "name": "stdout",
     "output_type": "stream",
     "text": [
      "[1]\tvalid_0's binary_logloss: 0.302625\n",
      "Training until validation scores don't improve for 10 rounds\n",
      "[2]\tvalid_0's binary_logloss: 0.297252\n",
      "[3]\tvalid_0's binary_logloss: 0.293702\n",
      "[4]\tvalid_0's binary_logloss: 0.291354\n",
      "[5]\tvalid_0's binary_logloss: 0.289732\n",
      "[6]\tvalid_0's binary_logloss: 0.28859\n",
      "[7]\tvalid_0's binary_logloss: 0.287801\n",
      "[8]\tvalid_0's binary_logloss: 0.287263\n",
      "[9]\tvalid_0's binary_logloss: 0.286876\n",
      "[10]\tvalid_0's binary_logloss: 0.286606\n",
      "[11]\tvalid_0's binary_logloss: 0.286447\n",
      "[12]\tvalid_0's binary_logloss: 0.286311\n",
      "[13]\tvalid_0's binary_logloss: 0.286231\n",
      "[14]\tvalid_0's binary_logloss: 0.286208\n",
      "[15]\tvalid_0's binary_logloss: 0.286159\n",
      "[16]\tvalid_0's binary_logloss: 0.286123\n",
      "[17]\tvalid_0's binary_logloss: 0.286113\n",
      "[18]\tvalid_0's binary_logloss: 0.286123\n",
      "[19]\tvalid_0's binary_logloss: 0.286135\n",
      "[20]\tvalid_0's binary_logloss: 0.286138\n",
      "[21]\tvalid_0's binary_logloss: 0.286151\n",
      "[22]\tvalid_0's binary_logloss: 0.28615\n",
      "[23]\tvalid_0's binary_logloss: 0.286141\n",
      "[24]\tvalid_0's binary_logloss: 0.28616\n",
      "[25]\tvalid_0's binary_logloss: 0.286177\n",
      "[26]\tvalid_0's binary_logloss: 0.286181\n",
      "[27]\tvalid_0's binary_logloss: 0.286173\n",
      "Early stopping, best iteration is:\n",
      "[17]\tvalid_0's binary_logloss: 0.286113\n"
     ]
    },
    {
     "name": "stderr",
     "output_type": "stream",
     "text": [
      "/opt/miniconda3/envs/n6758/lib/python3.8/site-packages/optuna/trial/_trial.py:590: UserWarning: The reported value is ignored because this `step` 0 is already reported.\n",
      "  warnings.warn(\n",
      "/opt/miniconda3/envs/n6758/lib/python3.8/site-packages/optuna/trial/_trial.py:590: UserWarning: The reported value is ignored because this `step` 1 is already reported.\n",
      "  warnings.warn(\n",
      "/opt/miniconda3/envs/n6758/lib/python3.8/site-packages/optuna/trial/_trial.py:590: UserWarning: The reported value is ignored because this `step` 2 is already reported.\n",
      "  warnings.warn(\n",
      "/opt/miniconda3/envs/n6758/lib/python3.8/site-packages/optuna/trial/_trial.py:590: UserWarning: The reported value is ignored because this `step` 3 is already reported.\n",
      "  warnings.warn(\n",
      "/opt/miniconda3/envs/n6758/lib/python3.8/site-packages/optuna/trial/_trial.py:590: UserWarning: The reported value is ignored because this `step` 4 is already reported.\n",
      "  warnings.warn(\n",
      "/opt/miniconda3/envs/n6758/lib/python3.8/site-packages/optuna/trial/_trial.py:590: UserWarning: The reported value is ignored because this `step` 5 is already reported.\n",
      "  warnings.warn(\n"
     ]
    },
    {
     "name": "stdout",
     "output_type": "stream",
     "text": [
      "[1]\tvalid_0's binary_logloss: 0.302621\n",
      "Training until validation scores don't improve for 10 rounds\n",
      "[2]\tvalid_0's binary_logloss: 0.297248\n",
      "[3]\tvalid_0's binary_logloss: 0.293723\n",
      "[4]\tvalid_0's binary_logloss: 0.291387\n",
      "[5]\tvalid_0's binary_logloss: 0.289758\n",
      "[6]\tvalid_0's binary_logloss: 0.288654\n"
     ]
    },
    {
     "name": "stderr",
     "output_type": "stream",
     "text": [
      "/opt/miniconda3/envs/n6758/lib/python3.8/site-packages/optuna/trial/_trial.py:590: UserWarning: The reported value is ignored because this `step` 6 is already reported.\n",
      "  warnings.warn(\n",
      "/opt/miniconda3/envs/n6758/lib/python3.8/site-packages/optuna/trial/_trial.py:590: UserWarning: The reported value is ignored because this `step` 7 is already reported.\n",
      "  warnings.warn(\n",
      "/opt/miniconda3/envs/n6758/lib/python3.8/site-packages/optuna/trial/_trial.py:590: UserWarning: The reported value is ignored because this `step` 8 is already reported.\n",
      "  warnings.warn(\n",
      "/opt/miniconda3/envs/n6758/lib/python3.8/site-packages/optuna/trial/_trial.py:590: UserWarning: The reported value is ignored because this `step` 9 is already reported.\n",
      "  warnings.warn(\n",
      "/opt/miniconda3/envs/n6758/lib/python3.8/site-packages/optuna/trial/_trial.py:590: UserWarning: The reported value is ignored because this `step` 10 is already reported.\n",
      "  warnings.warn(\n",
      "/opt/miniconda3/envs/n6758/lib/python3.8/site-packages/optuna/trial/_trial.py:590: UserWarning: The reported value is ignored because this `step` 11 is already reported.\n",
      "  warnings.warn(\n",
      "/opt/miniconda3/envs/n6758/lib/python3.8/site-packages/optuna/trial/_trial.py:590: UserWarning: The reported value is ignored because this `step` 12 is already reported.\n",
      "  warnings.warn(\n",
      "/opt/miniconda3/envs/n6758/lib/python3.8/site-packages/optuna/trial/_trial.py:590: UserWarning: The reported value is ignored because this `step` 13 is already reported.\n",
      "  warnings.warn(\n",
      "/opt/miniconda3/envs/n6758/lib/python3.8/site-packages/optuna/trial/_trial.py:590: UserWarning: The reported value is ignored because this `step` 14 is already reported.\n",
      "  warnings.warn(\n",
      "/opt/miniconda3/envs/n6758/lib/python3.8/site-packages/optuna/trial/_trial.py:590: UserWarning: The reported value is ignored because this `step` 15 is already reported.\n",
      "  warnings.warn(\n",
      "/opt/miniconda3/envs/n6758/lib/python3.8/site-packages/optuna/trial/_trial.py:590: UserWarning: The reported value is ignored because this `step` 16 is already reported.\n",
      "  warnings.warn(\n",
      "/opt/miniconda3/envs/n6758/lib/python3.8/site-packages/optuna/trial/_trial.py:590: UserWarning: The reported value is ignored because this `step` 17 is already reported.\n",
      "  warnings.warn(\n",
      "/opt/miniconda3/envs/n6758/lib/python3.8/site-packages/optuna/trial/_trial.py:590: UserWarning: The reported value is ignored because this `step` 18 is already reported.\n",
      "  warnings.warn(\n",
      "/opt/miniconda3/envs/n6758/lib/python3.8/site-packages/optuna/trial/_trial.py:590: UserWarning: The reported value is ignored because this `step` 19 is already reported.\n",
      "  warnings.warn(\n",
      "/opt/miniconda3/envs/n6758/lib/python3.8/site-packages/optuna/trial/_trial.py:590: UserWarning: The reported value is ignored because this `step` 20 is already reported.\n",
      "  warnings.warn(\n",
      "/opt/miniconda3/envs/n6758/lib/python3.8/site-packages/optuna/trial/_trial.py:590: UserWarning: The reported value is ignored because this `step` 21 is already reported.\n",
      "  warnings.warn(\n",
      "/opt/miniconda3/envs/n6758/lib/python3.8/site-packages/optuna/trial/_trial.py:590: UserWarning: The reported value is ignored because this `step` 22 is already reported.\n",
      "  warnings.warn(\n"
     ]
    },
    {
     "name": "stdout",
     "output_type": "stream",
     "text": [
      "[7]\tvalid_0's binary_logloss: 0.287892\n",
      "[8]\tvalid_0's binary_logloss: 0.287392\n",
      "[9]\tvalid_0's binary_logloss: 0.287038\n",
      "[10]\tvalid_0's binary_logloss: 0.286792\n",
      "[11]\tvalid_0's binary_logloss: 0.28663\n",
      "[12]\tvalid_0's binary_logloss: 0.286506\n",
      "[13]\tvalid_0's binary_logloss: 0.286415\n",
      "[14]\tvalid_0's binary_logloss: 0.286388\n",
      "[15]\tvalid_0's binary_logloss: 0.286348\n",
      "[16]\tvalid_0's binary_logloss: 0.286356\n",
      "[17]\tvalid_0's binary_logloss: 0.286333\n",
      "[18]\tvalid_0's binary_logloss: 0.286328\n",
      "[19]\tvalid_0's binary_logloss: 0.286337\n",
      "[20]\tvalid_0's binary_logloss: 0.286336\n",
      "[21]\tvalid_0's binary_logloss: 0.286336\n",
      "[22]\tvalid_0's binary_logloss: 0.286326\n",
      "[23]\tvalid_0's binary_logloss: 0.286337\n"
     ]
    },
    {
     "name": "stderr",
     "output_type": "stream",
     "text": [
      "/opt/miniconda3/envs/n6758/lib/python3.8/site-packages/optuna/trial/_trial.py:590: UserWarning: The reported value is ignored because this `step` 23 is already reported.\n",
      "  warnings.warn(\n",
      "/opt/miniconda3/envs/n6758/lib/python3.8/site-packages/optuna/trial/_trial.py:590: UserWarning: The reported value is ignored because this `step` 24 is already reported.\n",
      "  warnings.warn(\n",
      "/opt/miniconda3/envs/n6758/lib/python3.8/site-packages/optuna/trial/_trial.py:590: UserWarning: The reported value is ignored because this `step` 25 is already reported.\n",
      "  warnings.warn(\n",
      "/opt/miniconda3/envs/n6758/lib/python3.8/site-packages/optuna/trial/_trial.py:590: UserWarning: The reported value is ignored because this `step` 26 is already reported.\n",
      "  warnings.warn(\n"
     ]
    },
    {
     "name": "stdout",
     "output_type": "stream",
     "text": [
      "[24]\tvalid_0's binary_logloss: 0.286362\n",
      "[25]\tvalid_0's binary_logloss: 0.286388\n",
      "[26]\tvalid_0's binary_logloss: 0.286408\n",
      "[27]\tvalid_0's binary_logloss: 0.286433\n",
      "[28]\tvalid_0's binary_logloss: 0.286432\n",
      "[29]\tvalid_0's binary_logloss: 0.286448\n",
      "[30]\tvalid_0's binary_logloss: 0.286473\n",
      "[31]\tvalid_0's binary_logloss: 0.286484\n",
      "[32]\tvalid_0's binary_logloss: 0.286498\n",
      "Early stopping, best iteration is:\n",
      "[22]\tvalid_0's binary_logloss: 0.286326\n"
     ]
    },
    {
     "name": "stderr",
     "output_type": "stream",
     "text": [
      "/opt/miniconda3/envs/n6758/lib/python3.8/site-packages/optuna/trial/_trial.py:590: UserWarning: The reported value is ignored because this `step` 0 is already reported.\n",
      "  warnings.warn(\n",
      "/opt/miniconda3/envs/n6758/lib/python3.8/site-packages/optuna/trial/_trial.py:590: UserWarning: The reported value is ignored because this `step` 1 is already reported.\n",
      "  warnings.warn(\n",
      "/opt/miniconda3/envs/n6758/lib/python3.8/site-packages/optuna/trial/_trial.py:590: UserWarning: The reported value is ignored because this `step` 2 is already reported.\n",
      "  warnings.warn(\n",
      "/opt/miniconda3/envs/n6758/lib/python3.8/site-packages/optuna/trial/_trial.py:590: UserWarning: The reported value is ignored because this `step` 3 is already reported.\n",
      "  warnings.warn(\n",
      "/opt/miniconda3/envs/n6758/lib/python3.8/site-packages/optuna/trial/_trial.py:590: UserWarning: The reported value is ignored because this `step` 4 is already reported.\n",
      "  warnings.warn(\n",
      "/opt/miniconda3/envs/n6758/lib/python3.8/site-packages/optuna/trial/_trial.py:590: UserWarning: The reported value is ignored because this `step` 5 is already reported.\n",
      "  warnings.warn(\n",
      "/opt/miniconda3/envs/n6758/lib/python3.8/site-packages/optuna/trial/_trial.py:590: UserWarning: The reported value is ignored because this `step` 6 is already reported.\n",
      "  warnings.warn(\n",
      "/opt/miniconda3/envs/n6758/lib/python3.8/site-packages/optuna/trial/_trial.py:590: UserWarning: The reported value is ignored because this `step` 7 is already reported.\n",
      "  warnings.warn(\n",
      "/opt/miniconda3/envs/n6758/lib/python3.8/site-packages/optuna/trial/_trial.py:590: UserWarning: The reported value is ignored because this `step` 8 is already reported.\n",
      "  warnings.warn(\n",
      "/opt/miniconda3/envs/n6758/lib/python3.8/site-packages/optuna/trial/_trial.py:590: UserWarning: The reported value is ignored because this `step` 9 is already reported.\n",
      "  warnings.warn(\n",
      "/opt/miniconda3/envs/n6758/lib/python3.8/site-packages/optuna/trial/_trial.py:590: UserWarning: The reported value is ignored because this `step` 10 is already reported.\n",
      "  warnings.warn(\n",
      "/opt/miniconda3/envs/n6758/lib/python3.8/site-packages/optuna/trial/_trial.py:590: UserWarning: The reported value is ignored because this `step` 11 is already reported.\n",
      "  warnings.warn(\n"
     ]
    },
    {
     "name": "stdout",
     "output_type": "stream",
     "text": [
      "[1]\tvalid_0's binary_logloss: 0.302549\n",
      "Training until validation scores don't improve for 10 rounds\n",
      "[2]\tvalid_0's binary_logloss: 0.297072\n",
      "[3]\tvalid_0's binary_logloss: 0.293452\n",
      "[4]\tvalid_0's binary_logloss: 0.290989\n",
      "[5]\tvalid_0's binary_logloss: 0.289273\n",
      "[6]\tvalid_0's binary_logloss: 0.288047\n",
      "[7]\tvalid_0's binary_logloss: 0.287206\n",
      "[8]\tvalid_0's binary_logloss: 0.286622\n",
      "[9]\tvalid_0's binary_logloss: 0.28617\n",
      "[10]\tvalid_0's binary_logloss: 0.285887\n",
      "[11]\tvalid_0's binary_logloss: 0.285684\n",
      "[12]\tvalid_0's binary_logloss: 0.285515\n"
     ]
    },
    {
     "name": "stderr",
     "output_type": "stream",
     "text": [
      "/opt/miniconda3/envs/n6758/lib/python3.8/site-packages/optuna/trial/_trial.py:590: UserWarning: The reported value is ignored because this `step` 12 is already reported.\n",
      "  warnings.warn(\n",
      "/opt/miniconda3/envs/n6758/lib/python3.8/site-packages/optuna/trial/_trial.py:590: UserWarning: The reported value is ignored because this `step` 13 is already reported.\n",
      "  warnings.warn(\n",
      "/opt/miniconda3/envs/n6758/lib/python3.8/site-packages/optuna/trial/_trial.py:590: UserWarning: The reported value is ignored because this `step` 14 is already reported.\n",
      "  warnings.warn(\n",
      "/opt/miniconda3/envs/n6758/lib/python3.8/site-packages/optuna/trial/_trial.py:590: UserWarning: The reported value is ignored because this `step` 15 is already reported.\n",
      "  warnings.warn(\n",
      "/opt/miniconda3/envs/n6758/lib/python3.8/site-packages/optuna/trial/_trial.py:590: UserWarning: The reported value is ignored because this `step` 16 is already reported.\n",
      "  warnings.warn(\n",
      "/opt/miniconda3/envs/n6758/lib/python3.8/site-packages/optuna/trial/_trial.py:590: UserWarning: The reported value is ignored because this `step` 17 is already reported.\n",
      "  warnings.warn(\n",
      "/opt/miniconda3/envs/n6758/lib/python3.8/site-packages/optuna/trial/_trial.py:590: UserWarning: The reported value is ignored because this `step` 18 is already reported.\n",
      "  warnings.warn(\n",
      "/opt/miniconda3/envs/n6758/lib/python3.8/site-packages/optuna/trial/_trial.py:590: UserWarning: The reported value is ignored because this `step` 19 is already reported.\n",
      "  warnings.warn(\n",
      "/opt/miniconda3/envs/n6758/lib/python3.8/site-packages/optuna/trial/_trial.py:590: UserWarning: The reported value is ignored because this `step` 20 is already reported.\n",
      "  warnings.warn(\n",
      "/opt/miniconda3/envs/n6758/lib/python3.8/site-packages/optuna/trial/_trial.py:590: UserWarning: The reported value is ignored because this `step` 21 is already reported.\n",
      "  warnings.warn(\n",
      "/opt/miniconda3/envs/n6758/lib/python3.8/site-packages/optuna/trial/_trial.py:590: UserWarning: The reported value is ignored because this `step` 22 is already reported.\n",
      "  warnings.warn(\n",
      "/opt/miniconda3/envs/n6758/lib/python3.8/site-packages/optuna/trial/_trial.py:590: UserWarning: The reported value is ignored because this `step` 23 is already reported.\n",
      "  warnings.warn(\n",
      "/opt/miniconda3/envs/n6758/lib/python3.8/site-packages/optuna/trial/_trial.py:590: UserWarning: The reported value is ignored because this `step` 24 is already reported.\n",
      "  warnings.warn(\n",
      "/opt/miniconda3/envs/n6758/lib/python3.8/site-packages/optuna/trial/_trial.py:590: UserWarning: The reported value is ignored because this `step` 25 is already reported.\n",
      "  warnings.warn(\n",
      "/opt/miniconda3/envs/n6758/lib/python3.8/site-packages/optuna/trial/_trial.py:590: UserWarning: The reported value is ignored because this `step` 26 is already reported.\n",
      "  warnings.warn(\n",
      "/opt/miniconda3/envs/n6758/lib/python3.8/site-packages/optuna/trial/_trial.py:590: UserWarning: The reported value is ignored because this `step` 27 is already reported.\n",
      "  warnings.warn(\n",
      "/opt/miniconda3/envs/n6758/lib/python3.8/site-packages/optuna/trial/_trial.py:590: UserWarning: The reported value is ignored because this `step` 28 is already reported.\n",
      "  warnings.warn(\n",
      "/opt/miniconda3/envs/n6758/lib/python3.8/site-packages/optuna/trial/_trial.py:590: UserWarning: The reported value is ignored because this `step` 29 is already reported.\n",
      "  warnings.warn(\n",
      "/opt/miniconda3/envs/n6758/lib/python3.8/site-packages/optuna/trial/_trial.py:590: UserWarning: The reported value is ignored because this `step` 30 is already reported.\n",
      "  warnings.warn(\n",
      "/opt/miniconda3/envs/n6758/lib/python3.8/site-packages/optuna/trial/_trial.py:590: UserWarning: The reported value is ignored because this `step` 31 is already reported.\n",
      "  warnings.warn(\n"
     ]
    },
    {
     "name": "stdout",
     "output_type": "stream",
     "text": [
      "[13]\tvalid_0's binary_logloss: 0.285408\n",
      "[14]\tvalid_0's binary_logloss: 0.285348\n",
      "[15]\tvalid_0's binary_logloss: 0.285314\n",
      "[16]\tvalid_0's binary_logloss: 0.285248\n",
      "[17]\tvalid_0's binary_logloss: 0.285231\n",
      "[18]\tvalid_0's binary_logloss: 0.285246\n",
      "[19]\tvalid_0's binary_logloss: 0.285228\n",
      "[20]\tvalid_0's binary_logloss: 0.285198\n",
      "[21]\tvalid_0's binary_logloss: 0.285194\n",
      "[22]\tvalid_0's binary_logloss: 0.285193\n",
      "[23]\tvalid_0's binary_logloss: 0.28522\n",
      "[24]\tvalid_0's binary_logloss: 0.285213\n",
      "[25]\tvalid_0's binary_logloss: 0.285246\n",
      "[26]\tvalid_0's binary_logloss: 0.285253\n",
      "[27]\tvalid_0's binary_logloss: 0.285277\n",
      "[28]\tvalid_0's binary_logloss: 0.285291\n",
      "[29]\tvalid_0's binary_logloss: 0.285316\n",
      "[30]\tvalid_0's binary_logloss: 0.285323\n",
      "[31]\tvalid_0's binary_logloss: 0.285335\n",
      "[32]\tvalid_0's binary_logloss: 0.28535\n",
      "Early stopping, best iteration is:\n",
      "[22]\tvalid_0's binary_logloss: 0.285193\n"
     ]
    },
    {
     "name": "stderr",
     "output_type": "stream",
     "text": [
      "\u001B[32m[I 2021-11-22 17:47:19,747]\u001B[0m Trial 0 finished with value: 0.2858774709760706 and parameters: {'n_estimators': 150, 'learning_rate': 0.19804364423314993, 'num_leaves': 20, 'max_depth': 10}. Best is trial 0 with value: 0.2858774709760706.\u001B[0m\n"
     ]
    },
    {
     "name": "stdout",
     "output_type": "stream",
     "text": [
      "[1]\tvalid_0's binary_logloss: 0.30568\n",
      "Training until validation scores don't improve for 10 rounds\n",
      "[2]\tvalid_0's binary_logloss: 0.301333\n",
      "[3]\tvalid_0's binary_logloss: 0.298069\n",
      "[4]\tvalid_0's binary_logloss: 0.295562\n",
      "[5]\tvalid_0's binary_logloss: 0.293609\n",
      "[6]\tvalid_0's binary_logloss: 0.292084\n",
      "[7]\tvalid_0's binary_logloss: 0.290871\n",
      "[8]\tvalid_0's binary_logloss: 0.289914\n",
      "[9]\tvalid_0's binary_logloss: 0.289145\n",
      "[10]\tvalid_0's binary_logloss: 0.288552\n",
      "[11]\tvalid_0's binary_logloss: 0.288085\n",
      "[12]\tvalid_0's binary_logloss: 0.28771\n",
      "[13]\tvalid_0's binary_logloss: 0.287429\n",
      "[14]\tvalid_0's binary_logloss: 0.287212\n",
      "[15]\tvalid_0's binary_logloss: 0.287028\n",
      "[16]\tvalid_0's binary_logloss: 0.286906\n",
      "[17]\tvalid_0's binary_logloss: 0.286805\n",
      "[18]\tvalid_0's binary_logloss: 0.28672\n",
      "[19]\tvalid_0's binary_logloss: 0.286674\n",
      "[20]\tvalid_0's binary_logloss: 0.286638\n",
      "[21]\tvalid_0's binary_logloss: 0.286595\n",
      "[22]\tvalid_0's binary_logloss: 0.286581\n",
      "[23]\tvalid_0's binary_logloss: 0.286542\n",
      "[24]\tvalid_0's binary_logloss: 0.286546\n",
      "[25]\tvalid_0's binary_logloss: 0.286567\n",
      "[26]\tvalid_0's binary_logloss: 0.286572\n",
      "[27]\tvalid_0's binary_logloss: 0.286573\n",
      "[28]\tvalid_0's binary_logloss: 0.286595\n",
      "[29]\tvalid_0's binary_logloss: 0.286606\n",
      "[30]\tvalid_0's binary_logloss: 0.286634\n",
      "[31]\tvalid_0's binary_logloss: 0.286672\n",
      "[32]\tvalid_0's binary_logloss: 0.286699\n",
      "[33]\tvalid_0's binary_logloss: 0.286709\n",
      "Early stopping, best iteration is:\n",
      "[23]\tvalid_0's binary_logloss: 0.286542\n"
     ]
    },
    {
     "name": "stderr",
     "output_type": "stream",
     "text": [
      "/opt/miniconda3/envs/n6758/lib/python3.8/site-packages/optuna/trial/_trial.py:590: UserWarning: The reported value is ignored because this `step` 0 is already reported.\n",
      "  warnings.warn(\n",
      "/opt/miniconda3/envs/n6758/lib/python3.8/site-packages/optuna/trial/_trial.py:590: UserWarning: The reported value is ignored because this `step` 1 is already reported.\n",
      "  warnings.warn(\n",
      "/opt/miniconda3/envs/n6758/lib/python3.8/site-packages/optuna/trial/_trial.py:590: UserWarning: The reported value is ignored because this `step` 2 is already reported.\n",
      "  warnings.warn(\n",
      "/opt/miniconda3/envs/n6758/lib/python3.8/site-packages/optuna/trial/_trial.py:590: UserWarning: The reported value is ignored because this `step` 3 is already reported.\n",
      "  warnings.warn(\n",
      "/opt/miniconda3/envs/n6758/lib/python3.8/site-packages/optuna/trial/_trial.py:590: UserWarning: The reported value is ignored because this `step` 4 is already reported.\n",
      "  warnings.warn(\n",
      "/opt/miniconda3/envs/n6758/lib/python3.8/site-packages/optuna/trial/_trial.py:590: UserWarning: The reported value is ignored because this `step` 5 is already reported.\n",
      "  warnings.warn(\n",
      "/opt/miniconda3/envs/n6758/lib/python3.8/site-packages/optuna/trial/_trial.py:590: UserWarning: The reported value is ignored because this `step` 6 is already reported.\n",
      "  warnings.warn(\n",
      "/opt/miniconda3/envs/n6758/lib/python3.8/site-packages/optuna/trial/_trial.py:590: UserWarning: The reported value is ignored because this `step` 7 is already reported.\n",
      "  warnings.warn(\n",
      "/opt/miniconda3/envs/n6758/lib/python3.8/site-packages/optuna/trial/_trial.py:590: UserWarning: The reported value is ignored because this `step` 8 is already reported.\n",
      "  warnings.warn(\n"
     ]
    },
    {
     "name": "stdout",
     "output_type": "stream",
     "text": [
      "[1]\tvalid_0's binary_logloss: 0.305767\n",
      "Training until validation scores don't improve for 10 rounds\n",
      "[2]\tvalid_0's binary_logloss: 0.30146\n",
      "[3]\tvalid_0's binary_logloss: 0.298203\n",
      "[4]\tvalid_0's binary_logloss: 0.295672\n",
      "[5]\tvalid_0's binary_logloss: 0.293706\n",
      "[6]\tvalid_0's binary_logloss: 0.292199\n",
      "[7]\tvalid_0's binary_logloss: 0.291001\n",
      "[8]\tvalid_0's binary_logloss: 0.290066\n",
      "[9]\tvalid_0's binary_logloss: 0.28932\n"
     ]
    },
    {
     "name": "stderr",
     "output_type": "stream",
     "text": [
      "/opt/miniconda3/envs/n6758/lib/python3.8/site-packages/optuna/trial/_trial.py:590: UserWarning: The reported value is ignored because this `step` 9 is already reported.\n",
      "  warnings.warn(\n",
      "/opt/miniconda3/envs/n6758/lib/python3.8/site-packages/optuna/trial/_trial.py:590: UserWarning: The reported value is ignored because this `step` 10 is already reported.\n",
      "  warnings.warn(\n",
      "/opt/miniconda3/envs/n6758/lib/python3.8/site-packages/optuna/trial/_trial.py:590: UserWarning: The reported value is ignored because this `step` 11 is already reported.\n",
      "  warnings.warn(\n",
      "/opt/miniconda3/envs/n6758/lib/python3.8/site-packages/optuna/trial/_trial.py:590: UserWarning: The reported value is ignored because this `step` 12 is already reported.\n",
      "  warnings.warn(\n",
      "/opt/miniconda3/envs/n6758/lib/python3.8/site-packages/optuna/trial/_trial.py:590: UserWarning: The reported value is ignored because this `step` 13 is already reported.\n",
      "  warnings.warn(\n",
      "/opt/miniconda3/envs/n6758/lib/python3.8/site-packages/optuna/trial/_trial.py:590: UserWarning: The reported value is ignored because this `step` 14 is already reported.\n",
      "  warnings.warn(\n",
      "/opt/miniconda3/envs/n6758/lib/python3.8/site-packages/optuna/trial/_trial.py:590: UserWarning: The reported value is ignored because this `step` 15 is already reported.\n",
      "  warnings.warn(\n",
      "/opt/miniconda3/envs/n6758/lib/python3.8/site-packages/optuna/trial/_trial.py:590: UserWarning: The reported value is ignored because this `step` 16 is already reported.\n",
      "  warnings.warn(\n",
      "/opt/miniconda3/envs/n6758/lib/python3.8/site-packages/optuna/trial/_trial.py:590: UserWarning: The reported value is ignored because this `step` 17 is already reported.\n",
      "  warnings.warn(\n",
      "/opt/miniconda3/envs/n6758/lib/python3.8/site-packages/optuna/trial/_trial.py:590: UserWarning: The reported value is ignored because this `step` 18 is already reported.\n",
      "  warnings.warn(\n",
      "/opt/miniconda3/envs/n6758/lib/python3.8/site-packages/optuna/trial/_trial.py:590: UserWarning: The reported value is ignored because this `step` 19 is already reported.\n",
      "  warnings.warn(\n",
      "/opt/miniconda3/envs/n6758/lib/python3.8/site-packages/optuna/trial/_trial.py:590: UserWarning: The reported value is ignored because this `step` 20 is already reported.\n",
      "  warnings.warn(\n",
      "/opt/miniconda3/envs/n6758/lib/python3.8/site-packages/optuna/trial/_trial.py:590: UserWarning: The reported value is ignored because this `step` 21 is already reported.\n",
      "  warnings.warn(\n"
     ]
    },
    {
     "name": "stdout",
     "output_type": "stream",
     "text": [
      "[10]\tvalid_0's binary_logloss: 0.288713\n",
      "[11]\tvalid_0's binary_logloss: 0.288228\n",
      "[12]\tvalid_0's binary_logloss: 0.287887\n",
      "[13]\tvalid_0's binary_logloss: 0.287605\n",
      "[14]\tvalid_0's binary_logloss: 0.287372\n",
      "[15]\tvalid_0's binary_logloss: 0.287228\n",
      "[16]\tvalid_0's binary_logloss: 0.287106\n",
      "[17]\tvalid_0's binary_logloss: 0.287009\n",
      "[18]\tvalid_0's binary_logloss: 0.286931\n",
      "[19]\tvalid_0's binary_logloss: 0.286858\n",
      "[20]\tvalid_0's binary_logloss: 0.286831\n",
      "[21]\tvalid_0's binary_logloss: 0.286841\n",
      "[22]\tvalid_0's binary_logloss: 0.286832\n"
     ]
    },
    {
     "name": "stderr",
     "output_type": "stream",
     "text": [
      "/opt/miniconda3/envs/n6758/lib/python3.8/site-packages/optuna/trial/_trial.py:590: UserWarning: The reported value is ignored because this `step` 22 is already reported.\n",
      "  warnings.warn(\n",
      "/opt/miniconda3/envs/n6758/lib/python3.8/site-packages/optuna/trial/_trial.py:590: UserWarning: The reported value is ignored because this `step` 23 is already reported.\n",
      "  warnings.warn(\n",
      "/opt/miniconda3/envs/n6758/lib/python3.8/site-packages/optuna/trial/_trial.py:590: UserWarning: The reported value is ignored because this `step` 24 is already reported.\n",
      "  warnings.warn(\n",
      "/opt/miniconda3/envs/n6758/lib/python3.8/site-packages/optuna/trial/_trial.py:590: UserWarning: The reported value is ignored because this `step` 25 is already reported.\n",
      "  warnings.warn(\n",
      "/opt/miniconda3/envs/n6758/lib/python3.8/site-packages/optuna/trial/_trial.py:590: UserWarning: The reported value is ignored because this `step` 26 is already reported.\n",
      "  warnings.warn(\n",
      "/opt/miniconda3/envs/n6758/lib/python3.8/site-packages/optuna/trial/_trial.py:590: UserWarning: The reported value is ignored because this `step` 27 is already reported.\n",
      "  warnings.warn(\n",
      "/opt/miniconda3/envs/n6758/lib/python3.8/site-packages/optuna/trial/_trial.py:590: UserWarning: The reported value is ignored because this `step` 28 is already reported.\n",
      "  warnings.warn(\n",
      "/opt/miniconda3/envs/n6758/lib/python3.8/site-packages/optuna/trial/_trial.py:590: UserWarning: The reported value is ignored because this `step` 29 is already reported.\n",
      "  warnings.warn(\n",
      "/opt/miniconda3/envs/n6758/lib/python3.8/site-packages/optuna/trial/_trial.py:590: UserWarning: The reported value is ignored because this `step` 30 is already reported.\n",
      "  warnings.warn(\n"
     ]
    },
    {
     "name": "stdout",
     "output_type": "stream",
     "text": [
      "[23]\tvalid_0's binary_logloss: 0.286811\n",
      "[24]\tvalid_0's binary_logloss: 0.286797\n",
      "[25]\tvalid_0's binary_logloss: 0.286809\n",
      "[26]\tvalid_0's binary_logloss: 0.286796\n",
      "[27]\tvalid_0's binary_logloss: 0.286852\n",
      "[28]\tvalid_0's binary_logloss: 0.286864\n",
      "[29]\tvalid_0's binary_logloss: 0.286858\n",
      "[30]\tvalid_0's binary_logloss: 0.286896\n",
      "[31]\tvalid_0's binary_logloss: 0.286935\n"
     ]
    },
    {
     "name": "stderr",
     "output_type": "stream",
     "text": [
      "/opt/miniconda3/envs/n6758/lib/python3.8/site-packages/optuna/trial/_trial.py:590: UserWarning: The reported value is ignored because this `step` 31 is already reported.\n",
      "  warnings.warn(\n",
      "/opt/miniconda3/envs/n6758/lib/python3.8/site-packages/optuna/trial/_trial.py:590: UserWarning: The reported value is ignored because this `step` 32 is already reported.\n",
      "  warnings.warn(\n"
     ]
    },
    {
     "name": "stdout",
     "output_type": "stream",
     "text": [
      "[32]\tvalid_0's binary_logloss: 0.286976\n",
      "[33]\tvalid_0's binary_logloss: 0.287007\n",
      "[34]\tvalid_0's binary_logloss: 0.287003\n",
      "[35]\tvalid_0's binary_logloss: 0.287025\n",
      "[36]\tvalid_0's binary_logloss: 0.28704\n",
      "Early stopping, best iteration is:\n",
      "[26]\tvalid_0's binary_logloss: 0.286796\n"
     ]
    },
    {
     "name": "stderr",
     "output_type": "stream",
     "text": [
      "/opt/miniconda3/envs/n6758/lib/python3.8/site-packages/optuna/trial/_trial.py:590: UserWarning: The reported value is ignored because this `step` 0 is already reported.\n",
      "  warnings.warn(\n",
      "/opt/miniconda3/envs/n6758/lib/python3.8/site-packages/optuna/trial/_trial.py:590: UserWarning: The reported value is ignored because this `step` 1 is already reported.\n",
      "  warnings.warn(\n",
      "/opt/miniconda3/envs/n6758/lib/python3.8/site-packages/optuna/trial/_trial.py:590: UserWarning: The reported value is ignored because this `step` 2 is already reported.\n",
      "  warnings.warn(\n",
      "/opt/miniconda3/envs/n6758/lib/python3.8/site-packages/optuna/trial/_trial.py:590: UserWarning: The reported value is ignored because this `step` 3 is already reported.\n",
      "  warnings.warn(\n",
      "/opt/miniconda3/envs/n6758/lib/python3.8/site-packages/optuna/trial/_trial.py:590: UserWarning: The reported value is ignored because this `step` 4 is already reported.\n",
      "  warnings.warn(\n",
      "/opt/miniconda3/envs/n6758/lib/python3.8/site-packages/optuna/trial/_trial.py:590: UserWarning: The reported value is ignored because this `step` 5 is already reported.\n",
      "  warnings.warn(\n",
      "/opt/miniconda3/envs/n6758/lib/python3.8/site-packages/optuna/trial/_trial.py:590: UserWarning: The reported value is ignored because this `step` 6 is already reported.\n",
      "  warnings.warn(\n",
      "/opt/miniconda3/envs/n6758/lib/python3.8/site-packages/optuna/trial/_trial.py:590: UserWarning: The reported value is ignored because this `step` 7 is already reported.\n",
      "  warnings.warn(\n",
      "/opt/miniconda3/envs/n6758/lib/python3.8/site-packages/optuna/trial/_trial.py:590: UserWarning: The reported value is ignored because this `step` 8 is already reported.\n",
      "  warnings.warn(\n",
      "/opt/miniconda3/envs/n6758/lib/python3.8/site-packages/optuna/trial/_trial.py:590: UserWarning: The reported value is ignored because this `step` 9 is already reported.\n",
      "  warnings.warn(\n",
      "/opt/miniconda3/envs/n6758/lib/python3.8/site-packages/optuna/trial/_trial.py:590: UserWarning: The reported value is ignored because this `step` 10 is already reported.\n",
      "  warnings.warn(\n"
     ]
    },
    {
     "name": "stdout",
     "output_type": "stream",
     "text": [
      "[1]\tvalid_0's binary_logloss: 0.305602\n",
      "Training until validation scores don't improve for 10 rounds\n",
      "[2]\tvalid_0's binary_logloss: 0.301199\n",
      "[3]\tvalid_0's binary_logloss: 0.297868\n",
      "[4]\tvalid_0's binary_logloss: 0.295299\n",
      "[5]\tvalid_0's binary_logloss: 0.293332\n",
      "[6]\tvalid_0's binary_logloss: 0.291777\n",
      "[7]\tvalid_0's binary_logloss: 0.290501\n",
      "[8]\tvalid_0's binary_logloss: 0.289514\n",
      "[9]\tvalid_0's binary_logloss: 0.288709\n",
      "[10]\tvalid_0's binary_logloss: 0.288077\n",
      "[11]\tvalid_0's binary_logloss: 0.28761\n"
     ]
    },
    {
     "name": "stderr",
     "output_type": "stream",
     "text": [
      "/opt/miniconda3/envs/n6758/lib/python3.8/site-packages/optuna/trial/_trial.py:590: UserWarning: The reported value is ignored because this `step` 11 is already reported.\n",
      "  warnings.warn(\n",
      "/opt/miniconda3/envs/n6758/lib/python3.8/site-packages/optuna/trial/_trial.py:590: UserWarning: The reported value is ignored because this `step` 12 is already reported.\n",
      "  warnings.warn(\n",
      "/opt/miniconda3/envs/n6758/lib/python3.8/site-packages/optuna/trial/_trial.py:590: UserWarning: The reported value is ignored because this `step` 13 is already reported.\n",
      "  warnings.warn(\n",
      "/opt/miniconda3/envs/n6758/lib/python3.8/site-packages/optuna/trial/_trial.py:590: UserWarning: The reported value is ignored because this `step` 14 is already reported.\n",
      "  warnings.warn(\n",
      "/opt/miniconda3/envs/n6758/lib/python3.8/site-packages/optuna/trial/_trial.py:590: UserWarning: The reported value is ignored because this `step` 15 is already reported.\n",
      "  warnings.warn(\n",
      "/opt/miniconda3/envs/n6758/lib/python3.8/site-packages/optuna/trial/_trial.py:590: UserWarning: The reported value is ignored because this `step` 16 is already reported.\n",
      "  warnings.warn(\n",
      "/opt/miniconda3/envs/n6758/lib/python3.8/site-packages/optuna/trial/_trial.py:590: UserWarning: The reported value is ignored because this `step` 17 is already reported.\n",
      "  warnings.warn(\n",
      "/opt/miniconda3/envs/n6758/lib/python3.8/site-packages/optuna/trial/_trial.py:590: UserWarning: The reported value is ignored because this `step` 18 is already reported.\n",
      "  warnings.warn(\n",
      "/opt/miniconda3/envs/n6758/lib/python3.8/site-packages/optuna/trial/_trial.py:590: UserWarning: The reported value is ignored because this `step` 19 is already reported.\n",
      "  warnings.warn(\n",
      "/opt/miniconda3/envs/n6758/lib/python3.8/site-packages/optuna/trial/_trial.py:590: UserWarning: The reported value is ignored because this `step` 20 is already reported.\n",
      "  warnings.warn(\n",
      "/opt/miniconda3/envs/n6758/lib/python3.8/site-packages/optuna/trial/_trial.py:590: UserWarning: The reported value is ignored because this `step` 21 is already reported.\n",
      "  warnings.warn(\n"
     ]
    },
    {
     "name": "stdout",
     "output_type": "stream",
     "text": [
      "[12]\tvalid_0's binary_logloss: 0.287209\n",
      "[13]\tvalid_0's binary_logloss: 0.286903\n",
      "[14]\tvalid_0's binary_logloss: 0.28666\n",
      "[15]\tvalid_0's binary_logloss: 0.286449\n",
      "[16]\tvalid_0's binary_logloss: 0.286268\n",
      "[17]\tvalid_0's binary_logloss: 0.286134\n",
      "[18]\tvalid_0's binary_logloss: 0.286025\n",
      "[19]\tvalid_0's binary_logloss: 0.285943\n",
      "[20]\tvalid_0's binary_logloss: 0.285895\n",
      "[21]\tvalid_0's binary_logloss: 0.285851\n",
      "[22]\tvalid_0's binary_logloss: 0.285858\n"
     ]
    },
    {
     "name": "stderr",
     "output_type": "stream",
     "text": [
      "/opt/miniconda3/envs/n6758/lib/python3.8/site-packages/optuna/trial/_trial.py:590: UserWarning: The reported value is ignored because this `step` 22 is already reported.\n",
      "  warnings.warn(\n",
      "/opt/miniconda3/envs/n6758/lib/python3.8/site-packages/optuna/trial/_trial.py:590: UserWarning: The reported value is ignored because this `step` 23 is already reported.\n",
      "  warnings.warn(\n",
      "/opt/miniconda3/envs/n6758/lib/python3.8/site-packages/optuna/trial/_trial.py:590: UserWarning: The reported value is ignored because this `step` 24 is already reported.\n",
      "  warnings.warn(\n",
      "/opt/miniconda3/envs/n6758/lib/python3.8/site-packages/optuna/trial/_trial.py:590: UserWarning: The reported value is ignored because this `step` 25 is already reported.\n",
      "  warnings.warn(\n",
      "/opt/miniconda3/envs/n6758/lib/python3.8/site-packages/optuna/trial/_trial.py:590: UserWarning: The reported value is ignored because this `step` 26 is already reported.\n",
      "  warnings.warn(\n",
      "/opt/miniconda3/envs/n6758/lib/python3.8/site-packages/optuna/trial/_trial.py:590: UserWarning: The reported value is ignored because this `step` 27 is already reported.\n",
      "  warnings.warn(\n",
      "/opt/miniconda3/envs/n6758/lib/python3.8/site-packages/optuna/trial/_trial.py:590: UserWarning: The reported value is ignored because this `step` 28 is already reported.\n",
      "  warnings.warn(\n",
      "/opt/miniconda3/envs/n6758/lib/python3.8/site-packages/optuna/trial/_trial.py:590: UserWarning: The reported value is ignored because this `step` 29 is already reported.\n",
      "  warnings.warn(\n",
      "/opt/miniconda3/envs/n6758/lib/python3.8/site-packages/optuna/trial/_trial.py:590: UserWarning: The reported value is ignored because this `step` 30 is already reported.\n",
      "  warnings.warn(\n",
      "/opt/miniconda3/envs/n6758/lib/python3.8/site-packages/optuna/trial/_trial.py:590: UserWarning: The reported value is ignored because this `step` 31 is already reported.\n",
      "  warnings.warn(\n",
      "/opt/miniconda3/envs/n6758/lib/python3.8/site-packages/optuna/trial/_trial.py:590: UserWarning: The reported value is ignored because this `step` 32 is already reported.\n",
      "  warnings.warn(\n",
      "/opt/miniconda3/envs/n6758/lib/python3.8/site-packages/optuna/trial/_trial.py:590: UserWarning: The reported value is ignored because this `step` 33 is already reported.\n",
      "  warnings.warn(\n",
      "/opt/miniconda3/envs/n6758/lib/python3.8/site-packages/optuna/trial/_trial.py:590: UserWarning: The reported value is ignored because this `step` 34 is already reported.\n",
      "  warnings.warn(\n"
     ]
    },
    {
     "name": "stdout",
     "output_type": "stream",
     "text": [
      "[23]\tvalid_0's binary_logloss: 0.285833\n",
      "[24]\tvalid_0's binary_logloss: 0.285819\n",
      "[25]\tvalid_0's binary_logloss: 0.285794\n",
      "[26]\tvalid_0's binary_logloss: 0.285799\n",
      "[27]\tvalid_0's binary_logloss: 0.28581\n",
      "[28]\tvalid_0's binary_logloss: 0.285829\n",
      "[29]\tvalid_0's binary_logloss: 0.285831\n",
      "[30]\tvalid_0's binary_logloss: 0.285863\n",
      "[31]\tvalid_0's binary_logloss: 0.285863\n",
      "[32]\tvalid_0's binary_logloss: 0.285871\n",
      "[33]\tvalid_0's binary_logloss: 0.285885\n",
      "[34]\tvalid_0's binary_logloss: 0.285912\n",
      "[35]\tvalid_0's binary_logloss: 0.28594\n",
      "Early stopping, best iteration is:\n",
      "[25]\tvalid_0's binary_logloss: 0.285794\n"
     ]
    },
    {
     "name": "stderr",
     "output_type": "stream",
     "text": [
      "\u001B[32m[I 2021-11-22 17:47:23,536]\u001B[0m Trial 1 finished with value: 0.2863770446221596 and parameters: {'n_estimators': 50, 'learning_rate': 0.12053760371035666, 'num_leaves': 100, 'max_depth': 11}. Best is trial 0 with value: 0.2858774709760706.\u001B[0m\n"
     ]
    },
    {
     "name": "stdout",
     "output_type": "stream",
     "text": [
      "[1]\tvalid_0's binary_logloss: 0.302655\n",
      "Training until validation scores don't improve for 10 rounds\n",
      "[2]\tvalid_0's binary_logloss: 0.297286\n",
      "[3]\tvalid_0's binary_logloss: 0.293825\n",
      "[4]\tvalid_0's binary_logloss: 0.291466\n",
      "[5]\tvalid_0's binary_logloss: 0.289846\n",
      "[6]\tvalid_0's binary_logloss: 0.288723\n",
      "[7]\tvalid_0's binary_logloss: 0.287947\n",
      "[8]\tvalid_0's binary_logloss: 0.287452\n",
      "[9]\tvalid_0's binary_logloss: 0.287092\n",
      "[10]\tvalid_0's binary_logloss: 0.286876\n",
      "[11]\tvalid_0's binary_logloss: 0.286729\n",
      "[12]\tvalid_0's binary_logloss: 0.286615\n",
      "[13]\tvalid_0's binary_logloss: 0.286597\n",
      "[14]\tvalid_0's binary_logloss: 0.286567\n",
      "[15]\tvalid_0's binary_logloss: 0.286561\n",
      "[16]\tvalid_0's binary_logloss: 0.286557\n",
      "[17]\tvalid_0's binary_logloss: 0.286615\n",
      "[18]\tvalid_0's binary_logloss: 0.286637\n",
      "[19]\tvalid_0's binary_logloss: 0.286668\n",
      "[20]\tvalid_0's binary_logloss: 0.28669\n",
      "[21]\tvalid_0's binary_logloss: 0.286741\n",
      "[22]\tvalid_0's binary_logloss: 0.286753\n",
      "[23]\tvalid_0's binary_logloss: 0.286813\n",
      "[24]\tvalid_0's binary_logloss: 0.286851\n",
      "[25]\tvalid_0's binary_logloss: 0.286876\n",
      "[26]\tvalid_0's binary_logloss: 0.286938\n",
      "Early stopping, best iteration is:\n",
      "[16]\tvalid_0's binary_logloss: 0.286557\n"
     ]
    },
    {
     "name": "stderr",
     "output_type": "stream",
     "text": [
      "/opt/miniconda3/envs/n6758/lib/python3.8/site-packages/optuna/trial/_trial.py:590: UserWarning: The reported value is ignored because this `step` 0 is already reported.\n",
      "  warnings.warn(\n",
      "/opt/miniconda3/envs/n6758/lib/python3.8/site-packages/optuna/trial/_trial.py:590: UserWarning: The reported value is ignored because this `step` 1 is already reported.\n",
      "  warnings.warn(\n",
      "/opt/miniconda3/envs/n6758/lib/python3.8/site-packages/optuna/trial/_trial.py:590: UserWarning: The reported value is ignored because this `step` 2 is already reported.\n",
      "  warnings.warn(\n",
      "/opt/miniconda3/envs/n6758/lib/python3.8/site-packages/optuna/trial/_trial.py:590: UserWarning: The reported value is ignored because this `step` 3 is already reported.\n",
      "  warnings.warn(\n",
      "/opt/miniconda3/envs/n6758/lib/python3.8/site-packages/optuna/trial/_trial.py:590: UserWarning: The reported value is ignored because this `step` 4 is already reported.\n",
      "  warnings.warn(\n",
      "/opt/miniconda3/envs/n6758/lib/python3.8/site-packages/optuna/trial/_trial.py:590: UserWarning: The reported value is ignored because this `step` 5 is already reported.\n",
      "  warnings.warn(\n",
      "/opt/miniconda3/envs/n6758/lib/python3.8/site-packages/optuna/trial/_trial.py:590: UserWarning: The reported value is ignored because this `step` 6 is already reported.\n",
      "  warnings.warn(\n",
      "/opt/miniconda3/envs/n6758/lib/python3.8/site-packages/optuna/trial/_trial.py:590: UserWarning: The reported value is ignored because this `step` 7 is already reported.\n",
      "  warnings.warn(\n"
     ]
    },
    {
     "name": "stdout",
     "output_type": "stream",
     "text": [
      "[1]\tvalid_0's binary_logloss: 0.302818\n",
      "Training until validation scores don't improve for 10 rounds\n",
      "[2]\tvalid_0's binary_logloss: 0.297494\n",
      "[3]\tvalid_0's binary_logloss: 0.294003\n",
      "[4]\tvalid_0's binary_logloss: 0.291655\n",
      "[5]\tvalid_0's binary_logloss: 0.290063\n",
      "[6]\tvalid_0's binary_logloss: 0.28898\n",
      "[7]\tvalid_0's binary_logloss: 0.288248\n",
      "[8]\tvalid_0's binary_logloss: 0.287741\n"
     ]
    },
    {
     "name": "stderr",
     "output_type": "stream",
     "text": [
      "/opt/miniconda3/envs/n6758/lib/python3.8/site-packages/optuna/trial/_trial.py:590: UserWarning: The reported value is ignored because this `step` 8 is already reported.\n",
      "  warnings.warn(\n",
      "/opt/miniconda3/envs/n6758/lib/python3.8/site-packages/optuna/trial/_trial.py:590: UserWarning: The reported value is ignored because this `step` 9 is already reported.\n",
      "  warnings.warn(\n",
      "/opt/miniconda3/envs/n6758/lib/python3.8/site-packages/optuna/trial/_trial.py:590: UserWarning: The reported value is ignored because this `step` 10 is already reported.\n",
      "  warnings.warn(\n",
      "/opt/miniconda3/envs/n6758/lib/python3.8/site-packages/optuna/trial/_trial.py:590: UserWarning: The reported value is ignored because this `step` 11 is already reported.\n",
      "  warnings.warn(\n",
      "/opt/miniconda3/envs/n6758/lib/python3.8/site-packages/optuna/trial/_trial.py:590: UserWarning: The reported value is ignored because this `step` 12 is already reported.\n",
      "  warnings.warn(\n",
      "/opt/miniconda3/envs/n6758/lib/python3.8/site-packages/optuna/trial/_trial.py:590: UserWarning: The reported value is ignored because this `step` 13 is already reported.\n",
      "  warnings.warn(\n"
     ]
    },
    {
     "name": "stdout",
     "output_type": "stream",
     "text": [
      "[9]\tvalid_0's binary_logloss: 0.287401\n",
      "[10]\tvalid_0's binary_logloss: 0.287175\n",
      "[11]\tvalid_0's binary_logloss: 0.287017\n",
      "[12]\tvalid_0's binary_logloss: 0.286927\n",
      "[13]\tvalid_0's binary_logloss: 0.286921\n",
      "[14]\tvalid_0's binary_logloss: 0.286882\n"
     ]
    },
    {
     "name": "stderr",
     "output_type": "stream",
     "text": [
      "/opt/miniconda3/envs/n6758/lib/python3.8/site-packages/optuna/trial/_trial.py:590: UserWarning: The reported value is ignored because this `step` 14 is already reported.\n",
      "  warnings.warn(\n",
      "/opt/miniconda3/envs/n6758/lib/python3.8/site-packages/optuna/trial/_trial.py:590: UserWarning: The reported value is ignored because this `step` 15 is already reported.\n",
      "  warnings.warn(\n",
      "/opt/miniconda3/envs/n6758/lib/python3.8/site-packages/optuna/trial/_trial.py:590: UserWarning: The reported value is ignored because this `step` 16 is already reported.\n",
      "  warnings.warn(\n",
      "/opt/miniconda3/envs/n6758/lib/python3.8/site-packages/optuna/trial/_trial.py:590: UserWarning: The reported value is ignored because this `step` 17 is already reported.\n",
      "  warnings.warn(\n",
      "/opt/miniconda3/envs/n6758/lib/python3.8/site-packages/optuna/trial/_trial.py:590: UserWarning: The reported value is ignored because this `step` 18 is already reported.\n",
      "  warnings.warn(\n",
      "/opt/miniconda3/envs/n6758/lib/python3.8/site-packages/optuna/trial/_trial.py:590: UserWarning: The reported value is ignored because this `step` 19 is already reported.\n",
      "  warnings.warn(\n",
      "/opt/miniconda3/envs/n6758/lib/python3.8/site-packages/optuna/trial/_trial.py:590: UserWarning: The reported value is ignored because this `step` 20 is already reported.\n",
      "  warnings.warn(\n",
      "/opt/miniconda3/envs/n6758/lib/python3.8/site-packages/optuna/trial/_trial.py:590: UserWarning: The reported value is ignored because this `step` 21 is already reported.\n",
      "  warnings.warn(\n",
      "/opt/miniconda3/envs/n6758/lib/python3.8/site-packages/optuna/trial/_trial.py:590: UserWarning: The reported value is ignored because this `step` 22 is already reported.\n",
      "  warnings.warn(\n",
      "/opt/miniconda3/envs/n6758/lib/python3.8/site-packages/optuna/trial/_trial.py:590: UserWarning: The reported value is ignored because this `step` 23 is already reported.\n",
      "  warnings.warn(\n",
      "/opt/miniconda3/envs/n6758/lib/python3.8/site-packages/optuna/trial/_trial.py:590: UserWarning: The reported value is ignored because this `step` 24 is already reported.\n",
      "  warnings.warn(\n"
     ]
    },
    {
     "name": "stdout",
     "output_type": "stream",
     "text": [
      "[15]\tvalid_0's binary_logloss: 0.286861\n",
      "[16]\tvalid_0's binary_logloss: 0.286885\n",
      "[17]\tvalid_0's binary_logloss: 0.286928\n",
      "[18]\tvalid_0's binary_logloss: 0.286958\n",
      "[19]\tvalid_0's binary_logloss: 0.286995\n",
      "[20]\tvalid_0's binary_logloss: 0.287028\n",
      "[21]\tvalid_0's binary_logloss: 0.287071\n",
      "[22]\tvalid_0's binary_logloss: 0.287105\n",
      "[23]\tvalid_0's binary_logloss: 0.287137\n",
      "[24]\tvalid_0's binary_logloss: 0.287177\n",
      "[25]\tvalid_0's binary_logloss: 0.28719\n",
      "Early stopping, best iteration is:\n",
      "[15]\tvalid_0's binary_logloss: 0.286861\n"
     ]
    },
    {
     "name": "stderr",
     "output_type": "stream",
     "text": [
      "/opt/miniconda3/envs/n6758/lib/python3.8/site-packages/optuna/trial/_trial.py:590: UserWarning: The reported value is ignored because this `step` 0 is already reported.\n",
      "  warnings.warn(\n",
      "/opt/miniconda3/envs/n6758/lib/python3.8/site-packages/optuna/trial/_trial.py:590: UserWarning: The reported value is ignored because this `step` 1 is already reported.\n",
      "  warnings.warn(\n",
      "/opt/miniconda3/envs/n6758/lib/python3.8/site-packages/optuna/trial/_trial.py:590: UserWarning: The reported value is ignored because this `step` 2 is already reported.\n",
      "  warnings.warn(\n",
      "/opt/miniconda3/envs/n6758/lib/python3.8/site-packages/optuna/trial/_trial.py:590: UserWarning: The reported value is ignored because this `step` 3 is already reported.\n",
      "  warnings.warn(\n",
      "/opt/miniconda3/envs/n6758/lib/python3.8/site-packages/optuna/trial/_trial.py:590: UserWarning: The reported value is ignored because this `step` 4 is already reported.\n",
      "  warnings.warn(\n",
      "/opt/miniconda3/envs/n6758/lib/python3.8/site-packages/optuna/trial/_trial.py:590: UserWarning: The reported value is ignored because this `step` 5 is already reported.\n",
      "  warnings.warn(\n",
      "/opt/miniconda3/envs/n6758/lib/python3.8/site-packages/optuna/trial/_trial.py:590: UserWarning: The reported value is ignored because this `step` 6 is already reported.\n",
      "  warnings.warn(\n",
      "/opt/miniconda3/envs/n6758/lib/python3.8/site-packages/optuna/trial/_trial.py:590: UserWarning: The reported value is ignored because this `step` 7 is already reported.\n",
      "  warnings.warn(\n"
     ]
    },
    {
     "name": "stdout",
     "output_type": "stream",
     "text": [
      "[1]\tvalid_0's binary_logloss: 0.302533\n",
      "Training until validation scores don't improve for 10 rounds\n",
      "[2]\tvalid_0's binary_logloss: 0.297092\n",
      "[3]\tvalid_0's binary_logloss: 0.293549\n",
      "[4]\tvalid_0's binary_logloss: 0.291083\n",
      "[5]\tvalid_0's binary_logloss: 0.28942\n",
      "[6]\tvalid_0's binary_logloss: 0.28826\n",
      "[7]\tvalid_0's binary_logloss: 0.287447\n",
      "[8]\tvalid_0's binary_logloss: 0.286907\n"
     ]
    },
    {
     "name": "stderr",
     "output_type": "stream",
     "text": [
      "/opt/miniconda3/envs/n6758/lib/python3.8/site-packages/optuna/trial/_trial.py:590: UserWarning: The reported value is ignored because this `step` 8 is already reported.\n",
      "  warnings.warn(\n",
      "/opt/miniconda3/envs/n6758/lib/python3.8/site-packages/optuna/trial/_trial.py:590: UserWarning: The reported value is ignored because this `step` 9 is already reported.\n",
      "  warnings.warn(\n",
      "/opt/miniconda3/envs/n6758/lib/python3.8/site-packages/optuna/trial/_trial.py:590: UserWarning: The reported value is ignored because this `step` 10 is already reported.\n",
      "  warnings.warn(\n",
      "/opt/miniconda3/envs/n6758/lib/python3.8/site-packages/optuna/trial/_trial.py:590: UserWarning: The reported value is ignored because this `step` 11 is already reported.\n",
      "  warnings.warn(\n",
      "/opt/miniconda3/envs/n6758/lib/python3.8/site-packages/optuna/trial/_trial.py:590: UserWarning: The reported value is ignored because this `step` 12 is already reported.\n",
      "  warnings.warn(\n"
     ]
    },
    {
     "name": "stdout",
     "output_type": "stream",
     "text": [
      "[9]\tvalid_0's binary_logloss: 0.286529\n",
      "[10]\tvalid_0's binary_logloss: 0.286243\n",
      "[11]\tvalid_0's binary_logloss: 0.286058\n",
      "[12]\tvalid_0's binary_logloss: 0.285968\n",
      "[13]\tvalid_0's binary_logloss: 0.285857\n"
     ]
    },
    {
     "name": "stderr",
     "output_type": "stream",
     "text": [
      "/opt/miniconda3/envs/n6758/lib/python3.8/site-packages/optuna/trial/_trial.py:590: UserWarning: The reported value is ignored because this `step` 13 is already reported.\n",
      "  warnings.warn(\n",
      "/opt/miniconda3/envs/n6758/lib/python3.8/site-packages/optuna/trial/_trial.py:590: UserWarning: The reported value is ignored because this `step` 14 is already reported.\n",
      "  warnings.warn(\n",
      "/opt/miniconda3/envs/n6758/lib/python3.8/site-packages/optuna/trial/_trial.py:590: UserWarning: The reported value is ignored because this `step` 15 is already reported.\n",
      "  warnings.warn(\n",
      "/opt/miniconda3/envs/n6758/lib/python3.8/site-packages/optuna/trial/_trial.py:590: UserWarning: The reported value is ignored because this `step` 16 is already reported.\n",
      "  warnings.warn(\n",
      "/opt/miniconda3/envs/n6758/lib/python3.8/site-packages/optuna/trial/_trial.py:590: UserWarning: The reported value is ignored because this `step` 17 is already reported.\n",
      "  warnings.warn(\n",
      "/opt/miniconda3/envs/n6758/lib/python3.8/site-packages/optuna/trial/_trial.py:590: UserWarning: The reported value is ignored because this `step` 18 is already reported.\n",
      "  warnings.warn(\n",
      "/opt/miniconda3/envs/n6758/lib/python3.8/site-packages/optuna/trial/_trial.py:590: UserWarning: The reported value is ignored because this `step` 19 is already reported.\n",
      "  warnings.warn(\n",
      "/opt/miniconda3/envs/n6758/lib/python3.8/site-packages/optuna/trial/_trial.py:590: UserWarning: The reported value is ignored because this `step` 20 is already reported.\n",
      "  warnings.warn(\n",
      "/opt/miniconda3/envs/n6758/lib/python3.8/site-packages/optuna/trial/_trial.py:590: UserWarning: The reported value is ignored because this `step` 21 is already reported.\n",
      "  warnings.warn(\n",
      "/opt/miniconda3/envs/n6758/lib/python3.8/site-packages/optuna/trial/_trial.py:590: UserWarning: The reported value is ignored because this `step` 22 is already reported.\n",
      "  warnings.warn(\n",
      "/opt/miniconda3/envs/n6758/lib/python3.8/site-packages/optuna/trial/_trial.py:590: UserWarning: The reported value is ignored because this `step` 23 is already reported.\n",
      "  warnings.warn(\n",
      "/opt/miniconda3/envs/n6758/lib/python3.8/site-packages/optuna/trial/_trial.py:590: UserWarning: The reported value is ignored because this `step` 24 is already reported.\n",
      "  warnings.warn(\n"
     ]
    },
    {
     "name": "stdout",
     "output_type": "stream",
     "text": [
      "[14]\tvalid_0's binary_logloss: 0.285808\n",
      "[15]\tvalid_0's binary_logloss: 0.28577\n",
      "[16]\tvalid_0's binary_logloss: 0.285771\n",
      "[17]\tvalid_0's binary_logloss: 0.285805\n",
      "[18]\tvalid_0's binary_logloss: 0.285848\n",
      "[19]\tvalid_0's binary_logloss: 0.285868\n",
      "[20]\tvalid_0's binary_logloss: 0.285942\n",
      "[21]\tvalid_0's binary_logloss: 0.285998\n",
      "[22]\tvalid_0's binary_logloss: 0.286037\n",
      "[23]\tvalid_0's binary_logloss: 0.286061\n",
      "[24]\tvalid_0's binary_logloss: 0.28611\n",
      "[25]\tvalid_0's binary_logloss: 0.28615\n",
      "Early stopping, best iteration is:\n",
      "[15]\tvalid_0's binary_logloss: 0.28577\n"
     ]
    },
    {
     "name": "stderr",
     "output_type": "stream",
     "text": [
      "\u001B[32m[I 2021-11-22 17:47:27,825]\u001B[0m Trial 2 finished with value: 0.2863958141321572 and parameters: {'n_estimators': 200, 'learning_rate': 0.18843492822555155, 'num_leaves': 80, 'max_depth': 9}. Best is trial 0 with value: 0.2858774709760706.\u001B[0m\n"
     ]
    },
    {
     "name": "stdout",
     "output_type": "stream",
     "text": [
      "[1]\tvalid_0's binary_logloss: 0.308413\n",
      "Training until validation scores don't improve for 10 rounds\n",
      "[2]\tvalid_0's binary_logloss: 0.305643\n",
      "[3]\tvalid_0's binary_logloss: 0.30327\n",
      "[4]\tvalid_0's binary_logloss: 0.30122\n",
      "[5]\tvalid_0's binary_logloss: 0.299438\n",
      "[6]\tvalid_0's binary_logloss: 0.297872\n",
      "[7]\tvalid_0's binary_logloss: 0.296506\n",
      "[8]\tvalid_0's binary_logloss: 0.295303\n",
      "[9]\tvalid_0's binary_logloss: 0.294249\n",
      "[10]\tvalid_0's binary_logloss: 0.293311\n",
      "[11]\tvalid_0's binary_logloss: 0.292492\n",
      "[12]\tvalid_0's binary_logloss: 0.291765\n",
      "[13]\tvalid_0's binary_logloss: 0.291119\n",
      "[14]\tvalid_0's binary_logloss: 0.290543\n",
      "[15]\tvalid_0's binary_logloss: 0.290035\n",
      "[16]\tvalid_0's binary_logloss: 0.28957\n",
      "[17]\tvalid_0's binary_logloss: 0.289162\n",
      "[18]\tvalid_0's binary_logloss: 0.288806\n",
      "[19]\tvalid_0's binary_logloss: 0.288489\n",
      "[20]\tvalid_0's binary_logloss: 0.288204\n",
      "[21]\tvalid_0's binary_logloss: 0.287949\n",
      "[22]\tvalid_0's binary_logloss: 0.287722\n",
      "[23]\tvalid_0's binary_logloss: 0.287532\n",
      "[24]\tvalid_0's binary_logloss: 0.287355\n",
      "[25]\tvalid_0's binary_logloss: 0.287212\n",
      "[26]\tvalid_0's binary_logloss: 0.287076\n",
      "[27]\tvalid_0's binary_logloss: 0.28696\n",
      "[28]\tvalid_0's binary_logloss: 0.286856\n",
      "[29]\tvalid_0's binary_logloss: 0.286763\n",
      "[30]\tvalid_0's binary_logloss: 0.286683\n",
      "[31]\tvalid_0's binary_logloss: 0.286611\n",
      "[32]\tvalid_0's binary_logloss: 0.286543\n",
      "[33]\tvalid_0's binary_logloss: 0.286485\n",
      "[34]\tvalid_0's binary_logloss: 0.286437\n",
      "[35]\tvalid_0's binary_logloss: 0.286398\n",
      "[36]\tvalid_0's binary_logloss: 0.286359\n",
      "[37]\tvalid_0's binary_logloss: 0.286331\n",
      "[38]\tvalid_0's binary_logloss: 0.286293\n",
      "[39]\tvalid_0's binary_logloss: 0.286261\n",
      "[40]\tvalid_0's binary_logloss: 0.28623\n",
      "[41]\tvalid_0's binary_logloss: 0.28621\n",
      "[42]\tvalid_0's binary_logloss: 0.286188\n",
      "[43]\tvalid_0's binary_logloss: 0.286167\n",
      "[44]\tvalid_0's binary_logloss: 0.286159\n",
      "[45]\tvalid_0's binary_logloss: 0.286138\n",
      "[46]\tvalid_0's binary_logloss: 0.286122\n",
      "[47]\tvalid_0's binary_logloss: 0.2861\n",
      "[48]\tvalid_0's binary_logloss: 0.286093\n",
      "[49]\tvalid_0's binary_logloss: 0.28608\n",
      "[50]\tvalid_0's binary_logloss: 0.286082\n",
      "[51]\tvalid_0's binary_logloss: 0.286078\n",
      "[52]\tvalid_0's binary_logloss: 0.286072\n",
      "[53]\tvalid_0's binary_logloss: 0.286076\n",
      "[54]\tvalid_0's binary_logloss: 0.286077\n",
      "[55]\tvalid_0's binary_logloss: 0.286073\n",
      "[56]\tvalid_0's binary_logloss: 0.28608\n",
      "[57]\tvalid_0's binary_logloss: 0.286075\n",
      "[58]\tvalid_0's binary_logloss: 0.28608\n",
      "[59]\tvalid_0's binary_logloss: 0.286084\n",
      "[60]\tvalid_0's binary_logloss: 0.286085\n",
      "[61]\tvalid_0's binary_logloss: 0.28608\n",
      "[62]\tvalid_0's binary_logloss: 0.286083\n",
      "Early stopping, best iteration is:\n",
      "[52]\tvalid_0's binary_logloss: 0.286072\n"
     ]
    },
    {
     "name": "stderr",
     "output_type": "stream",
     "text": [
      "/opt/miniconda3/envs/n6758/lib/python3.8/site-packages/optuna/trial/_trial.py:590: UserWarning: The reported value is ignored because this `step` 0 is already reported.\n",
      "  warnings.warn(\n",
      "/opt/miniconda3/envs/n6758/lib/python3.8/site-packages/optuna/trial/_trial.py:590: UserWarning: The reported value is ignored because this `step` 1 is already reported.\n",
      "  warnings.warn(\n",
      "/opt/miniconda3/envs/n6758/lib/python3.8/site-packages/optuna/trial/_trial.py:590: UserWarning: The reported value is ignored because this `step` 2 is already reported.\n",
      "  warnings.warn(\n",
      "/opt/miniconda3/envs/n6758/lib/python3.8/site-packages/optuna/trial/_trial.py:590: UserWarning: The reported value is ignored because this `step` 3 is already reported.\n",
      "  warnings.warn(\n",
      "/opt/miniconda3/envs/n6758/lib/python3.8/site-packages/optuna/trial/_trial.py:590: UserWarning: The reported value is ignored because this `step` 4 is already reported.\n",
      "  warnings.warn(\n"
     ]
    },
    {
     "name": "stdout",
     "output_type": "stream",
     "text": [
      "[1]\tvalid_0's binary_logloss: 0.30844\n",
      "Training until validation scores don't improve for 10 rounds\n",
      "[2]\tvalid_0's binary_logloss: 0.30567\n",
      "[3]\tvalid_0's binary_logloss: 0.303287\n",
      "[4]\tvalid_0's binary_logloss: 0.301239\n",
      "[5]\tvalid_0's binary_logloss: 0.299464\n"
     ]
    },
    {
     "name": "stderr",
     "output_type": "stream",
     "text": [
      "/opt/miniconda3/envs/n6758/lib/python3.8/site-packages/optuna/trial/_trial.py:590: UserWarning: The reported value is ignored because this `step` 5 is already reported.\n",
      "  warnings.warn(\n",
      "/opt/miniconda3/envs/n6758/lib/python3.8/site-packages/optuna/trial/_trial.py:590: UserWarning: The reported value is ignored because this `step` 6 is already reported.\n",
      "  warnings.warn(\n",
      "/opt/miniconda3/envs/n6758/lib/python3.8/site-packages/optuna/trial/_trial.py:590: UserWarning: The reported value is ignored because this `step` 7 is already reported.\n",
      "  warnings.warn(\n",
      "/opt/miniconda3/envs/n6758/lib/python3.8/site-packages/optuna/trial/_trial.py:590: UserWarning: The reported value is ignored because this `step` 8 is already reported.\n",
      "  warnings.warn(\n",
      "/opt/miniconda3/envs/n6758/lib/python3.8/site-packages/optuna/trial/_trial.py:590: UserWarning: The reported value is ignored because this `step` 9 is already reported.\n",
      "  warnings.warn(\n",
      "/opt/miniconda3/envs/n6758/lib/python3.8/site-packages/optuna/trial/_trial.py:590: UserWarning: The reported value is ignored because this `step` 10 is already reported.\n",
      "  warnings.warn(\n"
     ]
    },
    {
     "name": "stdout",
     "output_type": "stream",
     "text": [
      "[6]\tvalid_0's binary_logloss: 0.297921\n",
      "[7]\tvalid_0's binary_logloss: 0.29656\n",
      "[8]\tvalid_0's binary_logloss: 0.29536\n",
      "[9]\tvalid_0's binary_logloss: 0.294307\n",
      "[10]\tvalid_0's binary_logloss: 0.29338\n",
      "[11]\tvalid_0's binary_logloss: 0.292559\n"
     ]
    },
    {
     "name": "stderr",
     "output_type": "stream",
     "text": [
      "/opt/miniconda3/envs/n6758/lib/python3.8/site-packages/optuna/trial/_trial.py:590: UserWarning: The reported value is ignored because this `step` 11 is already reported.\n",
      "  warnings.warn(\n",
      "/opt/miniconda3/envs/n6758/lib/python3.8/site-packages/optuna/trial/_trial.py:590: UserWarning: The reported value is ignored because this `step` 12 is already reported.\n",
      "  warnings.warn(\n"
     ]
    },
    {
     "name": "stdout",
     "output_type": "stream",
     "text": [
      "[12]\tvalid_0's binary_logloss: 0.291831\n",
      "[13]\tvalid_0's binary_logloss: 0.291192\n"
     ]
    },
    {
     "name": "stderr",
     "output_type": "stream",
     "text": [
      "/opt/miniconda3/envs/n6758/lib/python3.8/site-packages/optuna/trial/_trial.py:590: UserWarning: The reported value is ignored because this `step` 13 is already reported.\n",
      "  warnings.warn(\n"
     ]
    },
    {
     "name": "stdout",
     "output_type": "stream",
     "text": [
      "[14]\tvalid_0's binary_logloss: 0.290621\n"
     ]
    },
    {
     "name": "stderr",
     "output_type": "stream",
     "text": [
      "/opt/miniconda3/envs/n6758/lib/python3.8/site-packages/optuna/trial/_trial.py:590: UserWarning: The reported value is ignored because this `step` 14 is already reported.\n",
      "  warnings.warn(\n",
      "/opt/miniconda3/envs/n6758/lib/python3.8/site-packages/optuna/trial/_trial.py:590: UserWarning: The reported value is ignored because this `step` 15 is already reported.\n",
      "  warnings.warn(\n"
     ]
    },
    {
     "name": "stdout",
     "output_type": "stream",
     "text": [
      "[15]\tvalid_0's binary_logloss: 0.29012\n",
      "[16]\tvalid_0's binary_logloss: 0.289675\n"
     ]
    },
    {
     "name": "stderr",
     "output_type": "stream",
     "text": [
      "/opt/miniconda3/envs/n6758/lib/python3.8/site-packages/optuna/trial/_trial.py:590: UserWarning: The reported value is ignored because this `step` 16 is already reported.\n",
      "  warnings.warn(\n",
      "/opt/miniconda3/envs/n6758/lib/python3.8/site-packages/optuna/trial/_trial.py:590: UserWarning: The reported value is ignored because this `step` 17 is already reported.\n",
      "  warnings.warn(\n",
      "/opt/miniconda3/envs/n6758/lib/python3.8/site-packages/optuna/trial/_trial.py:590: UserWarning: The reported value is ignored because this `step` 18 is already reported.\n",
      "  warnings.warn(\n"
     ]
    },
    {
     "name": "stdout",
     "output_type": "stream",
     "text": [
      "[17]\tvalid_0's binary_logloss: 0.289277\n",
      "[18]\tvalid_0's binary_logloss: 0.288923\n",
      "[19]\tvalid_0's binary_logloss: 0.288616\n"
     ]
    },
    {
     "name": "stderr",
     "output_type": "stream",
     "text": [
      "/opt/miniconda3/envs/n6758/lib/python3.8/site-packages/optuna/trial/_trial.py:590: UserWarning: The reported value is ignored because this `step` 19 is already reported.\n",
      "  warnings.warn(\n",
      "/opt/miniconda3/envs/n6758/lib/python3.8/site-packages/optuna/trial/_trial.py:590: UserWarning: The reported value is ignored because this `step` 20 is already reported.\n",
      "  warnings.warn(\n",
      "/opt/miniconda3/envs/n6758/lib/python3.8/site-packages/optuna/trial/_trial.py:590: UserWarning: The reported value is ignored because this `step` 21 is already reported.\n",
      "  warnings.warn(\n",
      "/opt/miniconda3/envs/n6758/lib/python3.8/site-packages/optuna/trial/_trial.py:590: UserWarning: The reported value is ignored because this `step` 22 is already reported.\n",
      "  warnings.warn(\n"
     ]
    },
    {
     "name": "stdout",
     "output_type": "stream",
     "text": [
      "[20]\tvalid_0's binary_logloss: 0.28835\n",
      "[21]\tvalid_0's binary_logloss: 0.288104\n",
      "[22]\tvalid_0's binary_logloss: 0.287881\n",
      "[23]\tvalid_0's binary_logloss: 0.287692\n"
     ]
    },
    {
     "name": "stderr",
     "output_type": "stream",
     "text": [
      "/opt/miniconda3/envs/n6758/lib/python3.8/site-packages/optuna/trial/_trial.py:590: UserWarning: The reported value is ignored because this `step` 23 is already reported.\n",
      "  warnings.warn(\n",
      "/opt/miniconda3/envs/n6758/lib/python3.8/site-packages/optuna/trial/_trial.py:590: UserWarning: The reported value is ignored because this `step` 24 is already reported.\n",
      "  warnings.warn(\n",
      "/opt/miniconda3/envs/n6758/lib/python3.8/site-packages/optuna/trial/_trial.py:590: UserWarning: The reported value is ignored because this `step` 25 is already reported.\n",
      "  warnings.warn(\n"
     ]
    },
    {
     "name": "stdout",
     "output_type": "stream",
     "text": [
      "[24]\tvalid_0's binary_logloss: 0.287529\n",
      "[25]\tvalid_0's binary_logloss: 0.287377\n",
      "[26]\tvalid_0's binary_logloss: 0.287243\n"
     ]
    },
    {
     "name": "stderr",
     "output_type": "stream",
     "text": [
      "/opt/miniconda3/envs/n6758/lib/python3.8/site-packages/optuna/trial/_trial.py:590: UserWarning: The reported value is ignored because this `step` 26 is already reported.\n",
      "  warnings.warn(\n"
     ]
    },
    {
     "name": "stdout",
     "output_type": "stream",
     "text": [
      "[27]\tvalid_0's binary_logloss: 0.287126\n"
     ]
    },
    {
     "name": "stderr",
     "output_type": "stream",
     "text": [
      "/opt/miniconda3/envs/n6758/lib/python3.8/site-packages/optuna/trial/_trial.py:590: UserWarning: The reported value is ignored because this `step` 27 is already reported.\n",
      "  warnings.warn(\n",
      "/opt/miniconda3/envs/n6758/lib/python3.8/site-packages/optuna/trial/_trial.py:590: UserWarning: The reported value is ignored because this `step` 28 is already reported.\n",
      "  warnings.warn(\n",
      "/opt/miniconda3/envs/n6758/lib/python3.8/site-packages/optuna/trial/_trial.py:590: UserWarning: The reported value is ignored because this `step` 29 is already reported.\n",
      "  warnings.warn(\n"
     ]
    },
    {
     "name": "stdout",
     "output_type": "stream",
     "text": [
      "[28]\tvalid_0's binary_logloss: 0.287015\n",
      "[29]\tvalid_0's binary_logloss: 0.28692\n",
      "[30]\tvalid_0's binary_logloss: 0.286834\n"
     ]
    },
    {
     "name": "stderr",
     "output_type": "stream",
     "text": [
      "/opt/miniconda3/envs/n6758/lib/python3.8/site-packages/optuna/trial/_trial.py:590: UserWarning: The reported value is ignored because this `step` 30 is already reported.\n",
      "  warnings.warn(\n",
      "/opt/miniconda3/envs/n6758/lib/python3.8/site-packages/optuna/trial/_trial.py:590: UserWarning: The reported value is ignored because this `step` 31 is already reported.\n",
      "  warnings.warn(\n",
      "/opt/miniconda3/envs/n6758/lib/python3.8/site-packages/optuna/trial/_trial.py:590: UserWarning: The reported value is ignored because this `step` 32 is already reported.\n",
      "  warnings.warn(\n",
      "/opt/miniconda3/envs/n6758/lib/python3.8/site-packages/optuna/trial/_trial.py:590: UserWarning: The reported value is ignored because this `step` 33 is already reported.\n",
      "  warnings.warn(\n",
      "/opt/miniconda3/envs/n6758/lib/python3.8/site-packages/optuna/trial/_trial.py:590: UserWarning: The reported value is ignored because this `step` 34 is already reported.\n",
      "  warnings.warn(\n",
      "/opt/miniconda3/envs/n6758/lib/python3.8/site-packages/optuna/trial/_trial.py:590: UserWarning: The reported value is ignored because this `step` 35 is already reported.\n",
      "  warnings.warn(\n"
     ]
    },
    {
     "name": "stdout",
     "output_type": "stream",
     "text": [
      "[31]\tvalid_0's binary_logloss: 0.286761\n",
      "[32]\tvalid_0's binary_logloss: 0.286693\n",
      "[33]\tvalid_0's binary_logloss: 0.286636\n",
      "[34]\tvalid_0's binary_logloss: 0.28659\n",
      "[35]\tvalid_0's binary_logloss: 0.286548\n",
      "[36]\tvalid_0's binary_logloss: 0.286506\n"
     ]
    },
    {
     "name": "stderr",
     "output_type": "stream",
     "text": [
      "/opt/miniconda3/envs/n6758/lib/python3.8/site-packages/optuna/trial/_trial.py:590: UserWarning: The reported value is ignored because this `step` 36 is already reported.\n",
      "  warnings.warn(\n",
      "/opt/miniconda3/envs/n6758/lib/python3.8/site-packages/optuna/trial/_trial.py:590: UserWarning: The reported value is ignored because this `step` 37 is already reported.\n",
      "  warnings.warn(\n",
      "/opt/miniconda3/envs/n6758/lib/python3.8/site-packages/optuna/trial/_trial.py:590: UserWarning: The reported value is ignored because this `step` 38 is already reported.\n",
      "  warnings.warn(\n",
      "/opt/miniconda3/envs/n6758/lib/python3.8/site-packages/optuna/trial/_trial.py:590: UserWarning: The reported value is ignored because this `step` 39 is already reported.\n",
      "  warnings.warn(\n",
      "/opt/miniconda3/envs/n6758/lib/python3.8/site-packages/optuna/trial/_trial.py:590: UserWarning: The reported value is ignored because this `step` 40 is already reported.\n",
      "  warnings.warn(\n"
     ]
    },
    {
     "name": "stdout",
     "output_type": "stream",
     "text": [
      "[37]\tvalid_0's binary_logloss: 0.286459\n",
      "[38]\tvalid_0's binary_logloss: 0.286434\n",
      "[39]\tvalid_0's binary_logloss: 0.286406\n",
      "[40]\tvalid_0's binary_logloss: 0.286384\n",
      "[41]\tvalid_0's binary_logloss: 0.286369\n"
     ]
    },
    {
     "name": "stderr",
     "output_type": "stream",
     "text": [
      "/opt/miniconda3/envs/n6758/lib/python3.8/site-packages/optuna/trial/_trial.py:590: UserWarning: The reported value is ignored because this `step` 41 is already reported.\n",
      "  warnings.warn(\n",
      "/opt/miniconda3/envs/n6758/lib/python3.8/site-packages/optuna/trial/_trial.py:590: UserWarning: The reported value is ignored because this `step` 42 is already reported.\n",
      "  warnings.warn(\n",
      "/opt/miniconda3/envs/n6758/lib/python3.8/site-packages/optuna/trial/_trial.py:590: UserWarning: The reported value is ignored because this `step` 43 is already reported.\n",
      "  warnings.warn(\n",
      "/opt/miniconda3/envs/n6758/lib/python3.8/site-packages/optuna/trial/_trial.py:590: UserWarning: The reported value is ignored because this `step` 44 is already reported.\n",
      "  warnings.warn(\n",
      "/opt/miniconda3/envs/n6758/lib/python3.8/site-packages/optuna/trial/_trial.py:590: UserWarning: The reported value is ignored because this `step` 45 is already reported.\n",
      "  warnings.warn(\n"
     ]
    },
    {
     "name": "stdout",
     "output_type": "stream",
     "text": [
      "[42]\tvalid_0's binary_logloss: 0.286349\n",
      "[43]\tvalid_0's binary_logloss: 0.286342\n",
      "[44]\tvalid_0's binary_logloss: 0.286336\n",
      "[45]\tvalid_0's binary_logloss: 0.286325\n",
      "[46]\tvalid_0's binary_logloss: 0.286312\n"
     ]
    },
    {
     "name": "stderr",
     "output_type": "stream",
     "text": [
      "/opt/miniconda3/envs/n6758/lib/python3.8/site-packages/optuna/trial/_trial.py:590: UserWarning: The reported value is ignored because this `step` 46 is already reported.\n",
      "  warnings.warn(\n",
      "/opt/miniconda3/envs/n6758/lib/python3.8/site-packages/optuna/trial/_trial.py:590: UserWarning: The reported value is ignored because this `step` 47 is already reported.\n",
      "  warnings.warn(\n",
      "/opt/miniconda3/envs/n6758/lib/python3.8/site-packages/optuna/trial/_trial.py:590: UserWarning: The reported value is ignored because this `step` 48 is already reported.\n",
      "  warnings.warn(\n",
      "/opt/miniconda3/envs/n6758/lib/python3.8/site-packages/optuna/trial/_trial.py:590: UserWarning: The reported value is ignored because this `step` 49 is already reported.\n",
      "  warnings.warn(\n",
      "/opt/miniconda3/envs/n6758/lib/python3.8/site-packages/optuna/trial/_trial.py:590: UserWarning: The reported value is ignored because this `step` 50 is already reported.\n",
      "  warnings.warn(\n"
     ]
    },
    {
     "name": "stdout",
     "output_type": "stream",
     "text": [
      "[47]\tvalid_0's binary_logloss: 0.286298\n",
      "[48]\tvalid_0's binary_logloss: 0.286289\n",
      "[49]\tvalid_0's binary_logloss: 0.286287\n",
      "[50]\tvalid_0's binary_logloss: 0.286282\n",
      "[51]\tvalid_0's binary_logloss: 0.286279\n"
     ]
    },
    {
     "name": "stderr",
     "output_type": "stream",
     "text": [
      "/opt/miniconda3/envs/n6758/lib/python3.8/site-packages/optuna/trial/_trial.py:590: UserWarning: The reported value is ignored because this `step` 51 is already reported.\n",
      "  warnings.warn(\n",
      "/opt/miniconda3/envs/n6758/lib/python3.8/site-packages/optuna/trial/_trial.py:590: UserWarning: The reported value is ignored because this `step` 52 is already reported.\n",
      "  warnings.warn(\n",
      "/opt/miniconda3/envs/n6758/lib/python3.8/site-packages/optuna/trial/_trial.py:590: UserWarning: The reported value is ignored because this `step` 53 is already reported.\n",
      "  warnings.warn(\n"
     ]
    },
    {
     "name": "stdout",
     "output_type": "stream",
     "text": [
      "[52]\tvalid_0's binary_logloss: 0.286277\n",
      "[53]\tvalid_0's binary_logloss: 0.286278\n",
      "[54]\tvalid_0's binary_logloss: 0.286277\n"
     ]
    },
    {
     "name": "stderr",
     "output_type": "stream",
     "text": [
      "/opt/miniconda3/envs/n6758/lib/python3.8/site-packages/optuna/trial/_trial.py:590: UserWarning: The reported value is ignored because this `step` 54 is already reported.\n",
      "  warnings.warn(\n",
      "/opt/miniconda3/envs/n6758/lib/python3.8/site-packages/optuna/trial/_trial.py:590: UserWarning: The reported value is ignored because this `step` 55 is already reported.\n",
      "  warnings.warn(\n",
      "/opt/miniconda3/envs/n6758/lib/python3.8/site-packages/optuna/trial/_trial.py:590: UserWarning: The reported value is ignored because this `step` 56 is already reported.\n",
      "  warnings.warn(\n",
      "/opt/miniconda3/envs/n6758/lib/python3.8/site-packages/optuna/trial/_trial.py:590: UserWarning: The reported value is ignored because this `step` 57 is already reported.\n",
      "  warnings.warn(\n"
     ]
    },
    {
     "name": "stdout",
     "output_type": "stream",
     "text": [
      "[55]\tvalid_0's binary_logloss: 0.286282\n",
      "[56]\tvalid_0's binary_logloss: 0.286282\n",
      "[57]\tvalid_0's binary_logloss: 0.286281\n",
      "[58]\tvalid_0's binary_logloss: 0.286284\n"
     ]
    },
    {
     "name": "stderr",
     "output_type": "stream",
     "text": [
      "/opt/miniconda3/envs/n6758/lib/python3.8/site-packages/optuna/trial/_trial.py:590: UserWarning: The reported value is ignored because this `step` 58 is already reported.\n",
      "  warnings.warn(\n",
      "/opt/miniconda3/envs/n6758/lib/python3.8/site-packages/optuna/trial/_trial.py:590: UserWarning: The reported value is ignored because this `step` 59 is already reported.\n",
      "  warnings.warn(\n",
      "/opt/miniconda3/envs/n6758/lib/python3.8/site-packages/optuna/trial/_trial.py:590: UserWarning: The reported value is ignored because this `step` 60 is already reported.\n",
      "  warnings.warn(\n",
      "/opt/miniconda3/envs/n6758/lib/python3.8/site-packages/optuna/trial/_trial.py:590: UserWarning: The reported value is ignored because this `step` 61 is already reported.\n",
      "  warnings.warn(\n"
     ]
    },
    {
     "name": "stdout",
     "output_type": "stream",
     "text": [
      "[59]\tvalid_0's binary_logloss: 0.28629\n",
      "[60]\tvalid_0's binary_logloss: 0.28628\n",
      "[61]\tvalid_0's binary_logloss: 0.286284\n",
      "[62]\tvalid_0's binary_logloss: 0.286296\n",
      "Early stopping, best iteration is:\n",
      "[52]\tvalid_0's binary_logloss: 0.286277\n"
     ]
    },
    {
     "name": "stderr",
     "output_type": "stream",
     "text": [
      "/opt/miniconda3/envs/n6758/lib/python3.8/site-packages/optuna/trial/_trial.py:590: UserWarning: The reported value is ignored because this `step` 0 is already reported.\n",
      "  warnings.warn(\n",
      "/opt/miniconda3/envs/n6758/lib/python3.8/site-packages/optuna/trial/_trial.py:590: UserWarning: The reported value is ignored because this `step` 1 is already reported.\n",
      "  warnings.warn(\n",
      "/opt/miniconda3/envs/n6758/lib/python3.8/site-packages/optuna/trial/_trial.py:590: UserWarning: The reported value is ignored because this `step` 2 is already reported.\n",
      "  warnings.warn(\n"
     ]
    },
    {
     "name": "stdout",
     "output_type": "stream",
     "text": [
      "[1]\tvalid_0's binary_logloss: 0.308408\n",
      "Training until validation scores don't improve for 10 rounds\n",
      "[2]\tvalid_0's binary_logloss: 0.305604\n",
      "[3]\tvalid_0's binary_logloss: 0.303206\n"
     ]
    },
    {
     "name": "stderr",
     "output_type": "stream",
     "text": [
      "/opt/miniconda3/envs/n6758/lib/python3.8/site-packages/optuna/trial/_trial.py:590: UserWarning: The reported value is ignored because this `step` 3 is already reported.\n",
      "  warnings.warn(\n",
      "/opt/miniconda3/envs/n6758/lib/python3.8/site-packages/optuna/trial/_trial.py:590: UserWarning: The reported value is ignored because this `step` 4 is already reported.\n",
      "  warnings.warn(\n",
      "/opt/miniconda3/envs/n6758/lib/python3.8/site-packages/optuna/trial/_trial.py:590: UserWarning: The reported value is ignored because this `step` 5 is already reported.\n",
      "  warnings.warn(\n"
     ]
    },
    {
     "name": "stdout",
     "output_type": "stream",
     "text": [
      "[4]\tvalid_0's binary_logloss: 0.301124\n",
      "[5]\tvalid_0's binary_logloss: 0.299297\n",
      "[6]\tvalid_0's binary_logloss: 0.297714\n"
     ]
    },
    {
     "name": "stderr",
     "output_type": "stream",
     "text": [
      "/opt/miniconda3/envs/n6758/lib/python3.8/site-packages/optuna/trial/_trial.py:590: UserWarning: The reported value is ignored because this `step` 6 is already reported.\n",
      "  warnings.warn(\n",
      "/opt/miniconda3/envs/n6758/lib/python3.8/site-packages/optuna/trial/_trial.py:590: UserWarning: The reported value is ignored because this `step` 7 is already reported.\n",
      "  warnings.warn(\n",
      "/opt/miniconda3/envs/n6758/lib/python3.8/site-packages/optuna/trial/_trial.py:590: UserWarning: The reported value is ignored because this `step` 8 is already reported.\n",
      "  warnings.warn(\n",
      "/opt/miniconda3/envs/n6758/lib/python3.8/site-packages/optuna/trial/_trial.py:590: UserWarning: The reported value is ignored because this `step` 9 is already reported.\n",
      "  warnings.warn(\n"
     ]
    },
    {
     "name": "stdout",
     "output_type": "stream",
     "text": [
      "[7]\tvalid_0's binary_logloss: 0.296312\n",
      "[8]\tvalid_0's binary_logloss: 0.295075\n",
      "[9]\tvalid_0's binary_logloss: 0.293996\n",
      "[10]\tvalid_0's binary_logloss: 0.293044\n"
     ]
    },
    {
     "name": "stderr",
     "output_type": "stream",
     "text": [
      "/opt/miniconda3/envs/n6758/lib/python3.8/site-packages/optuna/trial/_trial.py:590: UserWarning: The reported value is ignored because this `step` 10 is already reported.\n",
      "  warnings.warn(\n",
      "/opt/miniconda3/envs/n6758/lib/python3.8/site-packages/optuna/trial/_trial.py:590: UserWarning: The reported value is ignored because this `step` 11 is already reported.\n",
      "  warnings.warn(\n",
      "/opt/miniconda3/envs/n6758/lib/python3.8/site-packages/optuna/trial/_trial.py:590: UserWarning: The reported value is ignored because this `step` 12 is already reported.\n",
      "  warnings.warn(\n",
      "/opt/miniconda3/envs/n6758/lib/python3.8/site-packages/optuna/trial/_trial.py:590: UserWarning: The reported value is ignored because this `step` 13 is already reported.\n",
      "  warnings.warn(\n"
     ]
    },
    {
     "name": "stdout",
     "output_type": "stream",
     "text": [
      "[11]\tvalid_0's binary_logloss: 0.292202\n",
      "[12]\tvalid_0's binary_logloss: 0.291437\n",
      "[13]\tvalid_0's binary_logloss: 0.290767\n",
      "[14]\tvalid_0's binary_logloss: 0.290173\n"
     ]
    },
    {
     "name": "stderr",
     "output_type": "stream",
     "text": [
      "/opt/miniconda3/envs/n6758/lib/python3.8/site-packages/optuna/trial/_trial.py:590: UserWarning: The reported value is ignored because this `step` 14 is already reported.\n",
      "  warnings.warn(\n",
      "/opt/miniconda3/envs/n6758/lib/python3.8/site-packages/optuna/trial/_trial.py:590: UserWarning: The reported value is ignored because this `step` 15 is already reported.\n",
      "  warnings.warn(\n",
      "/opt/miniconda3/envs/n6758/lib/python3.8/site-packages/optuna/trial/_trial.py:590: UserWarning: The reported value is ignored because this `step` 16 is already reported.\n",
      "  warnings.warn(\n"
     ]
    },
    {
     "name": "stdout",
     "output_type": "stream",
     "text": [
      "[15]\tvalid_0's binary_logloss: 0.289645\n",
      "[16]\tvalid_0's binary_logloss: 0.289158\n",
      "[17]\tvalid_0's binary_logloss: 0.288726\n"
     ]
    },
    {
     "name": "stderr",
     "output_type": "stream",
     "text": [
      "/opt/miniconda3/envs/n6758/lib/python3.8/site-packages/optuna/trial/_trial.py:590: UserWarning: The reported value is ignored because this `step` 17 is already reported.\n",
      "  warnings.warn(\n",
      "/opt/miniconda3/envs/n6758/lib/python3.8/site-packages/optuna/trial/_trial.py:590: UserWarning: The reported value is ignored because this `step` 18 is already reported.\n",
      "  warnings.warn(\n",
      "/opt/miniconda3/envs/n6758/lib/python3.8/site-packages/optuna/trial/_trial.py:590: UserWarning: The reported value is ignored because this `step` 19 is already reported.\n",
      "  warnings.warn(\n",
      "/opt/miniconda3/envs/n6758/lib/python3.8/site-packages/optuna/trial/_trial.py:590: UserWarning: The reported value is ignored because this `step` 20 is already reported.\n",
      "  warnings.warn(\n"
     ]
    },
    {
     "name": "stdout",
     "output_type": "stream",
     "text": [
      "[18]\tvalid_0's binary_logloss: 0.288344\n",
      "[19]\tvalid_0's binary_logloss: 0.288006\n",
      "[20]\tvalid_0's binary_logloss: 0.287694\n",
      "[21]\tvalid_0's binary_logloss: 0.287423\n"
     ]
    },
    {
     "name": "stderr",
     "output_type": "stream",
     "text": [
      "/opt/miniconda3/envs/n6758/lib/python3.8/site-packages/optuna/trial/_trial.py:590: UserWarning: The reported value is ignored because this `step` 21 is already reported.\n",
      "  warnings.warn(\n",
      "/opt/miniconda3/envs/n6758/lib/python3.8/site-packages/optuna/trial/_trial.py:590: UserWarning: The reported value is ignored because this `step` 22 is already reported.\n",
      "  warnings.warn(\n",
      "/opt/miniconda3/envs/n6758/lib/python3.8/site-packages/optuna/trial/_trial.py:590: UserWarning: The reported value is ignored because this `step` 23 is already reported.\n",
      "  warnings.warn(\n",
      "/opt/miniconda3/envs/n6758/lib/python3.8/site-packages/optuna/trial/_trial.py:590: UserWarning: The reported value is ignored because this `step` 24 is already reported.\n",
      "  warnings.warn(\n"
     ]
    },
    {
     "name": "stdout",
     "output_type": "stream",
     "text": [
      "[22]\tvalid_0's binary_logloss: 0.287185\n",
      "[23]\tvalid_0's binary_logloss: 0.286965\n",
      "[24]\tvalid_0's binary_logloss: 0.28677\n",
      "[25]\tvalid_0's binary_logloss: 0.286591\n"
     ]
    },
    {
     "name": "stderr",
     "output_type": "stream",
     "text": [
      "/opt/miniconda3/envs/n6758/lib/python3.8/site-packages/optuna/trial/_trial.py:590: UserWarning: The reported value is ignored because this `step` 25 is already reported.\n",
      "  warnings.warn(\n",
      "/opt/miniconda3/envs/n6758/lib/python3.8/site-packages/optuna/trial/_trial.py:590: UserWarning: The reported value is ignored because this `step` 26 is already reported.\n",
      "  warnings.warn(\n"
     ]
    },
    {
     "name": "stdout",
     "output_type": "stream",
     "text": [
      "[26]\tvalid_0's binary_logloss: 0.286442\n",
      "[27]\tvalid_0's binary_logloss: 0.286297\n"
     ]
    },
    {
     "name": "stderr",
     "output_type": "stream",
     "text": [
      "/opt/miniconda3/envs/n6758/lib/python3.8/site-packages/optuna/trial/_trial.py:590: UserWarning: The reported value is ignored because this `step` 27 is already reported.\n",
      "  warnings.warn(\n",
      "/opt/miniconda3/envs/n6758/lib/python3.8/site-packages/optuna/trial/_trial.py:590: UserWarning: The reported value is ignored because this `step` 28 is already reported.\n",
      "  warnings.warn(\n",
      "/opt/miniconda3/envs/n6758/lib/python3.8/site-packages/optuna/trial/_trial.py:590: UserWarning: The reported value is ignored because this `step` 29 is already reported.\n",
      "  warnings.warn(\n"
     ]
    },
    {
     "name": "stdout",
     "output_type": "stream",
     "text": [
      "[28]\tvalid_0's binary_logloss: 0.286174\n",
      "[29]\tvalid_0's binary_logloss: 0.286068\n",
      "[30]\tvalid_0's binary_logloss: 0.285973\n"
     ]
    },
    {
     "name": "stderr",
     "output_type": "stream",
     "text": [
      "/opt/miniconda3/envs/n6758/lib/python3.8/site-packages/optuna/trial/_trial.py:590: UserWarning: The reported value is ignored because this `step` 30 is already reported.\n",
      "  warnings.warn(\n",
      "/opt/miniconda3/envs/n6758/lib/python3.8/site-packages/optuna/trial/_trial.py:590: UserWarning: The reported value is ignored because this `step` 31 is already reported.\n",
      "  warnings.warn(\n"
     ]
    },
    {
     "name": "stdout",
     "output_type": "stream",
     "text": [
      "[31]\tvalid_0's binary_logloss: 0.285883\n",
      "[32]\tvalid_0's binary_logloss: 0.285812\n"
     ]
    },
    {
     "name": "stderr",
     "output_type": "stream",
     "text": [
      "/opt/miniconda3/envs/n6758/lib/python3.8/site-packages/optuna/trial/_trial.py:590: UserWarning: The reported value is ignored because this `step` 32 is already reported.\n",
      "  warnings.warn(\n"
     ]
    },
    {
     "name": "stdout",
     "output_type": "stream",
     "text": [
      "[33]\tvalid_0's binary_logloss: 0.285735\n"
     ]
    },
    {
     "name": "stderr",
     "output_type": "stream",
     "text": [
      "/opt/miniconda3/envs/n6758/lib/python3.8/site-packages/optuna/trial/_trial.py:590: UserWarning: The reported value is ignored because this `step` 33 is already reported.\n",
      "  warnings.warn(\n"
     ]
    },
    {
     "name": "stdout",
     "output_type": "stream",
     "text": [
      "[34]\tvalid_0's binary_logloss: 0.285671\n"
     ]
    },
    {
     "name": "stderr",
     "output_type": "stream",
     "text": [
      "/opt/miniconda3/envs/n6758/lib/python3.8/site-packages/optuna/trial/_trial.py:590: UserWarning: The reported value is ignored because this `step` 34 is already reported.\n",
      "  warnings.warn(\n"
     ]
    },
    {
     "name": "stdout",
     "output_type": "stream",
     "text": [
      "[35]\tvalid_0's binary_logloss: 0.285615\n"
     ]
    },
    {
     "name": "stderr",
     "output_type": "stream",
     "text": [
      "/opt/miniconda3/envs/n6758/lib/python3.8/site-packages/optuna/trial/_trial.py:590: UserWarning: The reported value is ignored because this `step` 35 is already reported.\n",
      "  warnings.warn(\n",
      "/opt/miniconda3/envs/n6758/lib/python3.8/site-packages/optuna/trial/_trial.py:590: UserWarning: The reported value is ignored because this `step` 36 is already reported.\n",
      "  warnings.warn(\n"
     ]
    },
    {
     "name": "stdout",
     "output_type": "stream",
     "text": [
      "[36]\tvalid_0's binary_logloss: 0.285561\n",
      "[37]\tvalid_0's binary_logloss: 0.285513\n"
     ]
    },
    {
     "name": "stderr",
     "output_type": "stream",
     "text": [
      "/opt/miniconda3/envs/n6758/lib/python3.8/site-packages/optuna/trial/_trial.py:590: UserWarning: The reported value is ignored because this `step` 37 is already reported.\n",
      "  warnings.warn(\n"
     ]
    },
    {
     "name": "stdout",
     "output_type": "stream",
     "text": [
      "[38]\tvalid_0's binary_logloss: 0.285466\n"
     ]
    },
    {
     "name": "stderr",
     "output_type": "stream",
     "text": [
      "/opt/miniconda3/envs/n6758/lib/python3.8/site-packages/optuna/trial/_trial.py:590: UserWarning: The reported value is ignored because this `step` 38 is already reported.\n",
      "  warnings.warn(\n"
     ]
    },
    {
     "name": "stdout",
     "output_type": "stream",
     "text": [
      "[39]\tvalid_0's binary_logloss: 0.285422\n"
     ]
    },
    {
     "name": "stderr",
     "output_type": "stream",
     "text": [
      "/opt/miniconda3/envs/n6758/lib/python3.8/site-packages/optuna/trial/_trial.py:590: UserWarning: The reported value is ignored because this `step` 39 is already reported.\n",
      "  warnings.warn(\n"
     ]
    },
    {
     "name": "stdout",
     "output_type": "stream",
     "text": [
      "[40]\tvalid_0's binary_logloss: 0.285387\n"
     ]
    },
    {
     "name": "stderr",
     "output_type": "stream",
     "text": [
      "/opt/miniconda3/envs/n6758/lib/python3.8/site-packages/optuna/trial/_trial.py:590: UserWarning: The reported value is ignored because this `step` 40 is already reported.\n",
      "  warnings.warn(\n",
      "/opt/miniconda3/envs/n6758/lib/python3.8/site-packages/optuna/trial/_trial.py:590: UserWarning: The reported value is ignored because this `step` 41 is already reported.\n",
      "  warnings.warn(\n"
     ]
    },
    {
     "name": "stdout",
     "output_type": "stream",
     "text": [
      "[41]\tvalid_0's binary_logloss: 0.285363\n",
      "[42]\tvalid_0's binary_logloss: 0.285335\n"
     ]
    },
    {
     "name": "stderr",
     "output_type": "stream",
     "text": [
      "/opt/miniconda3/envs/n6758/lib/python3.8/site-packages/optuna/trial/_trial.py:590: UserWarning: The reported value is ignored because this `step` 42 is already reported.\n",
      "  warnings.warn(\n",
      "/opt/miniconda3/envs/n6758/lib/python3.8/site-packages/optuna/trial/_trial.py:590: UserWarning: The reported value is ignored because this `step` 43 is already reported.\n",
      "  warnings.warn(\n",
      "/opt/miniconda3/envs/n6758/lib/python3.8/site-packages/optuna/trial/_trial.py:590: UserWarning: The reported value is ignored because this `step` 44 is already reported.\n",
      "  warnings.warn(\n"
     ]
    },
    {
     "name": "stdout",
     "output_type": "stream",
     "text": [
      "[43]\tvalid_0's binary_logloss: 0.285312\n",
      "[44]\tvalid_0's binary_logloss: 0.285291\n",
      "[45]\tvalid_0's binary_logloss: 0.285267\n"
     ]
    },
    {
     "name": "stderr",
     "output_type": "stream",
     "text": [
      "/opt/miniconda3/envs/n6758/lib/python3.8/site-packages/optuna/trial/_trial.py:590: UserWarning: The reported value is ignored because this `step` 45 is already reported.\n",
      "  warnings.warn(\n",
      "/opt/miniconda3/envs/n6758/lib/python3.8/site-packages/optuna/trial/_trial.py:590: UserWarning: The reported value is ignored because this `step` 46 is already reported.\n",
      "  warnings.warn(\n",
      "/opt/miniconda3/envs/n6758/lib/python3.8/site-packages/optuna/trial/_trial.py:590: UserWarning: The reported value is ignored because this `step` 47 is already reported.\n",
      "  warnings.warn(\n",
      "/opt/miniconda3/envs/n6758/lib/python3.8/site-packages/optuna/trial/_trial.py:590: UserWarning: The reported value is ignored because this `step` 48 is already reported.\n",
      "  warnings.warn(\n"
     ]
    },
    {
     "name": "stdout",
     "output_type": "stream",
     "text": [
      "[46]\tvalid_0's binary_logloss: 0.285254\n",
      "[47]\tvalid_0's binary_logloss: 0.28524\n",
      "[48]\tvalid_0's binary_logloss: 0.285233\n",
      "[49]\tvalid_0's binary_logloss: 0.285222\n"
     ]
    },
    {
     "name": "stderr",
     "output_type": "stream",
     "text": [
      "/opt/miniconda3/envs/n6758/lib/python3.8/site-packages/optuna/trial/_trial.py:590: UserWarning: The reported value is ignored because this `step` 49 is already reported.\n",
      "  warnings.warn(\n",
      "/opt/miniconda3/envs/n6758/lib/python3.8/site-packages/optuna/trial/_trial.py:590: UserWarning: The reported value is ignored because this `step` 50 is already reported.\n",
      "  warnings.warn(\n",
      "/opt/miniconda3/envs/n6758/lib/python3.8/site-packages/optuna/trial/_trial.py:590: UserWarning: The reported value is ignored because this `step` 51 is already reported.\n",
      "  warnings.warn(\n",
      "/opt/miniconda3/envs/n6758/lib/python3.8/site-packages/optuna/trial/_trial.py:590: UserWarning: The reported value is ignored because this `step` 52 is already reported.\n",
      "  warnings.warn(\n",
      "/opt/miniconda3/envs/n6758/lib/python3.8/site-packages/optuna/trial/_trial.py:590: UserWarning: The reported value is ignored because this `step` 53 is already reported.\n",
      "  warnings.warn(\n"
     ]
    },
    {
     "name": "stdout",
     "output_type": "stream",
     "text": [
      "[50]\tvalid_0's binary_logloss: 0.285215\n",
      "[51]\tvalid_0's binary_logloss: 0.285212\n",
      "[52]\tvalid_0's binary_logloss: 0.285208\n",
      "[53]\tvalid_0's binary_logloss: 0.285197\n",
      "[54]\tvalid_0's binary_logloss: 0.285189\n"
     ]
    },
    {
     "name": "stderr",
     "output_type": "stream",
     "text": [
      "/opt/miniconda3/envs/n6758/lib/python3.8/site-packages/optuna/trial/_trial.py:590: UserWarning: The reported value is ignored because this `step` 54 is already reported.\n",
      "  warnings.warn(\n"
     ]
    },
    {
     "name": "stdout",
     "output_type": "stream",
     "text": [
      "[55]\tvalid_0's binary_logloss: 0.28519\n"
     ]
    },
    {
     "name": "stderr",
     "output_type": "stream",
     "text": [
      "/opt/miniconda3/envs/n6758/lib/python3.8/site-packages/optuna/trial/_trial.py:590: UserWarning: The reported value is ignored because this `step` 55 is already reported.\n",
      "  warnings.warn(\n"
     ]
    },
    {
     "name": "stdout",
     "output_type": "stream",
     "text": [
      "[56]\tvalid_0's binary_logloss: 0.285189\n"
     ]
    },
    {
     "name": "stderr",
     "output_type": "stream",
     "text": [
      "/opt/miniconda3/envs/n6758/lib/python3.8/site-packages/optuna/trial/_trial.py:590: UserWarning: The reported value is ignored because this `step` 56 is already reported.\n",
      "  warnings.warn(\n",
      "/opt/miniconda3/envs/n6758/lib/python3.8/site-packages/optuna/trial/_trial.py:590: UserWarning: The reported value is ignored because this `step` 57 is already reported.\n",
      "  warnings.warn(\n",
      "/opt/miniconda3/envs/n6758/lib/python3.8/site-packages/optuna/trial/_trial.py:590: UserWarning: The reported value is ignored because this `step` 58 is already reported.\n",
      "  warnings.warn(\n"
     ]
    },
    {
     "name": "stdout",
     "output_type": "stream",
     "text": [
      "[57]\tvalid_0's binary_logloss: 0.285188\n",
      "[58]\tvalid_0's binary_logloss: 0.285182\n",
      "[59]\tvalid_0's binary_logloss: 0.285176\n"
     ]
    },
    {
     "name": "stderr",
     "output_type": "stream",
     "text": [
      "/opt/miniconda3/envs/n6758/lib/python3.8/site-packages/optuna/trial/_trial.py:590: UserWarning: The reported value is ignored because this `step` 59 is already reported.\n",
      "  warnings.warn(\n",
      "/opt/miniconda3/envs/n6758/lib/python3.8/site-packages/optuna/trial/_trial.py:590: UserWarning: The reported value is ignored because this `step` 60 is already reported.\n",
      "  warnings.warn(\n"
     ]
    },
    {
     "name": "stdout",
     "output_type": "stream",
     "text": [
      "[60]\tvalid_0's binary_logloss: 0.285172\n",
      "[61]\tvalid_0's binary_logloss: 0.285172\n"
     ]
    },
    {
     "name": "stderr",
     "output_type": "stream",
     "text": [
      "/opt/miniconda3/envs/n6758/lib/python3.8/site-packages/optuna/trial/_trial.py:590: UserWarning: The reported value is ignored because this `step` 61 is already reported.\n",
      "  warnings.warn(\n"
     ]
    },
    {
     "name": "stdout",
     "output_type": "stream",
     "text": [
      "[62]\tvalid_0's binary_logloss: 0.285162\n",
      "[63]\tvalid_0's binary_logloss: 0.285162\n",
      "[64]\tvalid_0's binary_logloss: 0.285165\n",
      "[65]\tvalid_0's binary_logloss: 0.285165\n",
      "[66]\tvalid_0's binary_logloss: 0.285165\n",
      "[67]\tvalid_0's binary_logloss: 0.285163\n",
      "[68]\tvalid_0's binary_logloss: 0.285166\n",
      "[69]\tvalid_0's binary_logloss: 0.285163\n",
      "[70]\tvalid_0's binary_logloss: 0.285161\n",
      "[71]\tvalid_0's binary_logloss: 0.285159\n",
      "[72]\tvalid_0's binary_logloss: 0.285158\n",
      "[73]\tvalid_0's binary_logloss: 0.285154\n",
      "[74]\tvalid_0's binary_logloss: 0.285157\n",
      "[75]\tvalid_0's binary_logloss: 0.285165\n",
      "[76]\tvalid_0's binary_logloss: 0.285167\n",
      "[77]\tvalid_0's binary_logloss: 0.285177\n",
      "[78]\tvalid_0's binary_logloss: 0.285184\n",
      "[79]\tvalid_0's binary_logloss: 0.28519\n",
      "[80]\tvalid_0's binary_logloss: 0.285188\n",
      "[81]\tvalid_0's binary_logloss: 0.285193\n",
      "[82]\tvalid_0's binary_logloss: 0.285203\n",
      "[83]\tvalid_0's binary_logloss: 0.285207\n",
      "Early stopping, best iteration is:\n",
      "[73]\tvalid_0's binary_logloss: 0.285154\n"
     ]
    },
    {
     "name": "stderr",
     "output_type": "stream",
     "text": [
      "\u001B[32m[I 2021-11-22 17:47:50,926]\u001B[0m Trial 3 finished with value: 0.28583431845482205 and parameters: {'n_estimators': 100, 'learning_rate': 0.06527777923935238, 'num_leaves': 100, 'max_depth': 5}. Best is trial 3 with value: 0.28583431845482205.\u001B[0m\n"
     ]
    },
    {
     "name": "stdout",
     "output_type": "stream",
     "text": [
      "[1]\tvalid_0's binary_logloss: 0.308895\n",
      "Training until validation scores don't improve for 10 rounds\n",
      "[2]\tvalid_0's binary_logloss: 0.306457\n",
      "[3]\tvalid_0's binary_logloss: 0.304318\n",
      "[4]\tvalid_0's binary_logloss: 0.302435\n",
      "[5]\tvalid_0's binary_logloss: 0.300767\n",
      "[6]\tvalid_0's binary_logloss: 0.299281\n",
      "[7]\tvalid_0's binary_logloss: 0.297954\n",
      "[8]\tvalid_0's binary_logloss: 0.296765\n",
      "[9]\tvalid_0's binary_logloss: 0.295711\n",
      "[10]\tvalid_0's binary_logloss: 0.294755\n",
      "[11]\tvalid_0's binary_logloss: 0.293903\n",
      "[12]\tvalid_0's binary_logloss: 0.293131\n",
      "[13]\tvalid_0's binary_logloss: 0.29244\n",
      "[14]\tvalid_0's binary_logloss: 0.291825\n",
      "[15]\tvalid_0's binary_logloss: 0.291262\n",
      "[16]\tvalid_0's binary_logloss: 0.290758\n",
      "[17]\tvalid_0's binary_logloss: 0.290286\n",
      "[18]\tvalid_0's binary_logloss: 0.289875\n",
      "[19]\tvalid_0's binary_logloss: 0.289499\n",
      "[20]\tvalid_0's binary_logloss: 0.289155\n",
      "[21]\tvalid_0's binary_logloss: 0.288846\n",
      "[22]\tvalid_0's binary_logloss: 0.288576\n",
      "[23]\tvalid_0's binary_logloss: 0.28833\n",
      "[24]\tvalid_0's binary_logloss: 0.28811\n",
      "[25]\tvalid_0's binary_logloss: 0.287907\n",
      "[26]\tvalid_0's binary_logloss: 0.287719\n",
      "[27]\tvalid_0's binary_logloss: 0.287557\n",
      "[28]\tvalid_0's binary_logloss: 0.287398\n",
      "[29]\tvalid_0's binary_logloss: 0.287268\n",
      "[30]\tvalid_0's binary_logloss: 0.28714\n",
      "[31]\tvalid_0's binary_logloss: 0.28703\n",
      "[32]\tvalid_0's binary_logloss: 0.286932\n",
      "[33]\tvalid_0's binary_logloss: 0.28685\n",
      "[34]\tvalid_0's binary_logloss: 0.286766\n",
      "[35]\tvalid_0's binary_logloss: 0.286697\n",
      "[36]\tvalid_0's binary_logloss: 0.286634\n",
      "[37]\tvalid_0's binary_logloss: 0.286577\n",
      "[38]\tvalid_0's binary_logloss: 0.286521\n",
      "[39]\tvalid_0's binary_logloss: 0.286484\n",
      "[40]\tvalid_0's binary_logloss: 0.286445\n",
      "[41]\tvalid_0's binary_logloss: 0.286413\n",
      "[42]\tvalid_0's binary_logloss: 0.286383\n",
      "[43]\tvalid_0's binary_logloss: 0.286357\n",
      "[44]\tvalid_0's binary_logloss: 0.286337\n",
      "[45]\tvalid_0's binary_logloss: 0.286308\n",
      "[46]\tvalid_0's binary_logloss: 0.286293\n",
      "[47]\tvalid_0's binary_logloss: 0.286266\n",
      "[48]\tvalid_0's binary_logloss: 0.286251\n",
      "[49]\tvalid_0's binary_logloss: 0.286238\n",
      "[50]\tvalid_0's binary_logloss: 0.286214\n",
      "[51]\tvalid_0's binary_logloss: 0.286211\n",
      "[52]\tvalid_0's binary_logloss: 0.286199\n",
      "[53]\tvalid_0's binary_logloss: 0.286195\n",
      "[54]\tvalid_0's binary_logloss: 0.286201\n",
      "[55]\tvalid_0's binary_logloss: 0.286196\n",
      "[56]\tvalid_0's binary_logloss: 0.286194\n",
      "[57]\tvalid_0's binary_logloss: 0.286196\n",
      "[58]\tvalid_0's binary_logloss: 0.286197\n",
      "[59]\tvalid_0's binary_logloss: 0.286196\n",
      "[60]\tvalid_0's binary_logloss: 0.286197\n",
      "[61]\tvalid_0's binary_logloss: 0.286194\n",
      "[62]\tvalid_0's binary_logloss: 0.286192\n",
      "[63]\tvalid_0's binary_logloss: 0.28619\n",
      "[64]\tvalid_0's binary_logloss: 0.286183\n",
      "[65]\tvalid_0's binary_logloss: 0.286188\n",
      "[66]\tvalid_0's binary_logloss: 0.286181\n",
      "[67]\tvalid_0's binary_logloss: 0.286183\n",
      "[68]\tvalid_0's binary_logloss: 0.286192\n",
      "[69]\tvalid_0's binary_logloss: 0.286188\n",
      "[70]\tvalid_0's binary_logloss: 0.286196\n",
      "[71]\tvalid_0's binary_logloss: 0.286188\n",
      "[72]\tvalid_0's binary_logloss: 0.286193\n",
      "[73]\tvalid_0's binary_logloss: 0.286206\n",
      "[74]\tvalid_0's binary_logloss: 0.286206\n",
      "[75]\tvalid_0's binary_logloss: 0.286207\n",
      "[76]\tvalid_0's binary_logloss: 0.286205\n",
      "Early stopping, best iteration is:\n",
      "[66]\tvalid_0's binary_logloss: 0.286181\n"
     ]
    },
    {
     "name": "stderr",
     "output_type": "stream",
     "text": [
      "/opt/miniconda3/envs/n6758/lib/python3.8/site-packages/optuna/trial/_trial.py:590: UserWarning: The reported value is ignored because this `step` 0 is already reported.\n",
      "  warnings.warn(\n",
      "/opt/miniconda3/envs/n6758/lib/python3.8/site-packages/optuna/trial/_trial.py:590: UserWarning: The reported value is ignored because this `step` 1 is already reported.\n",
      "  warnings.warn(\n",
      "/opt/miniconda3/envs/n6758/lib/python3.8/site-packages/optuna/trial/_trial.py:590: UserWarning: The reported value is ignored because this `step` 2 is already reported.\n",
      "  warnings.warn(\n",
      "/opt/miniconda3/envs/n6758/lib/python3.8/site-packages/optuna/trial/_trial.py:590: UserWarning: The reported value is ignored because this `step` 3 is already reported.\n",
      "  warnings.warn(\n",
      "/opt/miniconda3/envs/n6758/lib/python3.8/site-packages/optuna/trial/_trial.py:590: UserWarning: The reported value is ignored because this `step` 4 is already reported.\n",
      "  warnings.warn(\n",
      "/opt/miniconda3/envs/n6758/lib/python3.8/site-packages/optuna/trial/_trial.py:590: UserWarning: The reported value is ignored because this `step` 5 is already reported.\n",
      "  warnings.warn(\n",
      "/opt/miniconda3/envs/n6758/lib/python3.8/site-packages/optuna/trial/_trial.py:590: UserWarning: The reported value is ignored because this `step` 6 is already reported.\n",
      "  warnings.warn(\n",
      "/opt/miniconda3/envs/n6758/lib/python3.8/site-packages/optuna/trial/_trial.py:590: UserWarning: The reported value is ignored because this `step` 7 is already reported.\n",
      "  warnings.warn(\n",
      "/opt/miniconda3/envs/n6758/lib/python3.8/site-packages/optuna/trial/_trial.py:590: UserWarning: The reported value is ignored because this `step` 8 is already reported.\n",
      "  warnings.warn(\n",
      "/opt/miniconda3/envs/n6758/lib/python3.8/site-packages/optuna/trial/_trial.py:590: UserWarning: The reported value is ignored because this `step` 9 is already reported.\n",
      "  warnings.warn(\n",
      "/opt/miniconda3/envs/n6758/lib/python3.8/site-packages/optuna/trial/_trial.py:590: UserWarning: The reported value is ignored because this `step` 10 is already reported.\n",
      "  warnings.warn(\n",
      "/opt/miniconda3/envs/n6758/lib/python3.8/site-packages/optuna/trial/_trial.py:590: UserWarning: The reported value is ignored because this `step` 11 is already reported.\n",
      "  warnings.warn(\n",
      "/opt/miniconda3/envs/n6758/lib/python3.8/site-packages/optuna/trial/_trial.py:590: UserWarning: The reported value is ignored because this `step` 12 is already reported.\n",
      "  warnings.warn(\n"
     ]
    },
    {
     "name": "stdout",
     "output_type": "stream",
     "text": [
      "[1]\tvalid_0's binary_logloss: 0.308926\n",
      "Training until validation scores don't improve for 10 rounds\n",
      "[2]\tvalid_0's binary_logloss: 0.306488\n",
      "[3]\tvalid_0's binary_logloss: 0.304365\n",
      "[4]\tvalid_0's binary_logloss: 0.302479\n",
      "[5]\tvalid_0's binary_logloss: 0.300814\n",
      "[6]\tvalid_0's binary_logloss: 0.299332\n",
      "[7]\tvalid_0's binary_logloss: 0.29802\n",
      "[8]\tvalid_0's binary_logloss: 0.296848\n",
      "[9]\tvalid_0's binary_logloss: 0.295782\n",
      "[10]\tvalid_0's binary_logloss: 0.294834\n",
      "[11]\tvalid_0's binary_logloss: 0.293976\n",
      "[12]\tvalid_0's binary_logloss: 0.293215\n",
      "[13]\tvalid_0's binary_logloss: 0.292526\n"
     ]
    },
    {
     "name": "stderr",
     "output_type": "stream",
     "text": [
      "/opt/miniconda3/envs/n6758/lib/python3.8/site-packages/optuna/trial/_trial.py:590: UserWarning: The reported value is ignored because this `step` 13 is already reported.\n",
      "  warnings.warn(\n",
      "/opt/miniconda3/envs/n6758/lib/python3.8/site-packages/optuna/trial/_trial.py:590: UserWarning: The reported value is ignored because this `step` 14 is already reported.\n",
      "  warnings.warn(\n",
      "/opt/miniconda3/envs/n6758/lib/python3.8/site-packages/optuna/trial/_trial.py:590: UserWarning: The reported value is ignored because this `step` 15 is already reported.\n",
      "  warnings.warn(\n",
      "/opt/miniconda3/envs/n6758/lib/python3.8/site-packages/optuna/trial/_trial.py:590: UserWarning: The reported value is ignored because this `step` 16 is already reported.\n",
      "  warnings.warn(\n",
      "/opt/miniconda3/envs/n6758/lib/python3.8/site-packages/optuna/trial/_trial.py:590: UserWarning: The reported value is ignored because this `step` 17 is already reported.\n",
      "  warnings.warn(\n",
      "/opt/miniconda3/envs/n6758/lib/python3.8/site-packages/optuna/trial/_trial.py:590: UserWarning: The reported value is ignored because this `step` 18 is already reported.\n",
      "  warnings.warn(\n",
      "/opt/miniconda3/envs/n6758/lib/python3.8/site-packages/optuna/trial/_trial.py:590: UserWarning: The reported value is ignored because this `step` 19 is already reported.\n",
      "  warnings.warn(\n",
      "/opt/miniconda3/envs/n6758/lib/python3.8/site-packages/optuna/trial/_trial.py:590: UserWarning: The reported value is ignored because this `step` 20 is already reported.\n",
      "  warnings.warn(\n",
      "/opt/miniconda3/envs/n6758/lib/python3.8/site-packages/optuna/trial/_trial.py:590: UserWarning: The reported value is ignored because this `step` 21 is already reported.\n",
      "  warnings.warn(\n",
      "/opt/miniconda3/envs/n6758/lib/python3.8/site-packages/optuna/trial/_trial.py:590: UserWarning: The reported value is ignored because this `step` 22 is already reported.\n",
      "  warnings.warn(\n",
      "/opt/miniconda3/envs/n6758/lib/python3.8/site-packages/optuna/trial/_trial.py:590: UserWarning: The reported value is ignored because this `step` 23 is already reported.\n",
      "  warnings.warn(\n",
      "/opt/miniconda3/envs/n6758/lib/python3.8/site-packages/optuna/trial/_trial.py:590: UserWarning: The reported value is ignored because this `step` 24 is already reported.\n",
      "  warnings.warn(\n",
      "/opt/miniconda3/envs/n6758/lib/python3.8/site-packages/optuna/trial/_trial.py:590: UserWarning: The reported value is ignored because this `step` 25 is already reported.\n",
      "  warnings.warn(\n"
     ]
    },
    {
     "name": "stdout",
     "output_type": "stream",
     "text": [
      "[14]\tvalid_0's binary_logloss: 0.291905\n",
      "[15]\tvalid_0's binary_logloss: 0.29134\n",
      "[16]\tvalid_0's binary_logloss: 0.290833\n",
      "[17]\tvalid_0's binary_logloss: 0.290374\n",
      "[18]\tvalid_0's binary_logloss: 0.289968\n",
      "[19]\tvalid_0's binary_logloss: 0.289591\n",
      "[20]\tvalid_0's binary_logloss: 0.28926\n",
      "[21]\tvalid_0's binary_logloss: 0.28896\n",
      "[22]\tvalid_0's binary_logloss: 0.28869\n",
      "[23]\tvalid_0's binary_logloss: 0.288446\n",
      "[24]\tvalid_0's binary_logloss: 0.288223\n",
      "[25]\tvalid_0's binary_logloss: 0.28803\n",
      "[26]\tvalid_0's binary_logloss: 0.28785\n"
     ]
    },
    {
     "name": "stderr",
     "output_type": "stream",
     "text": [
      "/opt/miniconda3/envs/n6758/lib/python3.8/site-packages/optuna/trial/_trial.py:590: UserWarning: The reported value is ignored because this `step` 26 is already reported.\n",
      "  warnings.warn(\n",
      "/opt/miniconda3/envs/n6758/lib/python3.8/site-packages/optuna/trial/_trial.py:590: UserWarning: The reported value is ignored because this `step` 27 is already reported.\n",
      "  warnings.warn(\n",
      "/opt/miniconda3/envs/n6758/lib/python3.8/site-packages/optuna/trial/_trial.py:590: UserWarning: The reported value is ignored because this `step` 28 is already reported.\n",
      "  warnings.warn(\n",
      "/opt/miniconda3/envs/n6758/lib/python3.8/site-packages/optuna/trial/_trial.py:590: UserWarning: The reported value is ignored because this `step` 29 is already reported.\n",
      "  warnings.warn(\n",
      "/opt/miniconda3/envs/n6758/lib/python3.8/site-packages/optuna/trial/_trial.py:590: UserWarning: The reported value is ignored because this `step` 30 is already reported.\n",
      "  warnings.warn(\n",
      "/opt/miniconda3/envs/n6758/lib/python3.8/site-packages/optuna/trial/_trial.py:590: UserWarning: The reported value is ignored because this `step` 31 is already reported.\n",
      "  warnings.warn(\n",
      "/opt/miniconda3/envs/n6758/lib/python3.8/site-packages/optuna/trial/_trial.py:590: UserWarning: The reported value is ignored because this `step` 32 is already reported.\n",
      "  warnings.warn(\n",
      "/opt/miniconda3/envs/n6758/lib/python3.8/site-packages/optuna/trial/_trial.py:590: UserWarning: The reported value is ignored because this `step` 33 is already reported.\n",
      "  warnings.warn(\n",
      "/opt/miniconda3/envs/n6758/lib/python3.8/site-packages/optuna/trial/_trial.py:590: UserWarning: The reported value is ignored because this `step` 34 is already reported.\n",
      "  warnings.warn(\n",
      "/opt/miniconda3/envs/n6758/lib/python3.8/site-packages/optuna/trial/_trial.py:590: UserWarning: The reported value is ignored because this `step` 35 is already reported.\n",
      "  warnings.warn(\n",
      "/opt/miniconda3/envs/n6758/lib/python3.8/site-packages/optuna/trial/_trial.py:590: UserWarning: The reported value is ignored because this `step` 36 is already reported.\n",
      "  warnings.warn(\n",
      "/opt/miniconda3/envs/n6758/lib/python3.8/site-packages/optuna/trial/_trial.py:590: UserWarning: The reported value is ignored because this `step` 37 is already reported.\n",
      "  warnings.warn(\n"
     ]
    },
    {
     "name": "stdout",
     "output_type": "stream",
     "text": [
      "[27]\tvalid_0's binary_logloss: 0.287688\n",
      "[28]\tvalid_0's binary_logloss: 0.287551\n",
      "[29]\tvalid_0's binary_logloss: 0.287421\n",
      "[30]\tvalid_0's binary_logloss: 0.287303\n",
      "[31]\tvalid_0's binary_logloss: 0.287201\n",
      "[32]\tvalid_0's binary_logloss: 0.287116\n",
      "[33]\tvalid_0's binary_logloss: 0.287029\n",
      "[34]\tvalid_0's binary_logloss: 0.286958\n",
      "[35]\tvalid_0's binary_logloss: 0.28689\n",
      "[36]\tvalid_0's binary_logloss: 0.286826\n",
      "[37]\tvalid_0's binary_logloss: 0.286782\n",
      "[38]\tvalid_0's binary_logloss: 0.286736\n"
     ]
    },
    {
     "name": "stderr",
     "output_type": "stream",
     "text": [
      "/opt/miniconda3/envs/n6758/lib/python3.8/site-packages/optuna/trial/_trial.py:590: UserWarning: The reported value is ignored because this `step` 38 is already reported.\n",
      "  warnings.warn(\n",
      "/opt/miniconda3/envs/n6758/lib/python3.8/site-packages/optuna/trial/_trial.py:590: UserWarning: The reported value is ignored because this `step` 39 is already reported.\n",
      "  warnings.warn(\n",
      "/opt/miniconda3/envs/n6758/lib/python3.8/site-packages/optuna/trial/_trial.py:590: UserWarning: The reported value is ignored because this `step` 40 is already reported.\n",
      "  warnings.warn(\n",
      "/opt/miniconda3/envs/n6758/lib/python3.8/site-packages/optuna/trial/_trial.py:590: UserWarning: The reported value is ignored because this `step` 41 is already reported.\n",
      "  warnings.warn(\n",
      "/opt/miniconda3/envs/n6758/lib/python3.8/site-packages/optuna/trial/_trial.py:590: UserWarning: The reported value is ignored because this `step` 42 is already reported.\n",
      "  warnings.warn(\n",
      "/opt/miniconda3/envs/n6758/lib/python3.8/site-packages/optuna/trial/_trial.py:590: UserWarning: The reported value is ignored because this `step` 43 is already reported.\n",
      "  warnings.warn(\n",
      "/opt/miniconda3/envs/n6758/lib/python3.8/site-packages/optuna/trial/_trial.py:590: UserWarning: The reported value is ignored because this `step` 44 is already reported.\n",
      "  warnings.warn(\n",
      "/opt/miniconda3/envs/n6758/lib/python3.8/site-packages/optuna/trial/_trial.py:590: UserWarning: The reported value is ignored because this `step` 45 is already reported.\n",
      "  warnings.warn(\n",
      "/opt/miniconda3/envs/n6758/lib/python3.8/site-packages/optuna/trial/_trial.py:590: UserWarning: The reported value is ignored because this `step` 46 is already reported.\n",
      "  warnings.warn(\n",
      "/opt/miniconda3/envs/n6758/lib/python3.8/site-packages/optuna/trial/_trial.py:590: UserWarning: The reported value is ignored because this `step` 47 is already reported.\n",
      "  warnings.warn(\n",
      "/opt/miniconda3/envs/n6758/lib/python3.8/site-packages/optuna/trial/_trial.py:590: UserWarning: The reported value is ignored because this `step` 48 is already reported.\n",
      "  warnings.warn(\n",
      "/opt/miniconda3/envs/n6758/lib/python3.8/site-packages/optuna/trial/_trial.py:590: UserWarning: The reported value is ignored because this `step` 49 is already reported.\n",
      "  warnings.warn(\n",
      "/opt/miniconda3/envs/n6758/lib/python3.8/site-packages/optuna/trial/_trial.py:590: UserWarning: The reported value is ignored because this `step` 50 is already reported.\n",
      "  warnings.warn(\n"
     ]
    },
    {
     "name": "stdout",
     "output_type": "stream",
     "text": [
      "[39]\tvalid_0's binary_logloss: 0.286697\n",
      "[40]\tvalid_0's binary_logloss: 0.286664\n",
      "[41]\tvalid_0's binary_logloss: 0.286633\n",
      "[42]\tvalid_0's binary_logloss: 0.286608\n",
      "[43]\tvalid_0's binary_logloss: 0.286573\n",
      "[44]\tvalid_0's binary_logloss: 0.286548\n",
      "[45]\tvalid_0's binary_logloss: 0.286526\n",
      "[46]\tvalid_0's binary_logloss: 0.28651\n",
      "[47]\tvalid_0's binary_logloss: 0.2865\n",
      "[48]\tvalid_0's binary_logloss: 0.286485\n",
      "[49]\tvalid_0's binary_logloss: 0.286472\n",
      "[50]\tvalid_0's binary_logloss: 0.286462\n",
      "[51]\tvalid_0's binary_logloss: 0.286469\n"
     ]
    },
    {
     "name": "stderr",
     "output_type": "stream",
     "text": [
      "/opt/miniconda3/envs/n6758/lib/python3.8/site-packages/optuna/trial/_trial.py:590: UserWarning: The reported value is ignored because this `step` 51 is already reported.\n",
      "  warnings.warn(\n",
      "/opt/miniconda3/envs/n6758/lib/python3.8/site-packages/optuna/trial/_trial.py:590: UserWarning: The reported value is ignored because this `step` 52 is already reported.\n",
      "  warnings.warn(\n",
      "/opt/miniconda3/envs/n6758/lib/python3.8/site-packages/optuna/trial/_trial.py:590: UserWarning: The reported value is ignored because this `step` 53 is already reported.\n",
      "  warnings.warn(\n",
      "/opt/miniconda3/envs/n6758/lib/python3.8/site-packages/optuna/trial/_trial.py:590: UserWarning: The reported value is ignored because this `step` 54 is already reported.\n",
      "  warnings.warn(\n",
      "/opt/miniconda3/envs/n6758/lib/python3.8/site-packages/optuna/trial/_trial.py:590: UserWarning: The reported value is ignored because this `step` 55 is already reported.\n",
      "  warnings.warn(\n",
      "/opt/miniconda3/envs/n6758/lib/python3.8/site-packages/optuna/trial/_trial.py:590: UserWarning: The reported value is ignored because this `step` 56 is already reported.\n",
      "  warnings.warn(\n",
      "/opt/miniconda3/envs/n6758/lib/python3.8/site-packages/optuna/trial/_trial.py:590: UserWarning: The reported value is ignored because this `step` 57 is already reported.\n",
      "  warnings.warn(\n",
      "/opt/miniconda3/envs/n6758/lib/python3.8/site-packages/optuna/trial/_trial.py:590: UserWarning: The reported value is ignored because this `step` 58 is already reported.\n",
      "  warnings.warn(\n",
      "/opt/miniconda3/envs/n6758/lib/python3.8/site-packages/optuna/trial/_trial.py:590: UserWarning: The reported value is ignored because this `step` 59 is already reported.\n",
      "  warnings.warn(\n"
     ]
    },
    {
     "name": "stdout",
     "output_type": "stream",
     "text": [
      "[52]\tvalid_0's binary_logloss: 0.286469\n",
      "[53]\tvalid_0's binary_logloss: 0.286471\n",
      "[54]\tvalid_0's binary_logloss: 0.286469\n",
      "[55]\tvalid_0's binary_logloss: 0.286466\n",
      "[56]\tvalid_0's binary_logloss: 0.286463\n",
      "[57]\tvalid_0's binary_logloss: 0.286465\n",
      "[58]\tvalid_0's binary_logloss: 0.286475\n",
      "[59]\tvalid_0's binary_logloss: 0.286484\n",
      "[60]\tvalid_0's binary_logloss: 0.286487\n",
      "Early stopping, best iteration is:\n",
      "[50]\tvalid_0's binary_logloss: 0.286462\n"
     ]
    },
    {
     "name": "stderr",
     "output_type": "stream",
     "text": [
      "/opt/miniconda3/envs/n6758/lib/python3.8/site-packages/optuna/trial/_trial.py:590: UserWarning: The reported value is ignored because this `step` 0 is already reported.\n",
      "  warnings.warn(\n",
      "/opt/miniconda3/envs/n6758/lib/python3.8/site-packages/optuna/trial/_trial.py:590: UserWarning: The reported value is ignored because this `step` 1 is already reported.\n",
      "  warnings.warn(\n",
      "/opt/miniconda3/envs/n6758/lib/python3.8/site-packages/optuna/trial/_trial.py:590: UserWarning: The reported value is ignored because this `step` 2 is already reported.\n",
      "  warnings.warn(\n",
      "/opt/miniconda3/envs/n6758/lib/python3.8/site-packages/optuna/trial/_trial.py:590: UserWarning: The reported value is ignored because this `step` 3 is already reported.\n",
      "  warnings.warn(\n",
      "/opt/miniconda3/envs/n6758/lib/python3.8/site-packages/optuna/trial/_trial.py:590: UserWarning: The reported value is ignored because this `step` 4 is already reported.\n",
      "  warnings.warn(\n",
      "/opt/miniconda3/envs/n6758/lib/python3.8/site-packages/optuna/trial/_trial.py:590: UserWarning: The reported value is ignored because this `step` 5 is already reported.\n",
      "  warnings.warn(\n",
      "/opt/miniconda3/envs/n6758/lib/python3.8/site-packages/optuna/trial/_trial.py:590: UserWarning: The reported value is ignored because this `step` 6 is already reported.\n",
      "  warnings.warn(\n",
      "/opt/miniconda3/envs/n6758/lib/python3.8/site-packages/optuna/trial/_trial.py:590: UserWarning: The reported value is ignored because this `step` 7 is already reported.\n",
      "  warnings.warn(\n",
      "/opt/miniconda3/envs/n6758/lib/python3.8/site-packages/optuna/trial/_trial.py:590: UserWarning: The reported value is ignored because this `step` 8 is already reported.\n",
      "  warnings.warn(\n"
     ]
    },
    {
     "name": "stdout",
     "output_type": "stream",
     "text": [
      "[1]\tvalid_0's binary_logloss: 0.308872\n",
      "Training until validation scores don't improve for 10 rounds\n",
      "[2]\tvalid_0's binary_logloss: 0.306406\n",
      "[3]\tvalid_0's binary_logloss: 0.304254\n",
      "[4]\tvalid_0's binary_logloss: 0.302355\n",
      "[5]\tvalid_0's binary_logloss: 0.300662\n",
      "[6]\tvalid_0's binary_logloss: 0.299157\n",
      "[7]\tvalid_0's binary_logloss: 0.297811\n",
      "[8]\tvalid_0's binary_logloss: 0.296599\n",
      "[9]\tvalid_0's binary_logloss: 0.295525\n"
     ]
    },
    {
     "name": "stderr",
     "output_type": "stream",
     "text": [
      "/opt/miniconda3/envs/n6758/lib/python3.8/site-packages/optuna/trial/_trial.py:590: UserWarning: The reported value is ignored because this `step` 9 is already reported.\n",
      "  warnings.warn(\n",
      "/opt/miniconda3/envs/n6758/lib/python3.8/site-packages/optuna/trial/_trial.py:590: UserWarning: The reported value is ignored because this `step` 10 is already reported.\n",
      "  warnings.warn(\n",
      "/opt/miniconda3/envs/n6758/lib/python3.8/site-packages/optuna/trial/_trial.py:590: UserWarning: The reported value is ignored because this `step` 11 is already reported.\n",
      "  warnings.warn(\n",
      "/opt/miniconda3/envs/n6758/lib/python3.8/site-packages/optuna/trial/_trial.py:590: UserWarning: The reported value is ignored because this `step` 12 is already reported.\n",
      "  warnings.warn(\n",
      "/opt/miniconda3/envs/n6758/lib/python3.8/site-packages/optuna/trial/_trial.py:590: UserWarning: The reported value is ignored because this `step` 13 is already reported.\n",
      "  warnings.warn(\n"
     ]
    },
    {
     "name": "stdout",
     "output_type": "stream",
     "text": [
      "[10]\tvalid_0's binary_logloss: 0.294557\n",
      "[11]\tvalid_0's binary_logloss: 0.293673\n",
      "[12]\tvalid_0's binary_logloss: 0.292897\n",
      "[13]\tvalid_0's binary_logloss: 0.292185\n",
      "[14]\tvalid_0's binary_logloss: 0.291533\n"
     ]
    },
    {
     "name": "stderr",
     "output_type": "stream",
     "text": [
      "/opt/miniconda3/envs/n6758/lib/python3.8/site-packages/optuna/trial/_trial.py:590: UserWarning: The reported value is ignored because this `step` 14 is already reported.\n",
      "  warnings.warn(\n",
      "/opt/miniconda3/envs/n6758/lib/python3.8/site-packages/optuna/trial/_trial.py:590: UserWarning: The reported value is ignored because this `step` 15 is already reported.\n",
      "  warnings.warn(\n"
     ]
    },
    {
     "name": "stdout",
     "output_type": "stream",
     "text": [
      "[15]\tvalid_0's binary_logloss: 0.290946\n",
      "[16]\tvalid_0's binary_logloss: 0.290406\n"
     ]
    },
    {
     "name": "stderr",
     "output_type": "stream",
     "text": [
      "/opt/miniconda3/envs/n6758/lib/python3.8/site-packages/optuna/trial/_trial.py:590: UserWarning: The reported value is ignored because this `step` 16 is already reported.\n",
      "  warnings.warn(\n",
      "/opt/miniconda3/envs/n6758/lib/python3.8/site-packages/optuna/trial/_trial.py:590: UserWarning: The reported value is ignored because this `step` 17 is already reported.\n",
      "  warnings.warn(\n",
      "/opt/miniconda3/envs/n6758/lib/python3.8/site-packages/optuna/trial/_trial.py:590: UserWarning: The reported value is ignored because this `step` 18 is already reported.\n",
      "  warnings.warn(\n",
      "/opt/miniconda3/envs/n6758/lib/python3.8/site-packages/optuna/trial/_trial.py:590: UserWarning: The reported value is ignored because this `step` 19 is already reported.\n",
      "  warnings.warn(\n",
      "/opt/miniconda3/envs/n6758/lib/python3.8/site-packages/optuna/trial/_trial.py:590: UserWarning: The reported value is ignored because this `step` 20 is already reported.\n",
      "  warnings.warn(\n"
     ]
    },
    {
     "name": "stdout",
     "output_type": "stream",
     "text": [
      "[17]\tvalid_0's binary_logloss: 0.289924\n",
      "[18]\tvalid_0's binary_logloss: 0.289479\n",
      "[19]\tvalid_0's binary_logloss: 0.289085\n",
      "[20]\tvalid_0's binary_logloss: 0.288725\n",
      "[21]\tvalid_0's binary_logloss: 0.288403\n"
     ]
    },
    {
     "name": "stderr",
     "output_type": "stream",
     "text": [
      "/opt/miniconda3/envs/n6758/lib/python3.8/site-packages/optuna/trial/_trial.py:590: UserWarning: The reported value is ignored because this `step` 21 is already reported.\n",
      "  warnings.warn(\n",
      "/opt/miniconda3/envs/n6758/lib/python3.8/site-packages/optuna/trial/_trial.py:590: UserWarning: The reported value is ignored because this `step` 22 is already reported.\n",
      "  warnings.warn(\n"
     ]
    },
    {
     "name": "stdout",
     "output_type": "stream",
     "text": [
      "[22]\tvalid_0's binary_logloss: 0.288117\n",
      "[23]\tvalid_0's binary_logloss: 0.287843\n"
     ]
    },
    {
     "name": "stderr",
     "output_type": "stream",
     "text": [
      "/opt/miniconda3/envs/n6758/lib/python3.8/site-packages/optuna/trial/_trial.py:590: UserWarning: The reported value is ignored because this `step` 23 is already reported.\n",
      "  warnings.warn(\n",
      "/opt/miniconda3/envs/n6758/lib/python3.8/site-packages/optuna/trial/_trial.py:590: UserWarning: The reported value is ignored because this `step` 24 is already reported.\n",
      "  warnings.warn(\n"
     ]
    },
    {
     "name": "stdout",
     "output_type": "stream",
     "text": [
      "[24]\tvalid_0's binary_logloss: 0.287597\n",
      "[25]\tvalid_0's binary_logloss: 0.287378\n"
     ]
    },
    {
     "name": "stderr",
     "output_type": "stream",
     "text": [
      "/opt/miniconda3/envs/n6758/lib/python3.8/site-packages/optuna/trial/_trial.py:590: UserWarning: The reported value is ignored because this `step` 25 is already reported.\n",
      "  warnings.warn(\n",
      "/opt/miniconda3/envs/n6758/lib/python3.8/site-packages/optuna/trial/_trial.py:590: UserWarning: The reported value is ignored because this `step` 26 is already reported.\n",
      "  warnings.warn(\n",
      "/opt/miniconda3/envs/n6758/lib/python3.8/site-packages/optuna/trial/_trial.py:590: UserWarning: The reported value is ignored because this `step` 27 is already reported.\n",
      "  warnings.warn(\n",
      "/opt/miniconda3/envs/n6758/lib/python3.8/site-packages/optuna/trial/_trial.py:590: UserWarning: The reported value is ignored because this `step` 28 is already reported.\n",
      "  warnings.warn(\n",
      "/opt/miniconda3/envs/n6758/lib/python3.8/site-packages/optuna/trial/_trial.py:590: UserWarning: The reported value is ignored because this `step` 29 is already reported.\n",
      "  warnings.warn(\n"
     ]
    },
    {
     "name": "stdout",
     "output_type": "stream",
     "text": [
      "[26]\tvalid_0's binary_logloss: 0.287181\n",
      "[27]\tvalid_0's binary_logloss: 0.286996\n",
      "[28]\tvalid_0's binary_logloss: 0.286837\n",
      "[29]\tvalid_0's binary_logloss: 0.286692\n",
      "[30]\tvalid_0's binary_logloss: 0.286551\n"
     ]
    },
    {
     "name": "stderr",
     "output_type": "stream",
     "text": [
      "/opt/miniconda3/envs/n6758/lib/python3.8/site-packages/optuna/trial/_trial.py:590: UserWarning: The reported value is ignored because this `step` 30 is already reported.\n",
      "  warnings.warn(\n",
      "/opt/miniconda3/envs/n6758/lib/python3.8/site-packages/optuna/trial/_trial.py:590: UserWarning: The reported value is ignored because this `step` 31 is already reported.\n",
      "  warnings.warn(\n",
      "/opt/miniconda3/envs/n6758/lib/python3.8/site-packages/optuna/trial/_trial.py:590: UserWarning: The reported value is ignored because this `step` 32 is already reported.\n",
      "  warnings.warn(\n",
      "/opt/miniconda3/envs/n6758/lib/python3.8/site-packages/optuna/trial/_trial.py:590: UserWarning: The reported value is ignored because this `step` 33 is already reported.\n",
      "  warnings.warn(\n",
      "/opt/miniconda3/envs/n6758/lib/python3.8/site-packages/optuna/trial/_trial.py:590: UserWarning: The reported value is ignored because this `step` 34 is already reported.\n",
      "  warnings.warn(\n",
      "/opt/miniconda3/envs/n6758/lib/python3.8/site-packages/optuna/trial/_trial.py:590: UserWarning: The reported value is ignored because this `step` 35 is already reported.\n",
      "  warnings.warn(\n"
     ]
    },
    {
     "name": "stdout",
     "output_type": "stream",
     "text": [
      "[31]\tvalid_0's binary_logloss: 0.28643\n",
      "[32]\tvalid_0's binary_logloss: 0.286323\n",
      "[33]\tvalid_0's binary_logloss: 0.286228\n",
      "[34]\tvalid_0's binary_logloss: 0.286134\n",
      "[35]\tvalid_0's binary_logloss: 0.286062\n",
      "[36]\tvalid_0's binary_logloss: 0.285982\n"
     ]
    },
    {
     "name": "stderr",
     "output_type": "stream",
     "text": [
      "/opt/miniconda3/envs/n6758/lib/python3.8/site-packages/optuna/trial/_trial.py:590: UserWarning: The reported value is ignored because this `step` 36 is already reported.\n",
      "  warnings.warn(\n"
     ]
    },
    {
     "name": "stdout",
     "output_type": "stream",
     "text": [
      "[37]\tvalid_0's binary_logloss: 0.285906\n"
     ]
    },
    {
     "name": "stderr",
     "output_type": "stream",
     "text": [
      "/opt/miniconda3/envs/n6758/lib/python3.8/site-packages/optuna/trial/_trial.py:590: UserWarning: The reported value is ignored because this `step` 37 is already reported.\n",
      "  warnings.warn(\n",
      "/opt/miniconda3/envs/n6758/lib/python3.8/site-packages/optuna/trial/_trial.py:590: UserWarning: The reported value is ignored because this `step` 38 is already reported.\n",
      "  warnings.warn(\n"
     ]
    },
    {
     "name": "stdout",
     "output_type": "stream",
     "text": [
      "[38]\tvalid_0's binary_logloss: 0.285848\n",
      "[39]\tvalid_0's binary_logloss: 0.285785\n"
     ]
    },
    {
     "name": "stderr",
     "output_type": "stream",
     "text": [
      "/opt/miniconda3/envs/n6758/lib/python3.8/site-packages/optuna/trial/_trial.py:590: UserWarning: The reported value is ignored because this `step` 39 is already reported.\n",
      "  warnings.warn(\n",
      "/opt/miniconda3/envs/n6758/lib/python3.8/site-packages/optuna/trial/_trial.py:590: UserWarning: The reported value is ignored because this `step` 40 is already reported.\n",
      "  warnings.warn(\n",
      "/opt/miniconda3/envs/n6758/lib/python3.8/site-packages/optuna/trial/_trial.py:590: UserWarning: The reported value is ignored because this `step` 41 is already reported.\n",
      "  warnings.warn(\n",
      "/opt/miniconda3/envs/n6758/lib/python3.8/site-packages/optuna/trial/_trial.py:590: UserWarning: The reported value is ignored because this `step` 42 is already reported.\n",
      "  warnings.warn(\n",
      "/opt/miniconda3/envs/n6758/lib/python3.8/site-packages/optuna/trial/_trial.py:590: UserWarning: The reported value is ignored because this `step` 43 is already reported.\n",
      "  warnings.warn(\n"
     ]
    },
    {
     "name": "stdout",
     "output_type": "stream",
     "text": [
      "[40]\tvalid_0's binary_logloss: 0.285738\n",
      "[41]\tvalid_0's binary_logloss: 0.285688\n",
      "[42]\tvalid_0's binary_logloss: 0.285651\n",
      "[43]\tvalid_0's binary_logloss: 0.285609\n",
      "[44]\tvalid_0's binary_logloss: 0.285578\n"
     ]
    },
    {
     "name": "stderr",
     "output_type": "stream",
     "text": [
      "/opt/miniconda3/envs/n6758/lib/python3.8/site-packages/optuna/trial/_trial.py:590: UserWarning: The reported value is ignored because this `step` 44 is already reported.\n",
      "  warnings.warn(\n",
      "/opt/miniconda3/envs/n6758/lib/python3.8/site-packages/optuna/trial/_trial.py:590: UserWarning: The reported value is ignored because this `step` 45 is already reported.\n",
      "  warnings.warn(\n",
      "/opt/miniconda3/envs/n6758/lib/python3.8/site-packages/optuna/trial/_trial.py:590: UserWarning: The reported value is ignored because this `step` 46 is already reported.\n",
      "  warnings.warn(\n",
      "/opt/miniconda3/envs/n6758/lib/python3.8/site-packages/optuna/trial/_trial.py:590: UserWarning: The reported value is ignored because this `step` 47 is already reported.\n",
      "  warnings.warn(\n",
      "/opt/miniconda3/envs/n6758/lib/python3.8/site-packages/optuna/trial/_trial.py:590: UserWarning: The reported value is ignored because this `step` 48 is already reported.\n",
      "  warnings.warn(\n"
     ]
    },
    {
     "name": "stdout",
     "output_type": "stream",
     "text": [
      "[45]\tvalid_0's binary_logloss: 0.285563\n",
      "[46]\tvalid_0's binary_logloss: 0.285529\n",
      "[47]\tvalid_0's binary_logloss: 0.28551\n",
      "[48]\tvalid_0's binary_logloss: 0.285488\n",
      "[49]\tvalid_0's binary_logloss: 0.285472\n"
     ]
    },
    {
     "name": "stderr",
     "output_type": "stream",
     "text": [
      "/opt/miniconda3/envs/n6758/lib/python3.8/site-packages/optuna/trial/_trial.py:590: UserWarning: The reported value is ignored because this `step` 49 is already reported.\n",
      "  warnings.warn(\n",
      "/opt/miniconda3/envs/n6758/lib/python3.8/site-packages/optuna/trial/_trial.py:590: UserWarning: The reported value is ignored because this `step` 50 is already reported.\n",
      "  warnings.warn(\n",
      "/opt/miniconda3/envs/n6758/lib/python3.8/site-packages/optuna/trial/_trial.py:590: UserWarning: The reported value is ignored because this `step` 51 is already reported.\n",
      "  warnings.warn(\n",
      "/opt/miniconda3/envs/n6758/lib/python3.8/site-packages/optuna/trial/_trial.py:590: UserWarning: The reported value is ignored because this `step` 52 is already reported.\n",
      "  warnings.warn(\n",
      "/opt/miniconda3/envs/n6758/lib/python3.8/site-packages/optuna/trial/_trial.py:590: UserWarning: The reported value is ignored because this `step` 53 is already reported.\n",
      "  warnings.warn(\n",
      "/opt/miniconda3/envs/n6758/lib/python3.8/site-packages/optuna/trial/_trial.py:590: UserWarning: The reported value is ignored because this `step` 54 is already reported.\n",
      "  warnings.warn(\n",
      "/opt/miniconda3/envs/n6758/lib/python3.8/site-packages/optuna/trial/_trial.py:590: UserWarning: The reported value is ignored because this `step` 55 is already reported.\n",
      "  warnings.warn(\n",
      "/opt/miniconda3/envs/n6758/lib/python3.8/site-packages/optuna/trial/_trial.py:590: UserWarning: The reported value is ignored because this `step` 56 is already reported.\n",
      "  warnings.warn(\n",
      "/opt/miniconda3/envs/n6758/lib/python3.8/site-packages/optuna/trial/_trial.py:590: UserWarning: The reported value is ignored because this `step` 57 is already reported.\n",
      "  warnings.warn(\n",
      "/opt/miniconda3/envs/n6758/lib/python3.8/site-packages/optuna/trial/_trial.py:590: UserWarning: The reported value is ignored because this `step` 58 is already reported.\n",
      "  warnings.warn(\n",
      "/opt/miniconda3/envs/n6758/lib/python3.8/site-packages/optuna/trial/_trial.py:590: UserWarning: The reported value is ignored because this `step` 59 is already reported.\n",
      "  warnings.warn(\n",
      "/opt/miniconda3/envs/n6758/lib/python3.8/site-packages/optuna/trial/_trial.py:590: UserWarning: The reported value is ignored because this `step` 60 is already reported.\n",
      "  warnings.warn(\n",
      "/opt/miniconda3/envs/n6758/lib/python3.8/site-packages/optuna/trial/_trial.py:590: UserWarning: The reported value is ignored because this `step` 61 is already reported.\n",
      "  warnings.warn(\n",
      "/opt/miniconda3/envs/n6758/lib/python3.8/site-packages/optuna/trial/_trial.py:590: UserWarning: The reported value is ignored because this `step` 62 is already reported.\n",
      "  warnings.warn(\n",
      "/opt/miniconda3/envs/n6758/lib/python3.8/site-packages/optuna/trial/_trial.py:590: UserWarning: The reported value is ignored because this `step` 63 is already reported.\n",
      "  warnings.warn(\n"
     ]
    },
    {
     "name": "stdout",
     "output_type": "stream",
     "text": [
      "[50]\tvalid_0's binary_logloss: 0.285452\n",
      "[51]\tvalid_0's binary_logloss: 0.28544\n",
      "[52]\tvalid_0's binary_logloss: 0.285421\n",
      "[53]\tvalid_0's binary_logloss: 0.285415\n",
      "[54]\tvalid_0's binary_logloss: 0.285405\n",
      "[55]\tvalid_0's binary_logloss: 0.285391\n",
      "[56]\tvalid_0's binary_logloss: 0.285382\n",
      "[57]\tvalid_0's binary_logloss: 0.285382\n",
      "[58]\tvalid_0's binary_logloss: 0.285368\n",
      "[59]\tvalid_0's binary_logloss: 0.285358\n",
      "[60]\tvalid_0's binary_logloss: 0.285355\n",
      "[61]\tvalid_0's binary_logloss: 0.285353\n",
      "[62]\tvalid_0's binary_logloss: 0.285343\n",
      "[63]\tvalid_0's binary_logloss: 0.285334\n",
      "[64]\tvalid_0's binary_logloss: 0.285337\n"
     ]
    },
    {
     "name": "stderr",
     "output_type": "stream",
     "text": [
      "/opt/miniconda3/envs/n6758/lib/python3.8/site-packages/optuna/trial/_trial.py:590: UserWarning: The reported value is ignored because this `step` 64 is already reported.\n",
      "  warnings.warn(\n",
      "/opt/miniconda3/envs/n6758/lib/python3.8/site-packages/optuna/trial/_trial.py:590: UserWarning: The reported value is ignored because this `step` 65 is already reported.\n",
      "  warnings.warn(\n",
      "/opt/miniconda3/envs/n6758/lib/python3.8/site-packages/optuna/trial/_trial.py:590: UserWarning: The reported value is ignored because this `step` 66 is already reported.\n",
      "  warnings.warn(\n",
      "/opt/miniconda3/envs/n6758/lib/python3.8/site-packages/optuna/trial/_trial.py:590: UserWarning: The reported value is ignored because this `step` 67 is already reported.\n",
      "  warnings.warn(\n",
      "/opt/miniconda3/envs/n6758/lib/python3.8/site-packages/optuna/trial/_trial.py:590: UserWarning: The reported value is ignored because this `step` 68 is already reported.\n",
      "  warnings.warn(\n",
      "/opt/miniconda3/envs/n6758/lib/python3.8/site-packages/optuna/trial/_trial.py:590: UserWarning: The reported value is ignored because this `step` 69 is already reported.\n",
      "  warnings.warn(\n",
      "/opt/miniconda3/envs/n6758/lib/python3.8/site-packages/optuna/trial/_trial.py:590: UserWarning: The reported value is ignored because this `step` 70 is already reported.\n",
      "  warnings.warn(\n",
      "/opt/miniconda3/envs/n6758/lib/python3.8/site-packages/optuna/trial/_trial.py:590: UserWarning: The reported value is ignored because this `step` 71 is already reported.\n",
      "  warnings.warn(\n",
      "/opt/miniconda3/envs/n6758/lib/python3.8/site-packages/optuna/trial/_trial.py:590: UserWarning: The reported value is ignored because this `step` 72 is already reported.\n",
      "  warnings.warn(\n",
      "/opt/miniconda3/envs/n6758/lib/python3.8/site-packages/optuna/trial/_trial.py:590: UserWarning: The reported value is ignored because this `step` 73 is already reported.\n",
      "  warnings.warn(\n",
      "/opt/miniconda3/envs/n6758/lib/python3.8/site-packages/optuna/trial/_trial.py:590: UserWarning: The reported value is ignored because this `step` 74 is already reported.\n",
      "  warnings.warn(\n",
      "/opt/miniconda3/envs/n6758/lib/python3.8/site-packages/optuna/trial/_trial.py:590: UserWarning: The reported value is ignored because this `step` 75 is already reported.\n",
      "  warnings.warn(\n"
     ]
    },
    {
     "name": "stdout",
     "output_type": "stream",
     "text": [
      "[65]\tvalid_0's binary_logloss: 0.285341\n",
      "[66]\tvalid_0's binary_logloss: 0.285337\n",
      "[67]\tvalid_0's binary_logloss: 0.285333\n",
      "[68]\tvalid_0's binary_logloss: 0.285339\n",
      "[69]\tvalid_0's binary_logloss: 0.285344\n",
      "[70]\tvalid_0's binary_logloss: 0.285338\n",
      "[71]\tvalid_0's binary_logloss: 0.285336\n",
      "[72]\tvalid_0's binary_logloss: 0.285336\n",
      "[73]\tvalid_0's binary_logloss: 0.285335\n",
      "[74]\tvalid_0's binary_logloss: 0.285339\n",
      "[75]\tvalid_0's binary_logloss: 0.285333\n",
      "[76]\tvalid_0's binary_logloss: 0.285339\n",
      "[77]\tvalid_0's binary_logloss: 0.285336\n",
      "[78]\tvalid_0's binary_logloss: 0.285337\n",
      "[79]\tvalid_0's binary_logloss: 0.285344\n",
      "[80]\tvalid_0's binary_logloss: 0.285341\n",
      "[81]\tvalid_0's binary_logloss: 0.285349\n",
      "[82]\tvalid_0's binary_logloss: 0.285353\n",
      "[83]\tvalid_0's binary_logloss: 0.285347\n",
      "[84]\tvalid_0's binary_logloss: 0.285347\n",
      "[85]\tvalid_0's binary_logloss: 0.28535\n",
      "Early stopping, best iteration is:\n",
      "[75]\tvalid_0's binary_logloss: 0.285333\n"
     ]
    },
    {
     "name": "stderr",
     "output_type": "stream",
     "text": [
      "\u001B[32m[I 2021-11-22 17:48:02,276]\u001B[0m Trial 4 finished with value: 0.28599192113689864 and parameters: {'n_estimators': 500, 'learning_rate': 0.054629693242019724, 'num_leaves': 60, 'max_depth': 6}. Best is trial 3 with value: 0.28583431845482205.\u001B[0m\n"
     ]
    },
    {
     "name": "stdout",
     "output_type": "stream",
     "text": [
      "[1]\tvalid_0's binary_logloss: 0.299171\n",
      "Training until validation scores don't improve for 10 rounds\n",
      "[2]\tvalid_0's binary_logloss: 0.293471\n",
      "[3]\tvalid_0's binary_logloss: 0.290302\n",
      "[4]\tvalid_0's binary_logloss: 0.288508\n",
      "[5]\tvalid_0's binary_logloss: 0.287468\n",
      "[6]\tvalid_0's binary_logloss: 0.286872\n",
      "[7]\tvalid_0's binary_logloss: 0.286523\n",
      "[8]\tvalid_0's binary_logloss: 0.286344\n",
      "[9]\tvalid_0's binary_logloss: 0.286207\n",
      "[10]\tvalid_0's binary_logloss: 0.286181\n",
      "[11]\tvalid_0's binary_logloss: 0.286182\n",
      "[12]\tvalid_0's binary_logloss: 0.286201\n",
      "[13]\tvalid_0's binary_logloss: 0.286223\n",
      "[14]\tvalid_0's binary_logloss: 0.286221\n",
      "[15]\tvalid_0's binary_logloss: 0.28621\n",
      "[16]\tvalid_0's binary_logloss: 0.286223\n",
      "[17]\tvalid_0's binary_logloss: 0.286216\n",
      "[18]\tvalid_0's binary_logloss: 0.286264\n",
      "[19]\tvalid_0's binary_logloss: 0.286288\n",
      "[20]\tvalid_0's binary_logloss: 0.286312\n",
      "Early stopping, best iteration is:\n",
      "[10]\tvalid_0's binary_logloss: 0.286181\n"
     ]
    },
    {
     "name": "stderr",
     "output_type": "stream",
     "text": [
      "/opt/miniconda3/envs/n6758/lib/python3.8/site-packages/optuna/trial/_trial.py:590: UserWarning: The reported value is ignored because this `step` 0 is already reported.\n",
      "  warnings.warn(\n",
      "/opt/miniconda3/envs/n6758/lib/python3.8/site-packages/optuna/trial/_trial.py:590: UserWarning: The reported value is ignored because this `step` 1 is already reported.\n",
      "  warnings.warn(\n",
      "/opt/miniconda3/envs/n6758/lib/python3.8/site-packages/optuna/trial/_trial.py:590: UserWarning: The reported value is ignored because this `step` 2 is already reported.\n",
      "  warnings.warn(\n",
      "/opt/miniconda3/envs/n6758/lib/python3.8/site-packages/optuna/trial/_trial.py:590: UserWarning: The reported value is ignored because this `step` 3 is already reported.\n",
      "  warnings.warn(\n",
      "/opt/miniconda3/envs/n6758/lib/python3.8/site-packages/optuna/trial/_trial.py:590: UserWarning: The reported value is ignored because this `step` 4 is already reported.\n",
      "  warnings.warn(\n",
      "/opt/miniconda3/envs/n6758/lib/python3.8/site-packages/optuna/trial/_trial.py:590: UserWarning: The reported value is ignored because this `step` 5 is already reported.\n",
      "  warnings.warn(\n",
      "/opt/miniconda3/envs/n6758/lib/python3.8/site-packages/optuna/trial/_trial.py:590: UserWarning: The reported value is ignored because this `step` 6 is already reported.\n",
      "  warnings.warn(\n"
     ]
    },
    {
     "name": "stdout",
     "output_type": "stream",
     "text": [
      "[1]\tvalid_0's binary_logloss: 0.29914\n",
      "Training until validation scores don't improve for 10 rounds\n",
      "[2]\tvalid_0's binary_logloss: 0.293398\n",
      "[3]\tvalid_0's binary_logloss: 0.290304\n",
      "[4]\tvalid_0's binary_logloss: 0.288537\n",
      "[5]\tvalid_0's binary_logloss: 0.287526\n",
      "[6]\tvalid_0's binary_logloss: 0.286995\n",
      "[7]\tvalid_0's binary_logloss: 0.286679\n"
     ]
    },
    {
     "name": "stderr",
     "output_type": "stream",
     "text": [
      "/opt/miniconda3/envs/n6758/lib/python3.8/site-packages/optuna/trial/_trial.py:590: UserWarning: The reported value is ignored because this `step` 7 is already reported.\n",
      "  warnings.warn(\n",
      "/opt/miniconda3/envs/n6758/lib/python3.8/site-packages/optuna/trial/_trial.py:590: UserWarning: The reported value is ignored because this `step` 8 is already reported.\n",
      "  warnings.warn(\n",
      "/opt/miniconda3/envs/n6758/lib/python3.8/site-packages/optuna/trial/_trial.py:590: UserWarning: The reported value is ignored because this `step` 9 is already reported.\n",
      "  warnings.warn(\n",
      "/opt/miniconda3/envs/n6758/lib/python3.8/site-packages/optuna/trial/_trial.py:590: UserWarning: The reported value is ignored because this `step` 10 is already reported.\n",
      "  warnings.warn(\n",
      "/opt/miniconda3/envs/n6758/lib/python3.8/site-packages/optuna/trial/_trial.py:590: UserWarning: The reported value is ignored because this `step` 11 is already reported.\n",
      "  warnings.warn(\n",
      "/opt/miniconda3/envs/n6758/lib/python3.8/site-packages/optuna/trial/_trial.py:590: UserWarning: The reported value is ignored because this `step` 12 is already reported.\n",
      "  warnings.warn(\n",
      "/opt/miniconda3/envs/n6758/lib/python3.8/site-packages/optuna/trial/_trial.py:590: UserWarning: The reported value is ignored because this `step` 13 is already reported.\n",
      "  warnings.warn(\n",
      "/opt/miniconda3/envs/n6758/lib/python3.8/site-packages/optuna/trial/_trial.py:590: UserWarning: The reported value is ignored because this `step` 14 is already reported.\n",
      "  warnings.warn(\n",
      "/opt/miniconda3/envs/n6758/lib/python3.8/site-packages/optuna/trial/_trial.py:590: UserWarning: The reported value is ignored because this `step` 15 is already reported.\n",
      "  warnings.warn(\n"
     ]
    },
    {
     "name": "stdout",
     "output_type": "stream",
     "text": [
      "[8]\tvalid_0's binary_logloss: 0.286492\n",
      "[9]\tvalid_0's binary_logloss: 0.28638\n",
      "[10]\tvalid_0's binary_logloss: 0.286364\n",
      "[11]\tvalid_0's binary_logloss: 0.286362\n",
      "[12]\tvalid_0's binary_logloss: 0.286395\n",
      "[13]\tvalid_0's binary_logloss: 0.286401\n",
      "[14]\tvalid_0's binary_logloss: 0.286437\n",
      "[15]\tvalid_0's binary_logloss: 0.286459\n",
      "[16]\tvalid_0's binary_logloss: 0.28648\n"
     ]
    },
    {
     "name": "stderr",
     "output_type": "stream",
     "text": [
      "/opt/miniconda3/envs/n6758/lib/python3.8/site-packages/optuna/trial/_trial.py:590: UserWarning: The reported value is ignored because this `step` 16 is already reported.\n",
      "  warnings.warn(\n",
      "/opt/miniconda3/envs/n6758/lib/python3.8/site-packages/optuna/trial/_trial.py:590: UserWarning: The reported value is ignored because this `step` 17 is already reported.\n",
      "  warnings.warn(\n",
      "/opt/miniconda3/envs/n6758/lib/python3.8/site-packages/optuna/trial/_trial.py:590: UserWarning: The reported value is ignored because this `step` 18 is already reported.\n",
      "  warnings.warn(\n",
      "/opt/miniconda3/envs/n6758/lib/python3.8/site-packages/optuna/trial/_trial.py:590: UserWarning: The reported value is ignored because this `step` 19 is already reported.\n",
      "  warnings.warn(\n"
     ]
    },
    {
     "name": "stdout",
     "output_type": "stream",
     "text": [
      "[17]\tvalid_0's binary_logloss: 0.286478\n",
      "[18]\tvalid_0's binary_logloss: 0.286501\n",
      "[19]\tvalid_0's binary_logloss: 0.286522\n",
      "[20]\tvalid_0's binary_logloss: 0.286522\n",
      "[21]\tvalid_0's binary_logloss: 0.286532\n",
      "Early stopping, best iteration is:\n",
      "[11]\tvalid_0's binary_logloss: 0.286362\n"
     ]
    },
    {
     "name": "stderr",
     "output_type": "stream",
     "text": [
      "/opt/miniconda3/envs/n6758/lib/python3.8/site-packages/optuna/trial/_trial.py:590: UserWarning: The reported value is ignored because this `step` 0 is already reported.\n",
      "  warnings.warn(\n",
      "/opt/miniconda3/envs/n6758/lib/python3.8/site-packages/optuna/trial/_trial.py:590: UserWarning: The reported value is ignored because this `step` 1 is already reported.\n",
      "  warnings.warn(\n",
      "/opt/miniconda3/envs/n6758/lib/python3.8/site-packages/optuna/trial/_trial.py:590: UserWarning: The reported value is ignored because this `step` 2 is already reported.\n",
      "  warnings.warn(\n",
      "/opt/miniconda3/envs/n6758/lib/python3.8/site-packages/optuna/trial/_trial.py:590: UserWarning: The reported value is ignored because this `step` 3 is already reported.\n",
      "  warnings.warn(\n",
      "/opt/miniconda3/envs/n6758/lib/python3.8/site-packages/optuna/trial/_trial.py:590: UserWarning: The reported value is ignored because this `step` 4 is already reported.\n",
      "  warnings.warn(\n",
      "/opt/miniconda3/envs/n6758/lib/python3.8/site-packages/optuna/trial/_trial.py:590: UserWarning: The reported value is ignored because this `step` 5 is already reported.\n",
      "  warnings.warn(\n",
      "/opt/miniconda3/envs/n6758/lib/python3.8/site-packages/optuna/trial/_trial.py:590: UserWarning: The reported value is ignored because this `step` 6 is already reported.\n",
      "  warnings.warn(\n",
      "/opt/miniconda3/envs/n6758/lib/python3.8/site-packages/optuna/trial/_trial.py:590: UserWarning: The reported value is ignored because this `step` 7 is already reported.\n",
      "  warnings.warn(\n",
      "/opt/miniconda3/envs/n6758/lib/python3.8/site-packages/optuna/trial/_trial.py:590: UserWarning: The reported value is ignored because this `step` 8 is already reported.\n",
      "  warnings.warn(\n",
      "/opt/miniconda3/envs/n6758/lib/python3.8/site-packages/optuna/trial/_trial.py:590: UserWarning: The reported value is ignored because this `step` 9 is already reported.\n",
      "  warnings.warn(\n"
     ]
    },
    {
     "name": "stdout",
     "output_type": "stream",
     "text": [
      "[1]\tvalid_0's binary_logloss: 0.299024\n",
      "Training until validation scores don't improve for 10 rounds\n",
      "[2]\tvalid_0's binary_logloss: 0.293111\n",
      "[3]\tvalid_0's binary_logloss: 0.289827\n",
      "[4]\tvalid_0's binary_logloss: 0.287975\n",
      "[5]\tvalid_0's binary_logloss: 0.286836\n",
      "[6]\tvalid_0's binary_logloss: 0.286146\n",
      "[7]\tvalid_0's binary_logloss: 0.285708\n",
      "[8]\tvalid_0's binary_logloss: 0.285458\n",
      "[9]\tvalid_0's binary_logloss: 0.285375\n",
      "[10]\tvalid_0's binary_logloss: 0.285283\n"
     ]
    },
    {
     "name": "stderr",
     "output_type": "stream",
     "text": [
      "/opt/miniconda3/envs/n6758/lib/python3.8/site-packages/optuna/trial/_trial.py:590: UserWarning: The reported value is ignored because this `step` 10 is already reported.\n",
      "  warnings.warn(\n",
      "/opt/miniconda3/envs/n6758/lib/python3.8/site-packages/optuna/trial/_trial.py:590: UserWarning: The reported value is ignored because this `step` 11 is already reported.\n",
      "  warnings.warn(\n",
      "/opt/miniconda3/envs/n6758/lib/python3.8/site-packages/optuna/trial/_trial.py:590: UserWarning: The reported value is ignored because this `step` 12 is already reported.\n",
      "  warnings.warn(\n",
      "/opt/miniconda3/envs/n6758/lib/python3.8/site-packages/optuna/trial/_trial.py:590: UserWarning: The reported value is ignored because this `step` 13 is already reported.\n",
      "  warnings.warn(\n",
      "/opt/miniconda3/envs/n6758/lib/python3.8/site-packages/optuna/trial/_trial.py:590: UserWarning: The reported value is ignored because this `step` 14 is already reported.\n",
      "  warnings.warn(\n",
      "/opt/miniconda3/envs/n6758/lib/python3.8/site-packages/optuna/trial/_trial.py:590: UserWarning: The reported value is ignored because this `step` 15 is already reported.\n",
      "  warnings.warn(\n",
      "/opt/miniconda3/envs/n6758/lib/python3.8/site-packages/optuna/trial/_trial.py:590: UserWarning: The reported value is ignored because this `step` 16 is already reported.\n",
      "  warnings.warn(\n",
      "/opt/miniconda3/envs/n6758/lib/python3.8/site-packages/optuna/trial/_trial.py:590: UserWarning: The reported value is ignored because this `step` 17 is already reported.\n",
      "  warnings.warn(\n",
      "/opt/miniconda3/envs/n6758/lib/python3.8/site-packages/optuna/trial/_trial.py:590: UserWarning: The reported value is ignored because this `step` 18 is already reported.\n",
      "  warnings.warn(\n",
      "/opt/miniconda3/envs/n6758/lib/python3.8/site-packages/optuna/trial/_trial.py:590: UserWarning: The reported value is ignored because this `step` 19 is already reported.\n",
      "  warnings.warn(\n",
      "/opt/miniconda3/envs/n6758/lib/python3.8/site-packages/optuna/trial/_trial.py:590: UserWarning: The reported value is ignored because this `step` 20 is already reported.\n",
      "  warnings.warn(\n"
     ]
    },
    {
     "name": "stdout",
     "output_type": "stream",
     "text": [
      "[11]\tvalid_0's binary_logloss: 0.285226\n",
      "[12]\tvalid_0's binary_logloss: 0.285178\n",
      "[13]\tvalid_0's binary_logloss: 0.28518\n",
      "[14]\tvalid_0's binary_logloss: 0.285164\n",
      "[15]\tvalid_0's binary_logloss: 0.285185\n",
      "[16]\tvalid_0's binary_logloss: 0.285219\n",
      "[17]\tvalid_0's binary_logloss: 0.285261\n",
      "[18]\tvalid_0's binary_logloss: 0.285282\n",
      "[19]\tvalid_0's binary_logloss: 0.285299\n",
      "[20]\tvalid_0's binary_logloss: 0.28531\n",
      "[21]\tvalid_0's binary_logloss: 0.285307\n",
      "[22]\tvalid_0's binary_logloss: 0.285315\n",
      "[23]\tvalid_0's binary_logloss: 0.285327\n",
      "[24]\tvalid_0's binary_logloss: 0.285319\n",
      "Early stopping, best iteration is:\n",
      "[14]\tvalid_0's binary_logloss: 0.285164\n"
     ]
    },
    {
     "name": "stderr",
     "output_type": "stream",
     "text": [
      "\u001B[32m[I 2021-11-22 17:48:05,438]\u001B[0m Trial 5 finished with value: 0.28590246128990837 and parameters: {'n_estimators': 650, 'learning_rate': 0.2904786423225171, 'num_leaves': 20, 'max_depth': 8}. Best is trial 3 with value: 0.28583431845482205.\u001B[0m\n",
      "\u001B[32m[I 2021-11-22 17:48:05,838]\u001B[0m Trial 6 pruned. Trial was pruned at iteration 0.\u001B[0m\n"
     ]
    },
    {
     "name": "stdout",
     "output_type": "stream",
     "text": [
      "[1]\tvalid_0's binary_logloss: 0.299224\n",
      "Training until validation scores don't improve for 10 rounds\n",
      "[2]\tvalid_0's binary_logloss: 0.293518\n",
      "[3]\tvalid_0's binary_logloss: 0.290341\n",
      "[4]\tvalid_0's binary_logloss: 0.288561\n",
      "[5]\tvalid_0's binary_logloss: 0.28746\n",
      "[6]\tvalid_0's binary_logloss: 0.286857\n",
      "[7]\tvalid_0's binary_logloss: 0.286509\n",
      "[8]\tvalid_0's binary_logloss: 0.286366\n",
      "[9]\tvalid_0's binary_logloss: 0.2863\n",
      "[10]\tvalid_0's binary_logloss: 0.286235\n",
      "[11]\tvalid_0's binary_logloss: 0.286231\n",
      "[12]\tvalid_0's binary_logloss: 0.286245\n",
      "[13]\tvalid_0's binary_logloss: 0.286258\n",
      "[14]\tvalid_0's binary_logloss: 0.286278\n",
      "[15]\tvalid_0's binary_logloss: 0.286272\n",
      "[16]\tvalid_0's binary_logloss: 0.286264\n",
      "[17]\tvalid_0's binary_logloss: 0.286274\n",
      "[18]\tvalid_0's binary_logloss: 0.286307\n",
      "[19]\tvalid_0's binary_logloss: 0.286307\n",
      "[20]\tvalid_0's binary_logloss: 0.286318\n",
      "[21]\tvalid_0's binary_logloss: 0.286341\n",
      "Early stopping, best iteration is:\n",
      "[11]\tvalid_0's binary_logloss: 0.286231\n"
     ]
    },
    {
     "name": "stderr",
     "output_type": "stream",
     "text": [
      "/opt/miniconda3/envs/n6758/lib/python3.8/site-packages/optuna/trial/_trial.py:590: UserWarning: The reported value is ignored because this `step` 0 is already reported.\n",
      "  warnings.warn(\n",
      "/opt/miniconda3/envs/n6758/lib/python3.8/site-packages/optuna/trial/_trial.py:590: UserWarning: The reported value is ignored because this `step` 1 is already reported.\n",
      "  warnings.warn(\n",
      "/opt/miniconda3/envs/n6758/lib/python3.8/site-packages/optuna/trial/_trial.py:590: UserWarning: The reported value is ignored because this `step` 2 is already reported.\n",
      "  warnings.warn(\n",
      "/opt/miniconda3/envs/n6758/lib/python3.8/site-packages/optuna/trial/_trial.py:590: UserWarning: The reported value is ignored because this `step` 3 is already reported.\n",
      "  warnings.warn(\n",
      "/opt/miniconda3/envs/n6758/lib/python3.8/site-packages/optuna/trial/_trial.py:590: UserWarning: The reported value is ignored because this `step` 4 is already reported.\n",
      "  warnings.warn(\n",
      "/opt/miniconda3/envs/n6758/lib/python3.8/site-packages/optuna/trial/_trial.py:590: UserWarning: The reported value is ignored because this `step` 5 is already reported.\n",
      "  warnings.warn(\n",
      "/opt/miniconda3/envs/n6758/lib/python3.8/site-packages/optuna/trial/_trial.py:590: UserWarning: The reported value is ignored because this `step` 6 is already reported.\n",
      "  warnings.warn(\n"
     ]
    },
    {
     "name": "stdout",
     "output_type": "stream",
     "text": [
      "[1]\tvalid_0's binary_logloss: 0.299194\n",
      "Training until validation scores don't improve for 10 rounds\n",
      "[2]\tvalid_0's binary_logloss: 0.29345\n",
      "[3]\tvalid_0's binary_logloss: 0.290346\n",
      "[4]\tvalid_0's binary_logloss: 0.288568\n",
      "[5]\tvalid_0's binary_logloss: 0.287548\n",
      "[6]\tvalid_0's binary_logloss: 0.287009\n",
      "[7]\tvalid_0's binary_logloss: 0.286688\n"
     ]
    },
    {
     "name": "stderr",
     "output_type": "stream",
     "text": [
      "/opt/miniconda3/envs/n6758/lib/python3.8/site-packages/optuna/trial/_trial.py:590: UserWarning: The reported value is ignored because this `step` 7 is already reported.\n",
      "  warnings.warn(\n",
      "/opt/miniconda3/envs/n6758/lib/python3.8/site-packages/optuna/trial/_trial.py:590: UserWarning: The reported value is ignored because this `step` 8 is already reported.\n",
      "  warnings.warn(\n",
      "/opt/miniconda3/envs/n6758/lib/python3.8/site-packages/optuna/trial/_trial.py:590: UserWarning: The reported value is ignored because this `step` 9 is already reported.\n",
      "  warnings.warn(\n",
      "/opt/miniconda3/envs/n6758/lib/python3.8/site-packages/optuna/trial/_trial.py:590: UserWarning: The reported value is ignored because this `step` 10 is already reported.\n",
      "  warnings.warn(\n",
      "/opt/miniconda3/envs/n6758/lib/python3.8/site-packages/optuna/trial/_trial.py:590: UserWarning: The reported value is ignored because this `step` 11 is already reported.\n",
      "  warnings.warn(\n",
      "/opt/miniconda3/envs/n6758/lib/python3.8/site-packages/optuna/trial/_trial.py:590: UserWarning: The reported value is ignored because this `step` 12 is already reported.\n",
      "  warnings.warn(\n",
      "/opt/miniconda3/envs/n6758/lib/python3.8/site-packages/optuna/trial/_trial.py:590: UserWarning: The reported value is ignored because this `step` 13 is already reported.\n",
      "  warnings.warn(\n",
      "/opt/miniconda3/envs/n6758/lib/python3.8/site-packages/optuna/trial/_trial.py:590: UserWarning: The reported value is ignored because this `step` 14 is already reported.\n",
      "  warnings.warn(\n"
     ]
    },
    {
     "name": "stdout",
     "output_type": "stream",
     "text": [
      "[8]\tvalid_0's binary_logloss: 0.286481\n",
      "[9]\tvalid_0's binary_logloss: 0.286382\n",
      "[10]\tvalid_0's binary_logloss: 0.286315\n",
      "[11]\tvalid_0's binary_logloss: 0.286317\n",
      "[12]\tvalid_0's binary_logloss: 0.286313\n",
      "[13]\tvalid_0's binary_logloss: 0.286342\n",
      "[14]\tvalid_0's binary_logloss: 0.286339\n",
      "[15]\tvalid_0's binary_logloss: 0.286377\n"
     ]
    },
    {
     "name": "stderr",
     "output_type": "stream",
     "text": [
      "/opt/miniconda3/envs/n6758/lib/python3.8/site-packages/optuna/trial/_trial.py:590: UserWarning: The reported value is ignored because this `step` 15 is already reported.\n",
      "  warnings.warn(\n",
      "/opt/miniconda3/envs/n6758/lib/python3.8/site-packages/optuna/trial/_trial.py:590: UserWarning: The reported value is ignored because this `step` 16 is already reported.\n",
      "  warnings.warn(\n",
      "/opt/miniconda3/envs/n6758/lib/python3.8/site-packages/optuna/trial/_trial.py:590: UserWarning: The reported value is ignored because this `step` 17 is already reported.\n",
      "  warnings.warn(\n",
      "/opt/miniconda3/envs/n6758/lib/python3.8/site-packages/optuna/trial/_trial.py:590: UserWarning: The reported value is ignored because this `step` 18 is already reported.\n",
      "  warnings.warn(\n",
      "/opt/miniconda3/envs/n6758/lib/python3.8/site-packages/optuna/trial/_trial.py:590: UserWarning: The reported value is ignored because this `step` 19 is already reported.\n",
      "  warnings.warn(\n",
      "/opt/miniconda3/envs/n6758/lib/python3.8/site-packages/optuna/trial/_trial.py:590: UserWarning: The reported value is ignored because this `step` 20 is already reported.\n",
      "  warnings.warn(\n"
     ]
    },
    {
     "name": "stdout",
     "output_type": "stream",
     "text": [
      "[16]\tvalid_0's binary_logloss: 0.286399\n",
      "[17]\tvalid_0's binary_logloss: 0.286425\n",
      "[18]\tvalid_0's binary_logloss: 0.286465\n",
      "[19]\tvalid_0's binary_logloss: 0.286488\n",
      "[20]\tvalid_0's binary_logloss: 0.286485\n",
      "[21]\tvalid_0's binary_logloss: 0.28651\n",
      "[22]\tvalid_0's binary_logloss: 0.286527\n",
      "Early stopping, best iteration is:\n",
      "[12]\tvalid_0's binary_logloss: 0.286313\n"
     ]
    },
    {
     "name": "stderr",
     "output_type": "stream",
     "text": [
      "/opt/miniconda3/envs/n6758/lib/python3.8/site-packages/optuna/trial/_trial.py:590: UserWarning: The reported value is ignored because this `step` 0 is already reported.\n",
      "  warnings.warn(\n",
      "/opt/miniconda3/envs/n6758/lib/python3.8/site-packages/optuna/trial/_trial.py:590: UserWarning: The reported value is ignored because this `step` 1 is already reported.\n",
      "  warnings.warn(\n",
      "/opt/miniconda3/envs/n6758/lib/python3.8/site-packages/optuna/trial/_trial.py:590: UserWarning: The reported value is ignored because this `step` 2 is already reported.\n",
      "  warnings.warn(\n",
      "/opt/miniconda3/envs/n6758/lib/python3.8/site-packages/optuna/trial/_trial.py:590: UserWarning: The reported value is ignored because this `step` 3 is already reported.\n",
      "  warnings.warn(\n",
      "/opt/miniconda3/envs/n6758/lib/python3.8/site-packages/optuna/trial/_trial.py:590: UserWarning: The reported value is ignored because this `step` 4 is already reported.\n",
      "  warnings.warn(\n",
      "/opt/miniconda3/envs/n6758/lib/python3.8/site-packages/optuna/trial/_trial.py:590: UserWarning: The reported value is ignored because this `step` 5 is already reported.\n",
      "  warnings.warn(\n",
      "/opt/miniconda3/envs/n6758/lib/python3.8/site-packages/optuna/trial/_trial.py:590: UserWarning: The reported value is ignored because this `step` 6 is already reported.\n",
      "  warnings.warn(\n",
      "/opt/miniconda3/envs/n6758/lib/python3.8/site-packages/optuna/trial/_trial.py:590: UserWarning: The reported value is ignored because this `step` 7 is already reported.\n",
      "  warnings.warn(\n"
     ]
    },
    {
     "name": "stdout",
     "output_type": "stream",
     "text": [
      "[1]\tvalid_0's binary_logloss: 0.299078\n",
      "Training until validation scores don't improve for 10 rounds\n",
      "[2]\tvalid_0's binary_logloss: 0.293164\n",
      "[3]\tvalid_0's binary_logloss: 0.289871\n",
      "[4]\tvalid_0's binary_logloss: 0.288009\n",
      "[5]\tvalid_0's binary_logloss: 0.286861\n",
      "[6]\tvalid_0's binary_logloss: 0.286165\n",
      "[7]\tvalid_0's binary_logloss: 0.285754\n",
      "[8]\tvalid_0's binary_logloss: 0.285526\n"
     ]
    },
    {
     "name": "stderr",
     "output_type": "stream",
     "text": [
      "/opt/miniconda3/envs/n6758/lib/python3.8/site-packages/optuna/trial/_trial.py:590: UserWarning: The reported value is ignored because this `step` 8 is already reported.\n",
      "  warnings.warn(\n",
      "/opt/miniconda3/envs/n6758/lib/python3.8/site-packages/optuna/trial/_trial.py:590: UserWarning: The reported value is ignored because this `step` 9 is already reported.\n",
      "  warnings.warn(\n",
      "/opt/miniconda3/envs/n6758/lib/python3.8/site-packages/optuna/trial/_trial.py:590: UserWarning: The reported value is ignored because this `step` 10 is already reported.\n",
      "  warnings.warn(\n",
      "/opt/miniconda3/envs/n6758/lib/python3.8/site-packages/optuna/trial/_trial.py:590: UserWarning: The reported value is ignored because this `step` 11 is already reported.\n",
      "  warnings.warn(\n",
      "/opt/miniconda3/envs/n6758/lib/python3.8/site-packages/optuna/trial/_trial.py:590: UserWarning: The reported value is ignored because this `step` 12 is already reported.\n",
      "  warnings.warn(\n",
      "/opt/miniconda3/envs/n6758/lib/python3.8/site-packages/optuna/trial/_trial.py:590: UserWarning: The reported value is ignored because this `step` 13 is already reported.\n",
      "  warnings.warn(\n",
      "/opt/miniconda3/envs/n6758/lib/python3.8/site-packages/optuna/trial/_trial.py:590: UserWarning: The reported value is ignored because this `step` 14 is already reported.\n",
      "  warnings.warn(\n",
      "/opt/miniconda3/envs/n6758/lib/python3.8/site-packages/optuna/trial/_trial.py:590: UserWarning: The reported value is ignored because this `step` 15 is already reported.\n",
      "  warnings.warn(\n",
      "/opt/miniconda3/envs/n6758/lib/python3.8/site-packages/optuna/trial/_trial.py:590: UserWarning: The reported value is ignored because this `step` 16 is already reported.\n",
      "  warnings.warn(\n"
     ]
    },
    {
     "name": "stdout",
     "output_type": "stream",
     "text": [
      "[9]\tvalid_0's binary_logloss: 0.285369\n",
      "[10]\tvalid_0's binary_logloss: 0.285269\n",
      "[11]\tvalid_0's binary_logloss: 0.285234\n",
      "[12]\tvalid_0's binary_logloss: 0.2852\n",
      "[13]\tvalid_0's binary_logloss: 0.285252\n",
      "[14]\tvalid_0's binary_logloss: 0.285248\n",
      "[15]\tvalid_0's binary_logloss: 0.285239\n",
      "[16]\tvalid_0's binary_logloss: 0.285256\n",
      "[17]\tvalid_0's binary_logloss: 0.285274\n"
     ]
    },
    {
     "name": "stderr",
     "output_type": "stream",
     "text": [
      "/opt/miniconda3/envs/n6758/lib/python3.8/site-packages/optuna/trial/_trial.py:590: UserWarning: The reported value is ignored because this `step` 17 is already reported.\n",
      "  warnings.warn(\n",
      "/opt/miniconda3/envs/n6758/lib/python3.8/site-packages/optuna/trial/_trial.py:590: UserWarning: The reported value is ignored because this `step` 18 is already reported.\n",
      "  warnings.warn(\n",
      "/opt/miniconda3/envs/n6758/lib/python3.8/site-packages/optuna/trial/_trial.py:590: UserWarning: The reported value is ignored because this `step` 19 is already reported.\n",
      "  warnings.warn(\n",
      "/opt/miniconda3/envs/n6758/lib/python3.8/site-packages/optuna/trial/_trial.py:590: UserWarning: The reported value is ignored because this `step` 20 is already reported.\n",
      "  warnings.warn(\n",
      "/opt/miniconda3/envs/n6758/lib/python3.8/site-packages/optuna/trial/_trial.py:590: UserWarning: The reported value is ignored because this `step` 21 is already reported.\n",
      "  warnings.warn(\n"
     ]
    },
    {
     "name": "stdout",
     "output_type": "stream",
     "text": [
      "[18]\tvalid_0's binary_logloss: 0.285296\n",
      "[19]\tvalid_0's binary_logloss: 0.285316\n",
      "[20]\tvalid_0's binary_logloss: 0.285329\n",
      "[21]\tvalid_0's binary_logloss: 0.285351\n",
      "[22]\tvalid_0's binary_logloss: 0.285367\n",
      "Early stopping, best iteration is:\n",
      "[12]\tvalid_0's binary_logloss: 0.2852\n"
     ]
    },
    {
     "name": "stderr",
     "output_type": "stream",
     "text": [
      "\u001B[32m[I 2021-11-22 17:48:08,586]\u001B[0m Trial 7 finished with value: 0.2859142353039774 and parameters: {'n_estimators': 750, 'learning_rate': 0.28894317906492833, 'num_leaves': 20, 'max_depth': 11}. Best is trial 3 with value: 0.28583431845482205.\u001B[0m\n",
      "\u001B[32m[I 2021-11-22 17:48:08,864]\u001B[0m Trial 8 pruned. Trial was pruned at iteration 0.\u001B[0m\n"
     ]
    },
    {
     "name": "stdout",
     "output_type": "stream",
     "text": [
      "[1]\tvalid_0's binary_logloss: 0.300085\n",
      "Training until validation scores don't improve for 10 rounds\n",
      "[2]\tvalid_0's binary_logloss: 0.294396\n",
      "[3]\tvalid_0's binary_logloss: 0.291101\n",
      "[4]\tvalid_0's binary_logloss: 0.289141\n",
      "[5]\tvalid_0's binary_logloss: 0.287976\n",
      "[6]\tvalid_0's binary_logloss: 0.28726\n",
      "[7]\tvalid_0's binary_logloss: 0.286817\n",
      "[8]\tvalid_0's binary_logloss: 0.28653\n",
      "[9]\tvalid_0's binary_logloss: 0.286387\n",
      "[10]\tvalid_0's binary_logloss: 0.286338\n",
      "[11]\tvalid_0's binary_logloss: 0.286327\n",
      "[12]\tvalid_0's binary_logloss: 0.286298\n",
      "[13]\tvalid_0's binary_logloss: 0.286355\n",
      "[14]\tvalid_0's binary_logloss: 0.286381\n",
      "[15]\tvalid_0's binary_logloss: 0.286414\n",
      "[16]\tvalid_0's binary_logloss: 0.286478\n",
      "[17]\tvalid_0's binary_logloss: 0.28651\n",
      "[18]\tvalid_0's binary_logloss: 0.286523\n",
      "[19]\tvalid_0's binary_logloss: 0.286583\n",
      "[20]\tvalid_0's binary_logloss: 0.286609\n",
      "[21]\tvalid_0's binary_logloss: 0.286625\n",
      "[22]\tvalid_0's binary_logloss: 0.286649\n",
      "Early stopping, best iteration is:\n",
      "[12]\tvalid_0's binary_logloss: 0.286298\n"
     ]
    },
    {
     "name": "stderr",
     "output_type": "stream",
     "text": [
      "/opt/miniconda3/envs/n6758/lib/python3.8/site-packages/optuna/trial/_trial.py:590: UserWarning: The reported value is ignored because this `step` 0 is already reported.\n",
      "  warnings.warn(\n",
      "/opt/miniconda3/envs/n6758/lib/python3.8/site-packages/optuna/trial/_trial.py:590: UserWarning: The reported value is ignored because this `step` 1 is already reported.\n",
      "  warnings.warn(\n",
      "/opt/miniconda3/envs/n6758/lib/python3.8/site-packages/optuna/trial/_trial.py:590: UserWarning: The reported value is ignored because this `step` 2 is already reported.\n",
      "  warnings.warn(\n",
      "/opt/miniconda3/envs/n6758/lib/python3.8/site-packages/optuna/trial/_trial.py:590: UserWarning: The reported value is ignored because this `step` 3 is already reported.\n",
      "  warnings.warn(\n",
      "/opt/miniconda3/envs/n6758/lib/python3.8/site-packages/optuna/trial/_trial.py:590: UserWarning: The reported value is ignored because this `step` 4 is already reported.\n",
      "  warnings.warn(\n",
      "/opt/miniconda3/envs/n6758/lib/python3.8/site-packages/optuna/trial/_trial.py:590: UserWarning: The reported value is ignored because this `step` 5 is already reported.\n",
      "  warnings.warn(\n",
      "/opt/miniconda3/envs/n6758/lib/python3.8/site-packages/optuna/trial/_trial.py:590: UserWarning: The reported value is ignored because this `step` 6 is already reported.\n",
      "  warnings.warn(\n",
      "/opt/miniconda3/envs/n6758/lib/python3.8/site-packages/optuna/trial/_trial.py:590: UserWarning: The reported value is ignored because this `step` 7 is already reported.\n",
      "  warnings.warn(\n",
      "/opt/miniconda3/envs/n6758/lib/python3.8/site-packages/optuna/trial/_trial.py:590: UserWarning: The reported value is ignored because this `step` 8 is already reported.\n",
      "  warnings.warn(\n",
      "/opt/miniconda3/envs/n6758/lib/python3.8/site-packages/optuna/trial/_trial.py:590: UserWarning: The reported value is ignored because this `step` 9 is already reported.\n",
      "  warnings.warn(\n",
      "/opt/miniconda3/envs/n6758/lib/python3.8/site-packages/optuna/trial/_trial.py:590: UserWarning: The reported value is ignored because this `step` 10 is already reported.\n",
      "  warnings.warn(\n",
      "/opt/miniconda3/envs/n6758/lib/python3.8/site-packages/optuna/trial/_trial.py:590: UserWarning: The reported value is ignored because this `step` 11 is already reported.\n",
      "  warnings.warn(\n",
      "/opt/miniconda3/envs/n6758/lib/python3.8/site-packages/optuna/trial/_trial.py:590: UserWarning: The reported value is ignored because this `step` 12 is already reported.\n",
      "  warnings.warn(\n"
     ]
    },
    {
     "name": "stdout",
     "output_type": "stream",
     "text": [
      "[1]\tvalid_0's binary_logloss: 0.300233\n",
      "Training until validation scores don't improve for 10 rounds\n",
      "[2]\tvalid_0's binary_logloss: 0.294478\n",
      "[3]\tvalid_0's binary_logloss: 0.291213\n",
      "[4]\tvalid_0's binary_logloss: 0.289257\n",
      "[5]\tvalid_0's binary_logloss: 0.288071\n",
      "[6]\tvalid_0's binary_logloss: 0.28745\n",
      "[7]\tvalid_0's binary_logloss: 0.28703\n",
      "[8]\tvalid_0's binary_logloss: 0.286798\n",
      "[9]\tvalid_0's binary_logloss: 0.286645\n",
      "[10]\tvalid_0's binary_logloss: 0.286657\n",
      "[11]\tvalid_0's binary_logloss: 0.286624\n",
      "[12]\tvalid_0's binary_logloss: 0.286622\n",
      "[13]\tvalid_0's binary_logloss: 0.286625\n"
     ]
    },
    {
     "name": "stderr",
     "output_type": "stream",
     "text": [
      "/opt/miniconda3/envs/n6758/lib/python3.8/site-packages/optuna/trial/_trial.py:590: UserWarning: The reported value is ignored because this `step` 13 is already reported.\n",
      "  warnings.warn(\n",
      "/opt/miniconda3/envs/n6758/lib/python3.8/site-packages/optuna/trial/_trial.py:590: UserWarning: The reported value is ignored because this `step` 14 is already reported.\n",
      "  warnings.warn(\n",
      "/opt/miniconda3/envs/n6758/lib/python3.8/site-packages/optuna/trial/_trial.py:590: UserWarning: The reported value is ignored because this `step` 15 is already reported.\n",
      "  warnings.warn(\n",
      "/opt/miniconda3/envs/n6758/lib/python3.8/site-packages/optuna/trial/_trial.py:590: UserWarning: The reported value is ignored because this `step` 16 is already reported.\n",
      "  warnings.warn(\n",
      "/opt/miniconda3/envs/n6758/lib/python3.8/site-packages/optuna/trial/_trial.py:590: UserWarning: The reported value is ignored because this `step` 17 is already reported.\n",
      "  warnings.warn(\n",
      "/opt/miniconda3/envs/n6758/lib/python3.8/site-packages/optuna/trial/_trial.py:590: UserWarning: The reported value is ignored because this `step` 18 is already reported.\n",
      "  warnings.warn(\n",
      "/opt/miniconda3/envs/n6758/lib/python3.8/site-packages/optuna/trial/_trial.py:590: UserWarning: The reported value is ignored because this `step` 19 is already reported.\n",
      "  warnings.warn(\n",
      "/opt/miniconda3/envs/n6758/lib/python3.8/site-packages/optuna/trial/_trial.py:590: UserWarning: The reported value is ignored because this `step` 20 is already reported.\n",
      "  warnings.warn(\n",
      "/opt/miniconda3/envs/n6758/lib/python3.8/site-packages/optuna/trial/_trial.py:590: UserWarning: The reported value is ignored because this `step` 21 is already reported.\n",
      "  warnings.warn(\n"
     ]
    },
    {
     "name": "stdout",
     "output_type": "stream",
     "text": [
      "[14]\tvalid_0's binary_logloss: 0.286693\n",
      "[15]\tvalid_0's binary_logloss: 0.286725\n",
      "[16]\tvalid_0's binary_logloss: 0.28677\n",
      "[17]\tvalid_0's binary_logloss: 0.286834\n",
      "[18]\tvalid_0's binary_logloss: 0.28686\n",
      "[19]\tvalid_0's binary_logloss: 0.286872\n",
      "[20]\tvalid_0's binary_logloss: 0.2869\n",
      "[21]\tvalid_0's binary_logloss: 0.286944\n",
      "[22]\tvalid_0's binary_logloss: 0.28701\n",
      "Early stopping, best iteration is:\n",
      "[12]\tvalid_0's binary_logloss: 0.286622\n"
     ]
    },
    {
     "name": "stderr",
     "output_type": "stream",
     "text": [
      "/opt/miniconda3/envs/n6758/lib/python3.8/site-packages/optuna/trial/_trial.py:590: UserWarning: The reported value is ignored because this `step` 0 is already reported.\n",
      "  warnings.warn(\n",
      "/opt/miniconda3/envs/n6758/lib/python3.8/site-packages/optuna/trial/_trial.py:590: UserWarning: The reported value is ignored because this `step` 1 is already reported.\n",
      "  warnings.warn(\n",
      "/opt/miniconda3/envs/n6758/lib/python3.8/site-packages/optuna/trial/_trial.py:590: UserWarning: The reported value is ignored because this `step` 2 is already reported.\n",
      "  warnings.warn(\n",
      "/opt/miniconda3/envs/n6758/lib/python3.8/site-packages/optuna/trial/_trial.py:590: UserWarning: The reported value is ignored because this `step` 3 is already reported.\n",
      "  warnings.warn(\n",
      "/opt/miniconda3/envs/n6758/lib/python3.8/site-packages/optuna/trial/_trial.py:590: UserWarning: The reported value is ignored because this `step` 4 is already reported.\n",
      "  warnings.warn(\n",
      "/opt/miniconda3/envs/n6758/lib/python3.8/site-packages/optuna/trial/_trial.py:590: UserWarning: The reported value is ignored because this `step` 5 is already reported.\n",
      "  warnings.warn(\n",
      "/opt/miniconda3/envs/n6758/lib/python3.8/site-packages/optuna/trial/_trial.py:590: UserWarning: The reported value is ignored because this `step` 6 is already reported.\n",
      "  warnings.warn(\n",
      "/opt/miniconda3/envs/n6758/lib/python3.8/site-packages/optuna/trial/_trial.py:590: UserWarning: The reported value is ignored because this `step` 7 is already reported.\n",
      "  warnings.warn(\n",
      "/opt/miniconda3/envs/n6758/lib/python3.8/site-packages/optuna/trial/_trial.py:590: UserWarning: The reported value is ignored because this `step` 8 is already reported.\n",
      "  warnings.warn(\n",
      "/opt/miniconda3/envs/n6758/lib/python3.8/site-packages/optuna/trial/_trial.py:590: UserWarning: The reported value is ignored because this `step` 9 is already reported.\n",
      "  warnings.warn(\n",
      "/opt/miniconda3/envs/n6758/lib/python3.8/site-packages/optuna/trial/_trial.py:590: UserWarning: The reported value is ignored because this `step` 10 is already reported.\n",
      "  warnings.warn(\n",
      "/opt/miniconda3/envs/n6758/lib/python3.8/site-packages/optuna/trial/_trial.py:590: UserWarning: The reported value is ignored because this `step` 11 is already reported.\n",
      "  warnings.warn(\n",
      "/opt/miniconda3/envs/n6758/lib/python3.8/site-packages/optuna/trial/_trial.py:590: UserWarning: The reported value is ignored because this `step` 12 is already reported.\n",
      "  warnings.warn(\n"
     ]
    },
    {
     "name": "stdout",
     "output_type": "stream",
     "text": [
      "[1]\tvalid_0's binary_logloss: 0.299958\n",
      "Training until validation scores don't improve for 10 rounds\n",
      "[2]\tvalid_0's binary_logloss: 0.294092\n",
      "[3]\tvalid_0's binary_logloss: 0.290722\n",
      "[4]\tvalid_0's binary_logloss: 0.28865\n",
      "[5]\tvalid_0's binary_logloss: 0.287325\n",
      "[6]\tvalid_0's binary_logloss: 0.286521\n",
      "[7]\tvalid_0's binary_logloss: 0.286061\n",
      "[8]\tvalid_0's binary_logloss: 0.285736\n",
      "[9]\tvalid_0's binary_logloss: 0.28561\n",
      "[10]\tvalid_0's binary_logloss: 0.285514\n",
      "[11]\tvalid_0's binary_logloss: 0.285443\n",
      "[12]\tvalid_0's binary_logloss: 0.285453\n",
      "[13]\tvalid_0's binary_logloss: 0.285462\n"
     ]
    },
    {
     "name": "stderr",
     "output_type": "stream",
     "text": [
      "/opt/miniconda3/envs/n6758/lib/python3.8/site-packages/optuna/trial/_trial.py:590: UserWarning: The reported value is ignored because this `step` 13 is already reported.\n",
      "  warnings.warn(\n",
      "/opt/miniconda3/envs/n6758/lib/python3.8/site-packages/optuna/trial/_trial.py:590: UserWarning: The reported value is ignored because this `step` 14 is already reported.\n",
      "  warnings.warn(\n",
      "/opt/miniconda3/envs/n6758/lib/python3.8/site-packages/optuna/trial/_trial.py:590: UserWarning: The reported value is ignored because this `step` 15 is already reported.\n",
      "  warnings.warn(\n",
      "/opt/miniconda3/envs/n6758/lib/python3.8/site-packages/optuna/trial/_trial.py:590: UserWarning: The reported value is ignored because this `step` 16 is already reported.\n",
      "  warnings.warn(\n",
      "/opt/miniconda3/envs/n6758/lib/python3.8/site-packages/optuna/trial/_trial.py:590: UserWarning: The reported value is ignored because this `step` 17 is already reported.\n",
      "  warnings.warn(\n",
      "/opt/miniconda3/envs/n6758/lib/python3.8/site-packages/optuna/trial/_trial.py:590: UserWarning: The reported value is ignored because this `step` 18 is already reported.\n",
      "  warnings.warn(\n",
      "/opt/miniconda3/envs/n6758/lib/python3.8/site-packages/optuna/trial/_trial.py:590: UserWarning: The reported value is ignored because this `step` 19 is already reported.\n",
      "  warnings.warn(\n",
      "/opt/miniconda3/envs/n6758/lib/python3.8/site-packages/optuna/trial/_trial.py:590: UserWarning: The reported value is ignored because this `step` 20 is already reported.\n",
      "  warnings.warn(\n",
      "\u001B[32m[I 2021-11-22 17:48:10,986]\u001B[0m Trial 9 finished with value: 0.28612109141814485 and parameters: {'n_estimators': 850, 'learning_rate': 0.25561736694078013, 'num_leaves': 40, 'max_depth': 9}. Best is trial 3 with value: 0.28583431845482205.\u001B[0m\n"
     ]
    },
    {
     "name": "stdout",
     "output_type": "stream",
     "text": [
      "[14]\tvalid_0's binary_logloss: 0.285473\n",
      "[15]\tvalid_0's binary_logloss: 0.285481\n",
      "[16]\tvalid_0's binary_logloss: 0.285469\n",
      "[17]\tvalid_0's binary_logloss: 0.285496\n",
      "[18]\tvalid_0's binary_logloss: 0.28549\n",
      "[19]\tvalid_0's binary_logloss: 0.285534\n",
      "[20]\tvalid_0's binary_logloss: 0.285541\n",
      "[21]\tvalid_0's binary_logloss: 0.285568\n",
      "Early stopping, best iteration is:\n",
      "[11]\tvalid_0's binary_logloss: 0.285443\n"
     ]
    },
    {
     "name": "stderr",
     "output_type": "stream",
     "text": [
      "\u001B[32m[I 2021-11-22 17:48:11,297]\u001B[0m Trial 10 pruned. Trial was pruned at iteration 0.\u001B[0m\n",
      "\u001B[32m[I 2021-11-22 17:48:11,652]\u001B[0m Trial 11 pruned. Trial was pruned at iteration 0.\u001B[0m\n",
      "\u001B[32m[I 2021-11-22 17:48:12,004]\u001B[0m Trial 12 pruned. Trial was pruned at iteration 0.\u001B[0m\n"
     ]
    },
    {
     "name": "stdout",
     "output_type": "stream",
     "text": [
      "[1]\tvalid_0's binary_logloss: 0.301564\n",
      "Training until validation scores don't improve for 10 rounds\n",
      "[2]\tvalid_0's binary_logloss: 0.295928\n",
      "[3]\tvalid_0's binary_logloss: 0.292506\n",
      "[4]\tvalid_0's binary_logloss: 0.290295\n",
      "[5]\tvalid_0's binary_logloss: 0.288828\n",
      "[6]\tvalid_0's binary_logloss: 0.287893\n",
      "[7]\tvalid_0's binary_logloss: 0.287245\n",
      "[8]\tvalid_0's binary_logloss: 0.286846\n",
      "[9]\tvalid_0's binary_logloss: 0.286599\n",
      "[10]\tvalid_0's binary_logloss: 0.286454\n",
      "[11]\tvalid_0's binary_logloss: 0.286352\n",
      "[12]\tvalid_0's binary_logloss: 0.286265\n",
      "[13]\tvalid_0's binary_logloss: 0.286249\n",
      "[14]\tvalid_0's binary_logloss: 0.286247\n",
      "[15]\tvalid_0's binary_logloss: 0.286237\n",
      "[16]\tvalid_0's binary_logloss: 0.286256\n",
      "[17]\tvalid_0's binary_logloss: 0.286278\n",
      "[18]\tvalid_0's binary_logloss: 0.286309\n",
      "[19]\tvalid_0's binary_logloss: 0.286337\n",
      "[20]\tvalid_0's binary_logloss: 0.286365\n",
      "[21]\tvalid_0's binary_logloss: 0.286399\n",
      "[22]\tvalid_0's binary_logloss: 0.286414\n",
      "[23]\tvalid_0's binary_logloss: 0.286438\n",
      "[24]\tvalid_0's binary_logloss: 0.286444\n",
      "[25]\tvalid_0's binary_logloss: 0.286467\n",
      "Early stopping, best iteration is:\n",
      "[15]\tvalid_0's binary_logloss: 0.286237\n"
     ]
    },
    {
     "name": "stderr",
     "output_type": "stream",
     "text": [
      "/opt/miniconda3/envs/n6758/lib/python3.8/site-packages/optuna/trial/_trial.py:590: UserWarning: The reported value is ignored because this `step` 0 is already reported.\n",
      "  warnings.warn(\n",
      "/opt/miniconda3/envs/n6758/lib/python3.8/site-packages/optuna/trial/_trial.py:590: UserWarning: The reported value is ignored because this `step` 1 is already reported.\n",
      "  warnings.warn(\n",
      "/opt/miniconda3/envs/n6758/lib/python3.8/site-packages/optuna/trial/_trial.py:590: UserWarning: The reported value is ignored because this `step` 2 is already reported.\n",
      "  warnings.warn(\n",
      "/opt/miniconda3/envs/n6758/lib/python3.8/site-packages/optuna/trial/_trial.py:590: UserWarning: The reported value is ignored because this `step` 3 is already reported.\n",
      "  warnings.warn(\n",
      "/opt/miniconda3/envs/n6758/lib/python3.8/site-packages/optuna/trial/_trial.py:590: UserWarning: The reported value is ignored because this `step` 4 is already reported.\n",
      "  warnings.warn(\n",
      "/opt/miniconda3/envs/n6758/lib/python3.8/site-packages/optuna/trial/_trial.py:590: UserWarning: The reported value is ignored because this `step` 5 is already reported.\n",
      "  warnings.warn(\n",
      "/opt/miniconda3/envs/n6758/lib/python3.8/site-packages/optuna/trial/_trial.py:590: UserWarning: The reported value is ignored because this `step` 6 is already reported.\n",
      "  warnings.warn(\n",
      "/opt/miniconda3/envs/n6758/lib/python3.8/site-packages/optuna/trial/_trial.py:590: UserWarning: The reported value is ignored because this `step` 7 is already reported.\n",
      "  warnings.warn(\n",
      "/opt/miniconda3/envs/n6758/lib/python3.8/site-packages/optuna/trial/_trial.py:590: UserWarning: The reported value is ignored because this `step` 8 is already reported.\n",
      "  warnings.warn(\n",
      "/opt/miniconda3/envs/n6758/lib/python3.8/site-packages/optuna/trial/_trial.py:590: UserWarning: The reported value is ignored because this `step` 9 is already reported.\n",
      "  warnings.warn(\n",
      "/opt/miniconda3/envs/n6758/lib/python3.8/site-packages/optuna/trial/_trial.py:590: UserWarning: The reported value is ignored because this `step` 10 is already reported.\n",
      "  warnings.warn(\n",
      "/opt/miniconda3/envs/n6758/lib/python3.8/site-packages/optuna/trial/_trial.py:590: UserWarning: The reported value is ignored because this `step` 11 is already reported.\n",
      "  warnings.warn(\n"
     ]
    },
    {
     "name": "stdout",
     "output_type": "stream",
     "text": [
      "[1]\tvalid_0's binary_logloss: 0.301642\n",
      "Training until validation scores don't improve for 10 rounds\n",
      "[2]\tvalid_0's binary_logloss: 0.29606\n",
      "[3]\tvalid_0's binary_logloss: 0.292625\n",
      "[4]\tvalid_0's binary_logloss: 0.290384\n",
      "[5]\tvalid_0's binary_logloss: 0.288907\n",
      "[6]\tvalid_0's binary_logloss: 0.288012\n",
      "[7]\tvalid_0's binary_logloss: 0.287395\n",
      "[8]\tvalid_0's binary_logloss: 0.287008\n",
      "[9]\tvalid_0's binary_logloss: 0.286743\n",
      "[10]\tvalid_0's binary_logloss: 0.286599\n",
      "[11]\tvalid_0's binary_logloss: 0.286536\n",
      "[12]\tvalid_0's binary_logloss: 0.286478\n"
     ]
    },
    {
     "name": "stderr",
     "output_type": "stream",
     "text": [
      "/opt/miniconda3/envs/n6758/lib/python3.8/site-packages/optuna/trial/_trial.py:590: UserWarning: The reported value is ignored because this `step` 12 is already reported.\n",
      "  warnings.warn(\n",
      "/opt/miniconda3/envs/n6758/lib/python3.8/site-packages/optuna/trial/_trial.py:590: UserWarning: The reported value is ignored because this `step` 13 is already reported.\n",
      "  warnings.warn(\n",
      "/opt/miniconda3/envs/n6758/lib/python3.8/site-packages/optuna/trial/_trial.py:590: UserWarning: The reported value is ignored because this `step` 14 is already reported.\n",
      "  warnings.warn(\n",
      "/opt/miniconda3/envs/n6758/lib/python3.8/site-packages/optuna/trial/_trial.py:590: UserWarning: The reported value is ignored because this `step` 15 is already reported.\n",
      "  warnings.warn(\n",
      "/opt/miniconda3/envs/n6758/lib/python3.8/site-packages/optuna/trial/_trial.py:590: UserWarning: The reported value is ignored because this `step` 16 is already reported.\n",
      "  warnings.warn(\n"
     ]
    },
    {
     "name": "stdout",
     "output_type": "stream",
     "text": [
      "[13]\tvalid_0's binary_logloss: 0.286483\n",
      "[14]\tvalid_0's binary_logloss: 0.286461\n",
      "[15]\tvalid_0's binary_logloss: 0.286479\n",
      "[16]\tvalid_0's binary_logloss: 0.286461\n",
      "[17]\tvalid_0's binary_logloss: 0.286483\n"
     ]
    },
    {
     "name": "stderr",
     "output_type": "stream",
     "text": [
      "/opt/miniconda3/envs/n6758/lib/python3.8/site-packages/optuna/trial/_trial.py:590: UserWarning: The reported value is ignored because this `step` 17 is already reported.\n",
      "  warnings.warn(\n",
      "/opt/miniconda3/envs/n6758/lib/python3.8/site-packages/optuna/trial/_trial.py:590: UserWarning: The reported value is ignored because this `step` 18 is already reported.\n",
      "  warnings.warn(\n",
      "/opt/miniconda3/envs/n6758/lib/python3.8/site-packages/optuna/trial/_trial.py:590: UserWarning: The reported value is ignored because this `step` 19 is already reported.\n",
      "  warnings.warn(\n",
      "/opt/miniconda3/envs/n6758/lib/python3.8/site-packages/optuna/trial/_trial.py:590: UserWarning: The reported value is ignored because this `step` 20 is already reported.\n",
      "  warnings.warn(\n",
      "/opt/miniconda3/envs/n6758/lib/python3.8/site-packages/optuna/trial/_trial.py:590: UserWarning: The reported value is ignored because this `step` 21 is already reported.\n",
      "  warnings.warn(\n"
     ]
    },
    {
     "name": "stdout",
     "output_type": "stream",
     "text": [
      "[18]\tvalid_0's binary_logloss: 0.286503\n",
      "[19]\tvalid_0's binary_logloss: 0.286517\n",
      "[20]\tvalid_0's binary_logloss: 0.286557\n",
      "[21]\tvalid_0's binary_logloss: 0.286592\n",
      "[22]\tvalid_0's binary_logloss: 0.286634\n"
     ]
    },
    {
     "name": "stderr",
     "output_type": "stream",
     "text": [
      "/opt/miniconda3/envs/n6758/lib/python3.8/site-packages/optuna/trial/_trial.py:590: UserWarning: The reported value is ignored because this `step` 22 is already reported.\n",
      "  warnings.warn(\n",
      "/opt/miniconda3/envs/n6758/lib/python3.8/site-packages/optuna/trial/_trial.py:590: UserWarning: The reported value is ignored because this `step` 23 is already reported.\n",
      "  warnings.warn(\n",
      "/opt/miniconda3/envs/n6758/lib/python3.8/site-packages/optuna/trial/_trial.py:590: UserWarning: The reported value is ignored because this `step` 24 is already reported.\n",
      "  warnings.warn(\n"
     ]
    },
    {
     "name": "stdout",
     "output_type": "stream",
     "text": [
      "[23]\tvalid_0's binary_logloss: 0.286646\n",
      "[24]\tvalid_0's binary_logloss: 0.286684\n",
      "[25]\tvalid_0's binary_logloss: 0.286698\n",
      "[26]\tvalid_0's binary_logloss: 0.286732\n",
      "Early stopping, best iteration is:\n",
      "[16]\tvalid_0's binary_logloss: 0.286461\n"
     ]
    },
    {
     "name": "stderr",
     "output_type": "stream",
     "text": [
      "/opt/miniconda3/envs/n6758/lib/python3.8/site-packages/optuna/trial/_trial.py:590: UserWarning: The reported value is ignored because this `step` 0 is already reported.\n",
      "  warnings.warn(\n",
      "/opt/miniconda3/envs/n6758/lib/python3.8/site-packages/optuna/trial/_trial.py:590: UserWarning: The reported value is ignored because this `step` 1 is already reported.\n",
      "  warnings.warn(\n",
      "/opt/miniconda3/envs/n6758/lib/python3.8/site-packages/optuna/trial/_trial.py:590: UserWarning: The reported value is ignored because this `step` 2 is already reported.\n",
      "  warnings.warn(\n",
      "/opt/miniconda3/envs/n6758/lib/python3.8/site-packages/optuna/trial/_trial.py:590: UserWarning: The reported value is ignored because this `step` 3 is already reported.\n",
      "  warnings.warn(\n",
      "/opt/miniconda3/envs/n6758/lib/python3.8/site-packages/optuna/trial/_trial.py:590: UserWarning: The reported value is ignored because this `step` 4 is already reported.\n",
      "  warnings.warn(\n",
      "/opt/miniconda3/envs/n6758/lib/python3.8/site-packages/optuna/trial/_trial.py:590: UserWarning: The reported value is ignored because this `step` 5 is already reported.\n",
      "  warnings.warn(\n"
     ]
    },
    {
     "name": "stdout",
     "output_type": "stream",
     "text": [
      "[1]\tvalid_0's binary_logloss: 0.301445\n",
      "Training until validation scores don't improve for 10 rounds\n",
      "[2]\tvalid_0's binary_logloss: 0.295757\n",
      "[3]\tvalid_0's binary_logloss: 0.292148\n",
      "[4]\tvalid_0's binary_logloss: 0.289834\n",
      "[5]\tvalid_0's binary_logloss: 0.288298\n",
      "[6]\tvalid_0's binary_logloss: 0.287257\n"
     ]
    },
    {
     "name": "stderr",
     "output_type": "stream",
     "text": [
      "/opt/miniconda3/envs/n6758/lib/python3.8/site-packages/optuna/trial/_trial.py:590: UserWarning: The reported value is ignored because this `step` 6 is already reported.\n",
      "  warnings.warn(\n",
      "/opt/miniconda3/envs/n6758/lib/python3.8/site-packages/optuna/trial/_trial.py:590: UserWarning: The reported value is ignored because this `step` 7 is already reported.\n",
      "  warnings.warn(\n",
      "/opt/miniconda3/envs/n6758/lib/python3.8/site-packages/optuna/trial/_trial.py:590: UserWarning: The reported value is ignored because this `step` 8 is already reported.\n",
      "  warnings.warn(\n",
      "/opt/miniconda3/envs/n6758/lib/python3.8/site-packages/optuna/trial/_trial.py:590: UserWarning: The reported value is ignored because this `step` 9 is already reported.\n",
      "  warnings.warn(\n",
      "/opt/miniconda3/envs/n6758/lib/python3.8/site-packages/optuna/trial/_trial.py:590: UserWarning: The reported value is ignored because this `step` 10 is already reported.\n",
      "  warnings.warn(\n",
      "/opt/miniconda3/envs/n6758/lib/python3.8/site-packages/optuna/trial/_trial.py:590: UserWarning: The reported value is ignored because this `step` 11 is already reported.\n",
      "  warnings.warn(\n"
     ]
    },
    {
     "name": "stdout",
     "output_type": "stream",
     "text": [
      "[7]\tvalid_0's binary_logloss: 0.286582\n",
      "[8]\tvalid_0's binary_logloss: 0.286112\n",
      "[9]\tvalid_0's binary_logloss: 0.285779\n",
      "[10]\tvalid_0's binary_logloss: 0.285607\n",
      "[11]\tvalid_0's binary_logloss: 0.285443\n",
      "[12]\tvalid_0's binary_logloss: 0.285371\n"
     ]
    },
    {
     "name": "stderr",
     "output_type": "stream",
     "text": [
      "/opt/miniconda3/envs/n6758/lib/python3.8/site-packages/optuna/trial/_trial.py:590: UserWarning: The reported value is ignored because this `step` 12 is already reported.\n",
      "  warnings.warn(\n",
      "/opt/miniconda3/envs/n6758/lib/python3.8/site-packages/optuna/trial/_trial.py:590: UserWarning: The reported value is ignored because this `step` 13 is already reported.\n",
      "  warnings.warn(\n",
      "/opt/miniconda3/envs/n6758/lib/python3.8/site-packages/optuna/trial/_trial.py:590: UserWarning: The reported value is ignored because this `step` 14 is already reported.\n",
      "  warnings.warn(\n",
      "/opt/miniconda3/envs/n6758/lib/python3.8/site-packages/optuna/trial/_trial.py:590: UserWarning: The reported value is ignored because this `step` 15 is already reported.\n",
      "  warnings.warn(\n",
      "/opt/miniconda3/envs/n6758/lib/python3.8/site-packages/optuna/trial/_trial.py:590: UserWarning: The reported value is ignored because this `step` 16 is already reported.\n",
      "  warnings.warn(\n",
      "/opt/miniconda3/envs/n6758/lib/python3.8/site-packages/optuna/trial/_trial.py:590: UserWarning: The reported value is ignored because this `step` 17 is already reported.\n",
      "  warnings.warn(\n"
     ]
    },
    {
     "name": "stdout",
     "output_type": "stream",
     "text": [
      "[13]\tvalid_0's binary_logloss: 0.285347\n",
      "[14]\tvalid_0's binary_logloss: 0.285313\n",
      "[15]\tvalid_0's binary_logloss: 0.28529\n",
      "[16]\tvalid_0's binary_logloss: 0.285288\n",
      "[17]\tvalid_0's binary_logloss: 0.285305\n",
      "[18]\tvalid_0's binary_logloss: 0.285311\n"
     ]
    },
    {
     "name": "stderr",
     "output_type": "stream",
     "text": [
      "/opt/miniconda3/envs/n6758/lib/python3.8/site-packages/optuna/trial/_trial.py:590: UserWarning: The reported value is ignored because this `step` 18 is already reported.\n",
      "  warnings.warn(\n",
      "/opt/miniconda3/envs/n6758/lib/python3.8/site-packages/optuna/trial/_trial.py:590: UserWarning: The reported value is ignored because this `step` 19 is already reported.\n",
      "  warnings.warn(\n",
      "/opt/miniconda3/envs/n6758/lib/python3.8/site-packages/optuna/trial/_trial.py:590: UserWarning: The reported value is ignored because this `step` 20 is already reported.\n",
      "  warnings.warn(\n",
      "/opt/miniconda3/envs/n6758/lib/python3.8/site-packages/optuna/trial/_trial.py:590: UserWarning: The reported value is ignored because this `step` 21 is already reported.\n",
      "  warnings.warn(\n",
      "/opt/miniconda3/envs/n6758/lib/python3.8/site-packages/optuna/trial/_trial.py:590: UserWarning: The reported value is ignored because this `step` 22 is already reported.\n",
      "  warnings.warn(\n",
      "/opt/miniconda3/envs/n6758/lib/python3.8/site-packages/optuna/trial/_trial.py:590: UserWarning: The reported value is ignored because this `step` 23 is already reported.\n",
      "  warnings.warn(\n"
     ]
    },
    {
     "name": "stdout",
     "output_type": "stream",
     "text": [
      "[19]\tvalid_0's binary_logloss: 0.285303\n",
      "[20]\tvalid_0's binary_logloss: 0.285328\n",
      "[21]\tvalid_0's binary_logloss: 0.285371\n",
      "[22]\tvalid_0's binary_logloss: 0.285392\n",
      "[23]\tvalid_0's binary_logloss: 0.28542\n",
      "[24]\tvalid_0's binary_logloss: 0.28545\n"
     ]
    },
    {
     "name": "stderr",
     "output_type": "stream",
     "text": [
      "/opt/miniconda3/envs/n6758/lib/python3.8/site-packages/optuna/trial/_trial.py:590: UserWarning: The reported value is ignored because this `step` 24 is already reported.\n",
      "  warnings.warn(\n",
      "/opt/miniconda3/envs/n6758/lib/python3.8/site-packages/optuna/trial/_trial.py:590: UserWarning: The reported value is ignored because this `step` 25 is already reported.\n",
      "  warnings.warn(\n"
     ]
    },
    {
     "name": "stdout",
     "output_type": "stream",
     "text": [
      "[25]\tvalid_0's binary_logloss: 0.285473\n",
      "[26]\tvalid_0's binary_logloss: 0.285512\n",
      "Early stopping, best iteration is:\n",
      "[16]\tvalid_0's binary_logloss: 0.285288\n"
     ]
    },
    {
     "name": "stderr",
     "output_type": "stream",
     "text": [
      "\u001B[32m[I 2021-11-22 17:48:15,929]\u001B[0m Trial 13 finished with value: 0.28599545340701726 and parameters: {'n_estimators': 1000, 'learning_rate': 0.21765841840647787, 'num_leaves': 40, 'max_depth': 7}. Best is trial 3 with value: 0.28583431845482205.\u001B[0m\n",
      "\u001B[32m[I 2021-11-22 17:48:16,329]\u001B[0m Trial 14 pruned. Trial was pruned at iteration 0.\u001B[0m\n"
     ]
    },
    {
     "name": "stdout",
     "output_type": "stream",
     "text": [
      "[1]\tvalid_0's binary_logloss: 0.301441\n",
      "Training until validation scores don't improve for 10 rounds\n",
      "[2]\tvalid_0's binary_logloss: 0.29582\n",
      "[3]\tvalid_0's binary_logloss: 0.292344\n",
      "[4]\tvalid_0's binary_logloss: 0.290166\n",
      "[5]\tvalid_0's binary_logloss: 0.288745\n",
      "[6]\tvalid_0's binary_logloss: 0.28778\n",
      "[7]\tvalid_0's binary_logloss: 0.287174\n",
      "[8]\tvalid_0's binary_logloss: 0.286755\n",
      "[9]\tvalid_0's binary_logloss: 0.286466\n",
      "[10]\tvalid_0's binary_logloss: 0.286284\n",
      "[11]\tvalid_0's binary_logloss: 0.286172\n",
      "[12]\tvalid_0's binary_logloss: 0.28613\n",
      "[13]\tvalid_0's binary_logloss: 0.286109\n",
      "[14]\tvalid_0's binary_logloss: 0.286082\n",
      "[15]\tvalid_0's binary_logloss: 0.286064\n",
      "[16]\tvalid_0's binary_logloss: 0.286081\n",
      "[17]\tvalid_0's binary_logloss: 0.286105\n",
      "[18]\tvalid_0's binary_logloss: 0.286115\n",
      "[19]\tvalid_0's binary_logloss: 0.286137\n",
      "[20]\tvalid_0's binary_logloss: 0.286138\n",
      "[21]\tvalid_0's binary_logloss: 0.286147\n",
      "[22]\tvalid_0's binary_logloss: 0.286148\n",
      "[23]\tvalid_0's binary_logloss: 0.286172\n",
      "[24]\tvalid_0's binary_logloss: 0.286195\n",
      "[25]\tvalid_0's binary_logloss: 0.286205\n",
      "Early stopping, best iteration is:\n",
      "[15]\tvalid_0's binary_logloss: 0.286064\n"
     ]
    },
    {
     "name": "stderr",
     "output_type": "stream",
     "text": [
      "/opt/miniconda3/envs/n6758/lib/python3.8/site-packages/optuna/trial/_trial.py:590: UserWarning: The reported value is ignored because this `step` 0 is already reported.\n",
      "  warnings.warn(\n",
      "/opt/miniconda3/envs/n6758/lib/python3.8/site-packages/optuna/trial/_trial.py:590: UserWarning: The reported value is ignored because this `step` 1 is already reported.\n",
      "  warnings.warn(\n",
      "/opt/miniconda3/envs/n6758/lib/python3.8/site-packages/optuna/trial/_trial.py:590: UserWarning: The reported value is ignored because this `step` 2 is already reported.\n",
      "  warnings.warn(\n",
      "/opt/miniconda3/envs/n6758/lib/python3.8/site-packages/optuna/trial/_trial.py:590: UserWarning: The reported value is ignored because this `step` 3 is already reported.\n",
      "  warnings.warn(\n",
      "/opt/miniconda3/envs/n6758/lib/python3.8/site-packages/optuna/trial/_trial.py:590: UserWarning: The reported value is ignored because this `step` 4 is already reported.\n",
      "  warnings.warn(\n",
      "/opt/miniconda3/envs/n6758/lib/python3.8/site-packages/optuna/trial/_trial.py:590: UserWarning: The reported value is ignored because this `step` 5 is already reported.\n",
      "  warnings.warn(\n",
      "/opt/miniconda3/envs/n6758/lib/python3.8/site-packages/optuna/trial/_trial.py:590: UserWarning: The reported value is ignored because this `step` 6 is already reported.\n",
      "  warnings.warn(\n",
      "/opt/miniconda3/envs/n6758/lib/python3.8/site-packages/optuna/trial/_trial.py:590: UserWarning: The reported value is ignored because this `step` 7 is already reported.\n",
      "  warnings.warn(\n",
      "/opt/miniconda3/envs/n6758/lib/python3.8/site-packages/optuna/trial/_trial.py:590: UserWarning: The reported value is ignored because this `step` 8 is already reported.\n",
      "  warnings.warn(\n",
      "/opt/miniconda3/envs/n6758/lib/python3.8/site-packages/optuna/trial/_trial.py:590: UserWarning: The reported value is ignored because this `step` 9 is already reported.\n",
      "  warnings.warn(\n",
      "/opt/miniconda3/envs/n6758/lib/python3.8/site-packages/optuna/trial/_trial.py:590: UserWarning: The reported value is ignored because this `step` 10 is already reported.\n",
      "  warnings.warn(\n",
      "/opt/miniconda3/envs/n6758/lib/python3.8/site-packages/optuna/trial/_trial.py:590: UserWarning: The reported value is ignored because this `step` 11 is already reported.\n",
      "  warnings.warn(\n",
      "/opt/miniconda3/envs/n6758/lib/python3.8/site-packages/optuna/trial/_trial.py:590: UserWarning: The reported value is ignored because this `step` 12 is already reported.\n",
      "  warnings.warn(\n"
     ]
    },
    {
     "name": "stdout",
     "output_type": "stream",
     "text": [
      "[1]\tvalid_0's binary_logloss: 0.30147\n",
      "Training until validation scores don't improve for 10 rounds\n",
      "[2]\tvalid_0's binary_logloss: 0.295894\n",
      "[3]\tvalid_0's binary_logloss: 0.292441\n",
      "[4]\tvalid_0's binary_logloss: 0.290255\n",
      "[5]\tvalid_0's binary_logloss: 0.288805\n",
      "[6]\tvalid_0's binary_logloss: 0.287904\n",
      "[7]\tvalid_0's binary_logloss: 0.287329\n",
      "[8]\tvalid_0's binary_logloss: 0.286926\n",
      "[9]\tvalid_0's binary_logloss: 0.286686\n",
      "[10]\tvalid_0's binary_logloss: 0.286545\n",
      "[11]\tvalid_0's binary_logloss: 0.286475\n",
      "[12]\tvalid_0's binary_logloss: 0.286375\n",
      "[13]\tvalid_0's binary_logloss: 0.286331"
     ]
    },
    {
     "name": "stderr",
     "output_type": "stream",
     "text": [
      "/opt/miniconda3/envs/n6758/lib/python3.8/site-packages/optuna/trial/_trial.py:590: UserWarning: The reported value is ignored because this `step` 13 is already reported.\n",
      "  warnings.warn(\n",
      "/opt/miniconda3/envs/n6758/lib/python3.8/site-packages/optuna/trial/_trial.py:590: UserWarning: The reported value is ignored because this `step` 14 is already reported.\n",
      "  warnings.warn(\n",
      "/opt/miniconda3/envs/n6758/lib/python3.8/site-packages/optuna/trial/_trial.py:590: UserWarning: The reported value is ignored because this `step` 15 is already reported.\n",
      "  warnings.warn(\n",
      "/opt/miniconda3/envs/n6758/lib/python3.8/site-packages/optuna/trial/_trial.py:590: UserWarning: The reported value is ignored because this `step` 16 is already reported.\n",
      "  warnings.warn(\n",
      "/opt/miniconda3/envs/n6758/lib/python3.8/site-packages/optuna/trial/_trial.py:590: UserWarning: The reported value is ignored because this `step` 17 is already reported.\n",
      "  warnings.warn(\n",
      "/opt/miniconda3/envs/n6758/lib/python3.8/site-packages/optuna/trial/_trial.py:590: UserWarning: The reported value is ignored because this `step` 18 is already reported.\n",
      "  warnings.warn(\n",
      "/opt/miniconda3/envs/n6758/lib/python3.8/site-packages/optuna/trial/_trial.py:590: UserWarning: The reported value is ignored because this `step` 19 is already reported.\n",
      "  warnings.warn(\n",
      "/opt/miniconda3/envs/n6758/lib/python3.8/site-packages/optuna/trial/_trial.py:590: UserWarning: The reported value is ignored because this `step` 20 is already reported.\n",
      "  warnings.warn(\n",
      "/opt/miniconda3/envs/n6758/lib/python3.8/site-packages/optuna/trial/_trial.py:590: UserWarning: The reported value is ignored because this `step` 21 is already reported.\n",
      "  warnings.warn(\n"
     ]
    },
    {
     "name": "stdout",
     "output_type": "stream",
     "text": [
      "\n",
      "[14]\tvalid_0's binary_logloss: 0.286321\n",
      "[15]\tvalid_0's binary_logloss: 0.286317\n",
      "[16]\tvalid_0's binary_logloss: 0.286344\n",
      "[17]\tvalid_0's binary_logloss: 0.286345\n",
      "[18]\tvalid_0's binary_logloss: 0.286351\n",
      "[19]\tvalid_0's binary_logloss: 0.286374\n",
      "[20]\tvalid_0's binary_logloss: 0.286408\n",
      "[21]\tvalid_0's binary_logloss: 0.286429\n",
      "[22]\tvalid_0's binary_logloss: 0.286471\n"
     ]
    },
    {
     "name": "stderr",
     "output_type": "stream",
     "text": [
      "/opt/miniconda3/envs/n6758/lib/python3.8/site-packages/optuna/trial/_trial.py:590: UserWarning: The reported value is ignored because this `step` 22 is already reported.\n",
      "  warnings.warn(\n",
      "/opt/miniconda3/envs/n6758/lib/python3.8/site-packages/optuna/trial/_trial.py:590: UserWarning: The reported value is ignored because this `step` 23 is already reported.\n",
      "  warnings.warn(\n",
      "/opt/miniconda3/envs/n6758/lib/python3.8/site-packages/optuna/trial/_trial.py:590: UserWarning: The reported value is ignored because this `step` 24 is already reported.\n",
      "  warnings.warn(\n"
     ]
    },
    {
     "name": "stdout",
     "output_type": "stream",
     "text": [
      "[23]\tvalid_0's binary_logloss: 0.286504\n",
      "[24]\tvalid_0's binary_logloss: 0.286504\n",
      "[25]\tvalid_0's binary_logloss: 0.286515\n",
      "Early stopping, best iteration is:\n",
      "[15]\tvalid_0's binary_logloss: 0.286317\n"
     ]
    },
    {
     "name": "stderr",
     "output_type": "stream",
     "text": [
      "/opt/miniconda3/envs/n6758/lib/python3.8/site-packages/optuna/trial/_trial.py:590: UserWarning: The reported value is ignored because this `step` 0 is already reported.\n",
      "  warnings.warn(\n",
      "/opt/miniconda3/envs/n6758/lib/python3.8/site-packages/optuna/trial/_trial.py:590: UserWarning: The reported value is ignored because this `step` 1 is already reported.\n",
      "  warnings.warn(\n",
      "/opt/miniconda3/envs/n6758/lib/python3.8/site-packages/optuna/trial/_trial.py:590: UserWarning: The reported value is ignored because this `step` 2 is already reported.\n",
      "  warnings.warn(\n",
      "/opt/miniconda3/envs/n6758/lib/python3.8/site-packages/optuna/trial/_trial.py:590: UserWarning: The reported value is ignored because this `step` 3 is already reported.\n",
      "  warnings.warn(\n",
      "/opt/miniconda3/envs/n6758/lib/python3.8/site-packages/optuna/trial/_trial.py:590: UserWarning: The reported value is ignored because this `step` 4 is already reported.\n",
      "  warnings.warn(\n",
      "/opt/miniconda3/envs/n6758/lib/python3.8/site-packages/optuna/trial/_trial.py:590: UserWarning: The reported value is ignored because this `step` 5 is already reported.\n",
      "  warnings.warn(\n",
      "/opt/miniconda3/envs/n6758/lib/python3.8/site-packages/optuna/trial/_trial.py:590: UserWarning: The reported value is ignored because this `step` 6 is already reported.\n",
      "  warnings.warn(\n",
      "/opt/miniconda3/envs/n6758/lib/python3.8/site-packages/optuna/trial/_trial.py:590: UserWarning: The reported value is ignored because this `step` 7 is already reported.\n",
      "  warnings.warn(\n",
      "/opt/miniconda3/envs/n6758/lib/python3.8/site-packages/optuna/trial/_trial.py:590: UserWarning: The reported value is ignored because this `step` 8 is already reported.\n",
      "  warnings.warn(\n",
      "/opt/miniconda3/envs/n6758/lib/python3.8/site-packages/optuna/trial/_trial.py:590: UserWarning: The reported value is ignored because this `step` 9 is already reported.\n",
      "  warnings.warn(\n",
      "/opt/miniconda3/envs/n6758/lib/python3.8/site-packages/optuna/trial/_trial.py:590: UserWarning: The reported value is ignored because this `step` 10 is already reported.\n",
      "  warnings.warn(\n",
      "/opt/miniconda3/envs/n6758/lib/python3.8/site-packages/optuna/trial/_trial.py:590: UserWarning: The reported value is ignored because this `step` 11 is already reported.\n",
      "  warnings.warn(\n",
      "/opt/miniconda3/envs/n6758/lib/python3.8/site-packages/optuna/trial/_trial.py:590: UserWarning: The reported value is ignored because this `step` 12 is already reported.\n",
      "  warnings.warn(\n"
     ]
    },
    {
     "name": "stdout",
     "output_type": "stream",
     "text": [
      "[1]\tvalid_0's binary_logloss: 0.30138\n",
      "Training until validation scores don't improve for 10 rounds\n",
      "[2]\tvalid_0's binary_logloss: 0.295593\n",
      "[3]\tvalid_0's binary_logloss: 0.292041\n",
      "[4]\tvalid_0's binary_logloss: 0.289724\n",
      "[5]\tvalid_0's binary_logloss: 0.288206\n",
      "[6]\tvalid_0's binary_logloss: 0.287159\n",
      "[7]\tvalid_0's binary_logloss: 0.286513\n",
      "[8]\tvalid_0's binary_logloss: 0.28605\n",
      "[9]\tvalid_0's binary_logloss: 0.285763\n",
      "[10]\tvalid_0's binary_logloss: 0.285588\n",
      "[11]\tvalid_0's binary_logloss: 0.285478\n",
      "[12]\tvalid_0's binary_logloss: 0.285382\n",
      "[13]\tvalid_0's binary_logloss: 0.285314\n"
     ]
    },
    {
     "name": "stderr",
     "output_type": "stream",
     "text": [
      "/opt/miniconda3/envs/n6758/lib/python3.8/site-packages/optuna/trial/_trial.py:590: UserWarning: The reported value is ignored because this `step` 13 is already reported.\n",
      "  warnings.warn(\n",
      "/opt/miniconda3/envs/n6758/lib/python3.8/site-packages/optuna/trial/_trial.py:590: UserWarning: The reported value is ignored because this `step` 14 is already reported.\n",
      "  warnings.warn(\n",
      "/opt/miniconda3/envs/n6758/lib/python3.8/site-packages/optuna/trial/_trial.py:590: UserWarning: The reported value is ignored because this `step` 15 is already reported.\n",
      "  warnings.warn(\n",
      "/opt/miniconda3/envs/n6758/lib/python3.8/site-packages/optuna/trial/_trial.py:590: UserWarning: The reported value is ignored because this `step` 16 is already reported.\n",
      "  warnings.warn(\n",
      "/opt/miniconda3/envs/n6758/lib/python3.8/site-packages/optuna/trial/_trial.py:590: UserWarning: The reported value is ignored because this `step` 17 is already reported.\n",
      "  warnings.warn(\n",
      "/opt/miniconda3/envs/n6758/lib/python3.8/site-packages/optuna/trial/_trial.py:590: UserWarning: The reported value is ignored because this `step` 18 is already reported.\n",
      "  warnings.warn(\n",
      "/opt/miniconda3/envs/n6758/lib/python3.8/site-packages/optuna/trial/_trial.py:590: UserWarning: The reported value is ignored because this `step` 19 is already reported.\n",
      "  warnings.warn(\n",
      "/opt/miniconda3/envs/n6758/lib/python3.8/site-packages/optuna/trial/_trial.py:590: UserWarning: The reported value is ignored because this `step` 20 is already reported.\n",
      "  warnings.warn(\n",
      "/opt/miniconda3/envs/n6758/lib/python3.8/site-packages/optuna/trial/_trial.py:590: UserWarning: The reported value is ignored because this `step` 21 is already reported.\n",
      "  warnings.warn(\n",
      "/opt/miniconda3/envs/n6758/lib/python3.8/site-packages/optuna/trial/_trial.py:590: UserWarning: The reported value is ignored because this `step` 22 is already reported.\n",
      "  warnings.warn(\n",
      "/opt/miniconda3/envs/n6758/lib/python3.8/site-packages/optuna/trial/_trial.py:590: UserWarning: The reported value is ignored because this `step` 23 is already reported.\n",
      "  warnings.warn(\n",
      "/opt/miniconda3/envs/n6758/lib/python3.8/site-packages/optuna/trial/_trial.py:590: UserWarning: The reported value is ignored because this `step` 24 is already reported.\n",
      "  warnings.warn(\n"
     ]
    },
    {
     "name": "stdout",
     "output_type": "stream",
     "text": [
      "[14]\tvalid_0's binary_logloss: 0.285272\n",
      "[15]\tvalid_0's binary_logloss: 0.285252\n",
      "[16]\tvalid_0's binary_logloss: 0.285246\n",
      "[17]\tvalid_0's binary_logloss: 0.285244\n",
      "[18]\tvalid_0's binary_logloss: 0.285232\n",
      "[19]\tvalid_0's binary_logloss: 0.285251\n",
      "[20]\tvalid_0's binary_logloss: 0.285297\n",
      "[21]\tvalid_0's binary_logloss: 0.285324\n",
      "[22]\tvalid_0's binary_logloss: 0.285334\n",
      "[23]\tvalid_0's binary_logloss: 0.285383\n",
      "[24]\tvalid_0's binary_logloss: 0.285367\n",
      "[25]\tvalid_0's binary_logloss: 0.285403\n",
      "[26]\tvalid_0's binary_logloss: 0.285438\n",
      "[27]\tvalid_0's binary_logloss: 0.285438\n",
      "[28]\tvalid_0's binary_logloss: 0.285473\n",
      "Early stopping, best iteration is:\n",
      "[18]\tvalid_0's binary_logloss: 0.285232\n"
     ]
    },
    {
     "name": "stderr",
     "output_type": "stream",
     "text": [
      "\u001B[32m[I 2021-11-22 17:48:18,972]\u001B[0m Trial 15 finished with value: 0.2858711348862305 and parameters: {'n_estimators': 50, 'learning_rate': 0.22357648702756686, 'num_leaves': 100, 'max_depth': 5}. Best is trial 3 with value: 0.28583431845482205.\u001B[0m\n"
     ]
    },
    {
     "name": "stdout",
     "output_type": "stream",
     "text": [
      "[1]\tvalid_0's binary_logloss: 0.300983\n",
      "Training until validation scores don't improve for 10 rounds\n",
      "[2]\tvalid_0's binary_logloss: 0.295275\n",
      "[3]\tvalid_0's binary_logloss: 0.291894\n",
      "[4]\tvalid_0's binary_logloss: 0.289767\n",
      "[5]\tvalid_0's binary_logloss: 0.288409\n",
      "[6]\tvalid_0's binary_logloss: 0.287532\n",
      "[7]\tvalid_0's binary_logloss: 0.286974\n",
      "[8]\tvalid_0's binary_logloss: 0.286648\n",
      "[9]\tvalid_0's binary_logloss: 0.286461\n",
      "[10]\tvalid_0's binary_logloss: 0.286295\n",
      "[11]\tvalid_0's binary_logloss: 0.286225\n",
      "[12]\tvalid_0's binary_logloss: 0.286151\n",
      "[13]\tvalid_0's binary_logloss: 0.28613\n",
      "[14]\tvalid_0's binary_logloss: 0.286112\n",
      "[15]\tvalid_0's binary_logloss: 0.286133\n",
      "[16]\tvalid_0's binary_logloss: 0.286137\n",
      "[17]\tvalid_0's binary_logloss: 0.286174\n",
      "[18]\tvalid_0's binary_logloss: 0.286197\n",
      "[19]\tvalid_0's binary_logloss: 0.286222\n",
      "[20]\tvalid_0's binary_logloss: 0.286223\n",
      "[21]\tvalid_0's binary_logloss: 0.286269\n",
      "[22]\tvalid_0's binary_logloss: 0.286286\n",
      "[23]\tvalid_0's binary_logloss: 0.286279\n",
      "[24]\tvalid_0's binary_logloss: 0.286308\n",
      "Early stopping, best iteration is:\n",
      "[14]\tvalid_0's binary_logloss: 0.286112\n"
     ]
    },
    {
     "name": "stderr",
     "output_type": "stream",
     "text": [
      "/opt/miniconda3/envs/n6758/lib/python3.8/site-packages/optuna/trial/_trial.py:590: UserWarning: The reported value is ignored because this `step` 0 is already reported.\n",
      "  warnings.warn(\n",
      "/opt/miniconda3/envs/n6758/lib/python3.8/site-packages/optuna/trial/_trial.py:590: UserWarning: The reported value is ignored because this `step` 1 is already reported.\n",
      "  warnings.warn(\n",
      "/opt/miniconda3/envs/n6758/lib/python3.8/site-packages/optuna/trial/_trial.py:590: UserWarning: The reported value is ignored because this `step` 2 is already reported.\n",
      "  warnings.warn(\n",
      "/opt/miniconda3/envs/n6758/lib/python3.8/site-packages/optuna/trial/_trial.py:590: UserWarning: The reported value is ignored because this `step` 3 is already reported.\n",
      "  warnings.warn(\n",
      "/opt/miniconda3/envs/n6758/lib/python3.8/site-packages/optuna/trial/_trial.py:590: UserWarning: The reported value is ignored because this `step` 4 is already reported.\n",
      "  warnings.warn(\n",
      "/opt/miniconda3/envs/n6758/lib/python3.8/site-packages/optuna/trial/_trial.py:590: UserWarning: The reported value is ignored because this `step` 5 is already reported.\n",
      "  warnings.warn(\n",
      "/opt/miniconda3/envs/n6758/lib/python3.8/site-packages/optuna/trial/_trial.py:590: UserWarning: The reported value is ignored because this `step` 6 is already reported.\n",
      "  warnings.warn(\n",
      "/opt/miniconda3/envs/n6758/lib/python3.8/site-packages/optuna/trial/_trial.py:590: UserWarning: The reported value is ignored because this `step` 7 is already reported.\n",
      "  warnings.warn(\n",
      "/opt/miniconda3/envs/n6758/lib/python3.8/site-packages/optuna/trial/_trial.py:590: UserWarning: The reported value is ignored because this `step` 8 is already reported.\n",
      "  warnings.warn(\n",
      "/opt/miniconda3/envs/n6758/lib/python3.8/site-packages/optuna/trial/_trial.py:590: UserWarning: The reported value is ignored because this `step` 9 is already reported.\n",
      "  warnings.warn(\n",
      "/opt/miniconda3/envs/n6758/lib/python3.8/site-packages/optuna/trial/_trial.py:590: UserWarning: The reported value is ignored because this `step` 10 is already reported.\n",
      "  warnings.warn(\n",
      "/opt/miniconda3/envs/n6758/lib/python3.8/site-packages/optuna/trial/_trial.py:590: UserWarning: The reported value is ignored because this `step` 11 is already reported.\n",
      "  warnings.warn(\n",
      "/opt/miniconda3/envs/n6758/lib/python3.8/site-packages/optuna/trial/_trial.py:590: UserWarning: The reported value is ignored because this `step` 12 is already reported.\n",
      "  warnings.warn(\n"
     ]
    },
    {
     "name": "stdout",
     "output_type": "stream",
     "text": [
      "[1]\tvalid_0's binary_logloss: 0.301012\n",
      "Training until validation scores don't improve for 10 rounds\n",
      "[2]\tvalid_0's binary_logloss: 0.295379\n",
      "[3]\tvalid_0's binary_logloss: 0.292006\n",
      "[4]\tvalid_0's binary_logloss: 0.289862\n",
      "[5]\tvalid_0's binary_logloss: 0.288505\n",
      "[6]\tvalid_0's binary_logloss: 0.287666\n",
      "[7]\tvalid_0's binary_logloss: 0.287167\n",
      "[8]\tvalid_0's binary_logloss: 0.286833\n",
      "[9]\tvalid_0's binary_logloss: 0.286595\n",
      "[10]\tvalid_0's binary_logloss: 0.286454\n",
      "[11]\tvalid_0's binary_logloss: 0.286402\n",
      "[12]\tvalid_0's binary_logloss: 0.286364\n",
      "[13]\tvalid_0's binary_logloss: 0.286325\n",
      "[14]\tvalid_0's binary_logloss: 0.286342\n",
      "[15]\tvalid_0's binary_logloss: 0.286345\n"
     ]
    },
    {
     "name": "stderr",
     "output_type": "stream",
     "text": [
      "/opt/miniconda3/envs/n6758/lib/python3.8/site-packages/optuna/trial/_trial.py:590: UserWarning: The reported value is ignored because this `step` 13 is already reported.\n",
      "  warnings.warn(\n",
      "/opt/miniconda3/envs/n6758/lib/python3.8/site-packages/optuna/trial/_trial.py:590: UserWarning: The reported value is ignored because this `step` 14 is already reported.\n",
      "  warnings.warn(\n",
      "/opt/miniconda3/envs/n6758/lib/python3.8/site-packages/optuna/trial/_trial.py:590: UserWarning: The reported value is ignored because this `step` 15 is already reported.\n",
      "  warnings.warn(\n"
     ]
    },
    {
     "name": "stdout",
     "output_type": "stream",
     "text": [
      "[16]\tvalid_0's binary_logloss: 0.286369\n",
      "[17]\tvalid_0's binary_logloss: 0.286379\n",
      "[18]\tvalid_0's binary_logloss: 0.286393\n"
     ]
    },
    {
     "name": "stderr",
     "output_type": "stream",
     "text": [
      "/opt/miniconda3/envs/n6758/lib/python3.8/site-packages/optuna/trial/_trial.py:590: UserWarning: The reported value is ignored because this `step` 16 is already reported.\n",
      "  warnings.warn(\n",
      "/opt/miniconda3/envs/n6758/lib/python3.8/site-packages/optuna/trial/_trial.py:590: UserWarning: The reported value is ignored because this `step` 17 is already reported.\n",
      "  warnings.warn(\n",
      "/opt/miniconda3/envs/n6758/lib/python3.8/site-packages/optuna/trial/_trial.py:590: UserWarning: The reported value is ignored because this `step` 18 is already reported.\n",
      "  warnings.warn(\n",
      "/opt/miniconda3/envs/n6758/lib/python3.8/site-packages/optuna/trial/_trial.py:590: UserWarning: The reported value is ignored because this `step` 19 is already reported.\n",
      "  warnings.warn(\n",
      "/opt/miniconda3/envs/n6758/lib/python3.8/site-packages/optuna/trial/_trial.py:590: UserWarning: The reported value is ignored because this `step` 20 is already reported.\n",
      "  warnings.warn(\n"
     ]
    },
    {
     "name": "stdout",
     "output_type": "stream",
     "text": [
      "[19]\tvalid_0's binary_logloss: 0.286438\n",
      "[20]\tvalid_0's binary_logloss: 0.286452\n",
      "[21]\tvalid_0's binary_logloss: 0.286464\n",
      "[22]\tvalid_0's binary_logloss: 0.286487\n",
      "[23]\tvalid_0's binary_logloss: 0.286513\n",
      "Early stopping, best iteration is:\n",
      "[13]\tvalid_0's binary_logloss: 0.286325\n"
     ]
    },
    {
     "name": "stderr",
     "output_type": "stream",
     "text": [
      "/opt/miniconda3/envs/n6758/lib/python3.8/site-packages/optuna/trial/_trial.py:590: UserWarning: The reported value is ignored because this `step` 21 is already reported.\n",
      "  warnings.warn(\n",
      "/opt/miniconda3/envs/n6758/lib/python3.8/site-packages/optuna/trial/_trial.py:590: UserWarning: The reported value is ignored because this `step` 22 is already reported.\n",
      "  warnings.warn(\n",
      "/opt/miniconda3/envs/n6758/lib/python3.8/site-packages/optuna/trial/_trial.py:590: UserWarning: The reported value is ignored because this `step` 0 is already reported.\n",
      "  warnings.warn(\n",
      "/opt/miniconda3/envs/n6758/lib/python3.8/site-packages/optuna/trial/_trial.py:590: UserWarning: The reported value is ignored because this `step` 1 is already reported.\n",
      "  warnings.warn(\n",
      "/opt/miniconda3/envs/n6758/lib/python3.8/site-packages/optuna/trial/_trial.py:590: UserWarning: The reported value is ignored because this `step` 2 is already reported.\n",
      "  warnings.warn(\n",
      "/opt/miniconda3/envs/n6758/lib/python3.8/site-packages/optuna/trial/_trial.py:590: UserWarning: The reported value is ignored because this `step` 3 is already reported.\n",
      "  warnings.warn(\n",
      "/opt/miniconda3/envs/n6758/lib/python3.8/site-packages/optuna/trial/_trial.py:590: UserWarning: The reported value is ignored because this `step` 4 is already reported.\n",
      "  warnings.warn(\n",
      "/opt/miniconda3/envs/n6758/lib/python3.8/site-packages/optuna/trial/_trial.py:590: UserWarning: The reported value is ignored because this `step` 5 is already reported.\n",
      "  warnings.warn(\n",
      "/opt/miniconda3/envs/n6758/lib/python3.8/site-packages/optuna/trial/_trial.py:590: UserWarning: The reported value is ignored because this `step` 6 is already reported.\n",
      "  warnings.warn(\n"
     ]
    },
    {
     "name": "stdout",
     "output_type": "stream",
     "text": [
      "[1]\tvalid_0's binary_logloss: 0.300916\n",
      "Training until validation scores don't improve for 10 rounds\n",
      "[2]\tvalid_0's binary_logloss: 0.295063\n",
      "[3]\tvalid_0's binary_logloss: 0.291549\n",
      "[4]\tvalid_0's binary_logloss: 0.289306\n",
      "[5]\tvalid_0's binary_logloss: 0.287877\n",
      "[6]\tvalid_0's binary_logloss: 0.286921\n",
      "[7]\tvalid_0's binary_logloss: 0.286327\n"
     ]
    },
    {
     "name": "stderr",
     "output_type": "stream",
     "text": [
      "/opt/miniconda3/envs/n6758/lib/python3.8/site-packages/optuna/trial/_trial.py:590: UserWarning: The reported value is ignored because this `step` 7 is already reported.\n",
      "  warnings.warn(\n",
      "/opt/miniconda3/envs/n6758/lib/python3.8/site-packages/optuna/trial/_trial.py:590: UserWarning: The reported value is ignored because this `step` 8 is already reported.\n",
      "  warnings.warn(\n",
      "/opt/miniconda3/envs/n6758/lib/python3.8/site-packages/optuna/trial/_trial.py:590: UserWarning: The reported value is ignored because this `step` 9 is already reported.\n",
      "  warnings.warn(\n",
      "/opt/miniconda3/envs/n6758/lib/python3.8/site-packages/optuna/trial/_trial.py:590: UserWarning: The reported value is ignored because this `step` 10 is already reported.\n",
      "  warnings.warn(\n",
      "/opt/miniconda3/envs/n6758/lib/python3.8/site-packages/optuna/trial/_trial.py:590: UserWarning: The reported value is ignored because this `step` 11 is already reported.\n",
      "  warnings.warn(\n",
      "/opt/miniconda3/envs/n6758/lib/python3.8/site-packages/optuna/trial/_trial.py:590: UserWarning: The reported value is ignored because this `step` 12 is already reported.\n",
      "  warnings.warn(\n"
     ]
    },
    {
     "name": "stdout",
     "output_type": "stream",
     "text": [
      "[8]\tvalid_0's binary_logloss: 0.285901\n",
      "[9]\tvalid_0's binary_logloss: 0.285641\n",
      "[10]\tvalid_0's binary_logloss: 0.285503\n",
      "[11]\tvalid_0's binary_logloss: 0.285383\n",
      "[12]\tvalid_0's binary_logloss: 0.285314\n",
      "[13]\tvalid_0's binary_logloss: 0.285311\n"
     ]
    },
    {
     "name": "stderr",
     "output_type": "stream",
     "text": [
      "/opt/miniconda3/envs/n6758/lib/python3.8/site-packages/optuna/trial/_trial.py:590: UserWarning: The reported value is ignored because this `step` 13 is already reported.\n",
      "  warnings.warn(\n",
      "/opt/miniconda3/envs/n6758/lib/python3.8/site-packages/optuna/trial/_trial.py:590: UserWarning: The reported value is ignored because this `step` 14 is already reported.\n",
      "  warnings.warn(\n",
      "/opt/miniconda3/envs/n6758/lib/python3.8/site-packages/optuna/trial/_trial.py:590: UserWarning: The reported value is ignored because this `step` 15 is already reported.\n",
      "  warnings.warn(\n",
      "/opt/miniconda3/envs/n6758/lib/python3.8/site-packages/optuna/trial/_trial.py:590: UserWarning: The reported value is ignored because this `step` 16 is already reported.\n",
      "  warnings.warn(\n"
     ]
    },
    {
     "name": "stdout",
     "output_type": "stream",
     "text": [
      "[14]\tvalid_0's binary_logloss: 0.285298\n",
      "[15]\tvalid_0's binary_logloss: 0.285326\n",
      "[16]\tvalid_0's binary_logloss: 0.2853\n",
      "[17]\tvalid_0's binary_logloss: 0.285303\n"
     ]
    },
    {
     "name": "stderr",
     "output_type": "stream",
     "text": [
      "/opt/miniconda3/envs/n6758/lib/python3.8/site-packages/optuna/trial/_trial.py:590: UserWarning: The reported value is ignored because this `step` 17 is already reported.\n",
      "  warnings.warn(\n",
      "/opt/miniconda3/envs/n6758/lib/python3.8/site-packages/optuna/trial/_trial.py:590: UserWarning: The reported value is ignored because this `step` 18 is already reported.\n",
      "  warnings.warn(\n",
      "/opt/miniconda3/envs/n6758/lib/python3.8/site-packages/optuna/trial/_trial.py:590: UserWarning: The reported value is ignored because this `step` 19 is already reported.\n",
      "  warnings.warn(\n",
      "/opt/miniconda3/envs/n6758/lib/python3.8/site-packages/optuna/trial/_trial.py:590: UserWarning: The reported value is ignored because this `step` 20 is already reported.\n",
      "  warnings.warn(\n",
      "/opt/miniconda3/envs/n6758/lib/python3.8/site-packages/optuna/trial/_trial.py:590: UserWarning: The reported value is ignored because this `step` 21 is already reported.\n",
      "  warnings.warn(\n",
      "/opt/miniconda3/envs/n6758/lib/python3.8/site-packages/optuna/trial/_trial.py:590: UserWarning: The reported value is ignored because this `step` 22 is already reported.\n",
      "  warnings.warn(\n",
      "/opt/miniconda3/envs/n6758/lib/python3.8/site-packages/optuna/trial/_trial.py:590: UserWarning: The reported value is ignored because this `step` 23 is already reported.\n",
      "  warnings.warn(\n"
     ]
    },
    {
     "name": "stdout",
     "output_type": "stream",
     "text": [
      "[18]\tvalid_0's binary_logloss: 0.285302\n",
      "[19]\tvalid_0's binary_logloss: 0.285308\n",
      "[20]\tvalid_0's binary_logloss: 0.285325\n",
      "[21]\tvalid_0's binary_logloss: 0.285357\n",
      "[22]\tvalid_0's binary_logloss: 0.285371\n",
      "[23]\tvalid_0's binary_logloss: 0.285399\n",
      "[24]\tvalid_0's binary_logloss: 0.285405\n",
      "Early stopping, best iteration is:\n",
      "[14]\tvalid_0's binary_logloss: 0.285298\n"
     ]
    },
    {
     "name": "stderr",
     "output_type": "stream",
     "text": [
      "\u001B[32m[I 2021-11-22 17:48:22,540]\u001B[0m Trial 16 finished with value: 0.28591171040132984 and parameters: {'n_estimators': 500, 'learning_rate': 0.2353215465447941, 'num_leaves': 100, 'max_depth': 5}. Best is trial 3 with value: 0.28583431845482205.\u001B[0m\n",
      "\u001B[32m[I 2021-11-22 17:48:22,985]\u001B[0m Trial 17 pruned. Trial was pruned at iteration 0.\u001B[0m\n",
      "\u001B[32m[I 2021-11-22 17:48:23,498]\u001B[0m Trial 18 pruned. Trial was pruned at iteration 0.\u001B[0m\n",
      "\u001B[32m[I 2021-11-22 17:48:23,880]\u001B[0m Trial 19 pruned. Trial was pruned at iteration 0.\u001B[0m\n"
     ]
    }
   ],
   "source": [
    "study = optuna.create_study(direction=\"minimize\", study_name=\"LGBM Classifier\")\n",
    "func = lambda trial: objective(trial, X, y)\n",
    "study.optimize(func, n_trials=20)"
   ],
   "metadata": {
    "collapsed": false,
    "pycharm": {
     "name": "#%%\n"
    }
   }
  },
  {
   "cell_type": "code",
   "execution_count": 67,
   "outputs": [
    {
     "name": "stdout",
     "output_type": "stream",
     "text": [
      "\tBest value (rmse): 0.28583\n",
      "\tBest params:\n",
      "{'learning_rate': 0.06527777923935238,\n",
      " 'max_depth': 5,\n",
      " 'n_estimators': 100,\n",
      " 'num_leaves': 100}\n"
     ]
    }
   ],
   "source": [
    "print(f\"\\tBest value (rmse): {study.best_value:.5f}\")\n",
    "print(f\"\\tBest params:\")\n",
    "params = study.best_params\n",
    "pprint(params)"
   ],
   "metadata": {
    "collapsed": false,
    "pycharm": {
     "name": "#%%\n"
    }
   }
  },
  {
   "cell_type": "code",
   "execution_count": 68,
   "outputs": [
    {
     "name": "stdout",
     "output_type": "stream",
     "text": [
      "{'accuracy': 0.9027385143689624,\n",
      " 'f1': 0.0007127583749109052,\n",
      " 'precision': 0.5,\n",
      " 'recall': 0.0003566333808844508}\n"
     ]
    }
   ],
   "source": [
    "clf = lgbm.LGBMClassifier(**params)\n",
    "clf.fit(X,y)\n",
    "y_pred = clf.predict(X_test)\n",
    "f1 = f1_score(y_test, y_pred)\n",
    "accuracy = accuracy_score(y_test, y_pred)\n",
    "precision = precision_score(y_test, y_pred)\n",
    "recall = recall_score(y_test, y_pred)\n",
    "metrics = {\"accuracy\": accuracy, \"f1\": f1, \"recall\": recall, \"precision\": precision}\n",
    "pprint(metrics)"
   ],
   "metadata": {
    "collapsed": false,
    "pycharm": {
     "name": "#%%\n"
    }
   }
  },
  {
   "cell_type": "code",
   "execution_count": 69,
   "outputs": [
    {
     "data": {
      "text/plain": "(array([0, 1]), array([57655,     4]))"
     },
     "execution_count": 69,
     "metadata": {},
     "output_type": "execute_result"
    }
   ],
   "source": [
    "np.unique(y_pred,return_counts=True)"
   ],
   "metadata": {
    "collapsed": false,
    "pycharm": {
     "name": "#%%\n"
    }
   }
  },
  {
   "cell_type": "code",
   "execution_count": null,
   "outputs": [],
   "source": [],
   "metadata": {
    "collapsed": false,
    "pycharm": {
     "name": "#%%\n"
    }
   }
  }
 ],
 "metadata": {
  "kernelspec": {
   "display_name": "Python 3",
   "language": "python",
   "name": "python3"
  },
  "language_info": {
   "codemirror_mode": {
    "name": "ipython",
    "version": 2
   },
   "file_extension": ".py",
   "mimetype": "text/x-python",
   "name": "python",
   "nbconvert_exporter": "python",
   "pygments_lexer": "ipython2",
   "version": "2.7.6"
  }
 },
 "nbformat": 4,
 "nbformat_minor": 0
}