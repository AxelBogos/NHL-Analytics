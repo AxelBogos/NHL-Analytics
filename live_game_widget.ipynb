{
 "cells": [
  {
   "cell_type": "code",
   "execution_count": 6,
   "id": "a9556784",
   "metadata": {
    "scrolled": false
   },
   "outputs": [
    {
     "data": {
      "application/vnd.jupyter.widget-view+json": {
       "model_id": "2ca5d0cb6b9146b49ca72b368b7b7b63",
       "version_major": 2,
       "version_minor": 0
      },
      "text/plain": [
       "VBox(children=(HBox(children=(Label(value='Workspace', layout=Layout(display='flex')), Text(value='axelbogos')…"
      ]
     },
     "metadata": {},
     "output_type": "display_data"
    },
    {
     "name": "stdout",
     "output_type": "stream",
     "text": [
      "{'0': {'0': 0.0087368841, '1': 0.1135399, '2': 0.0183554441, '3': 0.0095113429, '4': 0.0277862039, '5': 0.3022984197, '6': 0.0167514139, '7': 0.0221204451, '8': 0.0093098007, '9': 0.0133220451, '10': 0.0179310972, '11': 0.0471335636, '12': 0.0059091572, '13': 0.0137164156, '14': 0.0214328726, '15': 0.0569294807, '16': 0.1086235463, '17': 0.0169985031, '18': 0.1692046061, '19': 0.0937469082, '20': 0.0197953714, '21': 0.0189773242, '22': 0.0069225594, '23': 0.0056227405, '24': 0.0239611406, '25': 0.1768960784, '26': 0.0684248609, '27': 0.0938494234, '28': 0.0114918298, '29': 0.0479773237, '30': 0.2196925196, '31': 0.0261665694, '32': 0.0453276932, '33': 0.0621679108, '34': 0.0862245674, '35': 0.0237937963, '36': 0.0108818794, '37': 0.0377326297, '38': 0.073975808, '39': 0.1072585438, '40': 0.1524214259, '41': 0.0275337996, '42': 0.0084145183, '43': 0.0368547486, '44': 0.0955302111, '45': 0.0393679421, '46': 0.4170545954, '47': 0.1091618484, '48': 0.0160092711, '49': 0.1137270647, '50': 0.0284631229, '51': 0.0882049259, '52': 0.0568030343}}\n"
     ]
    }
   ],
   "source": [
    "import os\n",
    "\n",
    "\n",
    "import ipywidgets as widgets\n",
    "from ipywidgets import interact, interact_manual, widget, Layout, Button, HBox, FloatText, Textarea, Dropdown, Label, VBox\n",
    "from IPython.display import display\n",
    "from IPython.html import widgets\n",
    "from prettytable import PrettyTable\n",
    "from ift6758.ift6758.client.serving_client import ServingClient\n",
    "from ift6758.ift6758.client.game_client import Game_Client\n",
    "import pandas as pd\n",
    "\n",
    "\n",
    "form_item_layout = Layout(\n",
    "    display='inline-flex',\n",
    "    flex_flow='row',\n",
    "    flex_wrap= 'wrap',\n",
    "    justify_content='space-between',\n",
    "    max_width='0.8'\n",
    ")\n",
    "\n",
    "#Creating required variable\n",
    "prevgameid = None\n",
    "gameid = widgets.Text()\n",
    "GAME_ID_FLAG = 'GAME_ID_FLAG'\n",
    "update_data = Button(description='Update Data', button_style='danger')\n",
    "model = widgets.Text(value='6-lgbm')\n",
    "version = widgets.Text(value = '1.0.1')\n",
    "workspace= widgets.Text(value='axelbogos')\n",
    "update_model = Button(description='Update Model', button_style='danger')\n",
    "out = widgets.Output()\n",
    "period = 1\n",
    "time_left = \"20:00\"\n",
    "\n",
    "game_data = pd.DataFrame()\n",
    "\n",
    "serving_client = ServingClient(ip=\"127.0.0.1\")\n",
    "game_client = None\n",
    "\n",
    "def update_game_ID(gameid=gameid, prevgameid=prevgameid, game_data=game_data):\n",
    "    if gameid != prevgameid:\n",
    "        game_client = Game_Client(game_id = int(float(gameid.value)))\n",
    "        game_data, period, time_left = game_client.ping_api()\n",
    "        if not game_data.empty:\n",
    "            if game_data.shape[0] > 0:\n",
    "                predictions = serving_client.predict(game_data)\n",
    "                game_data['predict'] = predictions\n",
    "                prevgameid = gameid\n",
    "    else:\n",
    "        game_data_temp, period, time_left = game_client.ping_api()\n",
    "        if not game_data_temp.empty:\n",
    "            if game_data_temp.shape[0] > 0:\n",
    "                predictions = serving_client.predict(game_data_temp)\n",
    "                game_data_temp['predict'] = predictions\n",
    "                game_data.append(game_data_temp)\n",
    "    return game_data, prevgameid, period, time_left\n",
    "\n",
    "def create_dashboard(game_data=game_data):\n",
    "    home_team = game_data.iloc[0][\"home_team\"]\n",
    "    away_team = game_data.iloc[0][\"away_team\"]\n",
    "    \n",
    "    x = PrettyTable([\"Home Team\", \"Away Team\"])\n",
    "    x.add_row([home_team, away_team])\n",
    "    x.add_row([game_data.predict[game_data[\"team\"]== game_data[\"home_team\"]].sum(),\n",
    "                                game_data.predict[game_data[\"team\"]== game_data[\"away_team\"]].sum()])\n",
    "    return x        \n",
    "\n",
    "def on_game_button_click(b):\n",
    "    game_data, prevgameid, period, time_left = update_game_ID()\n",
    "    if not game_data.empty:\n",
    "        if game_data.shape[0] > 0:\n",
    "            x=create_dashboard(game_data)\n",
    "            \n",
    "            with out:\n",
    "                    out.clear_output()\n",
    "                    \n",
    "                    display(print(x.get_string(title=f\"Period {period} - {time_left}\")))\n",
    "                    display(game_data)\n",
    "    else:\n",
    "        with out:\n",
    "            out.clear_output()\n",
    "            display('No data yet for this game')\n",
    "\n",
    "\n",
    "\n",
    "def on_model_button_click(b):\n",
    "    serving_client.download_registry_model(workspace.value,model.value,version.value)\n",
    "    if not game_data.empty:\n",
    "        if game_data.shape[0] > 0:\n",
    "            predictions = serving_client.predict(game_data)\n",
    "            game_data['predict'] = predictions\n",
    "            x=create_dashboard(game_data)\n",
    "    with out:\n",
    "            out.clear_output()\n",
    "            display('model updated')\n",
    "            if not game_data.empty:\n",
    "                if game_data.shape[0] > 0:\n",
    "                    display(print(x.get_string(title=f\"Period {period} - {time_left}\")))\n",
    "                    display(game_data)\n",
    "            else:\n",
    "                display('No data yet for this game')\n",
    "\n",
    "        \n",
    "\n",
    "update_data.on_click(on_game_button_click)\n",
    "update_model.on_click(on_model_button_click)\n",
    "\n",
    "box1 = HBox([Label(value='Workspace',layout=Layout(display=\"flex\")),\n",
    "      workspace, Label(value='Model:'), model], layout=form_item_layout)\n",
    "box2 =HBox([Label(value='version'), version, update_model], layout=form_item_layout)\n",
    "box3 = HBox([Label(value='GameID'),\n",
    "        gameid,update_data], layout=form_item_layout)\n",
    "box4 = HBox([out],layout=form_item_layout)\n",
    "\n",
    "VBox([box1,box2,box3,box4])"
   ]
  },
  {
   "cell_type": "markdown",
   "id": "ba924f23",
   "metadata": {},
   "source": [
    "list available model with corresponding version"
   ]
  },
  {
   "cell_type": "code",
   "execution_count": null,
   "id": "2b404170",
   "metadata": {},
   "outputs": [],
   "source": [
    "import os\n",
    "os.chdir('../')\n",
    "os.chdir('../')\n",
    "os.getcwd()"
   ]
  },
  {
   "cell_type": "code",
   "execution_count": null,
   "id": "d80b59bd",
   "metadata": {},
   "outputs": [],
   "source": [
    "os.chdir('../')\n",
    "os.chdir('../')\n",
    "from ift6758.client.serving_client import ServingClient"
   ]
  },
  {
   "cell_type": "code",
   "execution_count": null,
   "id": "13d9a386",
   "metadata": {},
   "outputs": [],
   "source": [
    "os.getcwd()"
   ]
  },
  {
   "cell_type": "code",
   "execution_count": null,
   "id": "8789dd2e",
   "metadata": {},
   "outputs": [],
   "source": [
    "int(gameid.value)"
   ]
  },
  {
   "cell_type": "code",
   "execution_count": null,
   "id": "6af8d40f",
   "metadata": {},
   "outputs": [],
   "source": [
    "int(str(gameid.value))"
   ]
  },
  {
   "cell_type": "code",
   "execution_count": null,
   "id": "8b66928a",
   "metadata": {},
   "outputs": [],
   "source": [
    "gameid.get()"
   ]
  },
  {
   "cell_type": "code",
   "execution_count": null,
   "id": "27422930",
   "metadata": {},
   "outputs": [],
   "source": [
    "from ift6758.client.game_client import Game_Client\n",
    "\n",
    "game_client = Game_Client(game_id =  2015020001)\n",
    "game_data = game_client.ping_api()"
   ]
  },
  {
   "cell_type": "code",
   "execution_count": null,
   "id": "9e4f9aba",
   "metadata": {},
   "outputs": [],
   "source": [
    "game_data"
   ]
  },
  {
   "cell_type": "code",
   "execution_count": 3,
   "id": "e5daa730",
   "metadata": {},
   "outputs": [
    {
     "ename": "AttributeError",
     "evalue": "'NoneType' object has no attribute 'period'",
     "output_type": "error",
     "traceback": [
      "\u001b[1;31m---------------------------------------------------------------------------\u001b[0m",
      "\u001b[1;31mAttributeError\u001b[0m                            Traceback (most recent call last)",
      "\u001b[1;32mC:\\Users\\MARC-A~1\\AppData\\Local\\Temp/ipykernel_23792/4028790561.py\u001b[0m in \u001b[0;36m<module>\u001b[1;34m\u001b[0m\n\u001b[1;32m----> 1\u001b[1;33m \u001b[0mgame_client\u001b[0m\u001b[1;33m.\u001b[0m\u001b[0mperiod\u001b[0m\u001b[1;33m\u001b[0m\u001b[1;33m\u001b[0m\u001b[0m\n\u001b[0m",
      "\u001b[1;31mAttributeError\u001b[0m: 'NoneType' object has no attribute 'period'"
     ]
    }
   ],
   "source": [
    "game_client.period"
   ]
  },
  {
   "cell_type": "code",
   "execution_count": null,
   "id": "35fec01c",
   "metadata": {},
   "outputs": [],
   "source": []
  }
 ],
 "metadata": {
  "kernelspec": {
   "display_name": "Python 3 (ipykernel)",
   "language": "python",
   "name": "python3"
  },
  "language_info": {
   "codemirror_mode": {
    "name": "ipython",
    "version": 3
   },
   "file_extension": ".py",
   "mimetype": "text/x-python",
   "name": "python",
   "nbconvert_exporter": "python",
   "pygments_lexer": "ipython3",
   "version": "3.8.11"
  }
 },
 "nbformat": 4,
 "nbformat_minor": 5
}
