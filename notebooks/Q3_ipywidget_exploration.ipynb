{
 "cells": [
  {
   "cell_type": "markdown",
   "metadata": {},
   "source": [
    "# Exploration and Debugging <br> \n",
    "### The objectives of this notebook are: \n",
    "* **Load** a sample data file from either the regular season or playoff;\n",
    "* **Understand** an initial overview of the data structure;\n",
    "* **Create** an ipywidget to interact with a few values of a particular game."
   ]
  },
  {
   "cell_type": "markdown",
   "metadata": {},
   "source": [
    "## Imports"
   ]
  },
  {
   "cell_type": "code",
   "execution_count": 1,
   "metadata": {
    "tags": []
   },
   "outputs": [],
   "source": [
    "import json\n",
    "import numpy as np\n",
    "import pandas as pd\n",
    "import glob\n",
    "import os\n",
    "import matplotlib\n",
    "import matplotlib.pyplot as plt\n",
    "\n",
    "# FOR INTERACTIVE VISUALIZATION\n",
    "import ipywidgets as widgets\n",
    "from ipywidgets import interact, IntSlider, Dropdown, SelectionSlider\n",
    "import ipywidgets as widgets\n",
    "matplotlib.rcParams['figure.figsize'] = [10,5]\n",
    "plt.style.use('fivethirtyeight')"
   ]
  },
  {
   "cell_type": "markdown",
   "metadata": {},
   "source": [
    "## Data Loading"
   ]
  },
  {
   "cell_type": "code",
   "execution_count": 2,
   "metadata": {},
   "outputs": [],
   "source": [
    "data_path = os.path.join(os.path.dirname(__file__), '..', 'ift6758','data', 'raw')"
   ]
  },
  {
   "cell_type": "markdown",
   "metadata": {
    "pycharm": {
     "name": "#%% md\n"
    }
   },
   "source": [
    "## Data Loading Functions"
   ]
  },
  {
   "cell_type": "code",
   "execution_count": 3,
   "metadata": {
    "jupyter": {
     "outputs_hidden": false
    },
    "pycharm": {
     "name": "#%%\n"
    }
   },
   "outputs": [],
   "source": [
    "def decode_json_file(file_path) -> dict:\n",
    "    \"\"\"\n",
    "    Decode the content of a single json file and returns the content as a dict.\n",
    "    :param file_path: Path to json file\n",
    "    :return: Parsed json file as dict\n",
    "    \"\"\"\n",
    "    with open(file_path) as f:\n",
    "        return json.load(f)\n",
    "\n",
    "def read_json_file(season: str, is_playoff: bool, game_id: int,  data_path: str = '../ift6758/data/raw'):\n",
    "    \"\"\"\n",
    "    Get and decode all JSON files path list corresponding to the season for reg or playoff matches\n",
    "    :param season: 4 digit string representation of a season. ex: '2016'\n",
    "    :param is_playoff: bool representing if match is in playoff or reg season\n",
    "    :param path: raw data path\n",
    "    :return: list of json files as dicts\n",
    "    \"\"\"\n",
    "    reg_playoff_indicator = '03' if is_playoff else '02'\n",
    "    f_path = os.path.join(data_path,f'{season}{reg_playoff_indicator}{game_id}.json')\n",
    "    if os.path.exists(f_path):\n",
    "        return decode_json_file(f_path)\n",
    "    else:\n",
    "        return \"No Game\"\n"
   ]
  },
  {
   "cell_type": "markdown",
   "metadata": {},
   "source": [
    "## JSON Printing Functions"
   ]
  },
  {
   "cell_type": "code",
   "execution_count": 4,
   "metadata": {},
   "outputs": [],
   "source": [
    "def pretty_print_game_info(json_file):\n",
    "    \"\"\"\n",
    "    Pretty prints the general info of a game such as the teams participating and their scores\n",
    "    :param json_file: json files as a dict\n",
    "    :return:  None\n",
    "    \"\"\"\n",
    "    if json_file.get('messageNumber',{}) == 2:\n",
    "        return\n",
    "    date = json_file['gameData']['datetime']['dateTime']\n",
    "    single_game_id = str(json_file['gamePk'])[6::]\n",
    "    home = json_file['gameData']['teams']['home']['abbreviation']\n",
    "    away = json_file['gameData']['teams']['away']['abbreviation']\n",
    "    home_score = ['Home',json_file['gameData']['teams']['home']['abbreviation'], json_file['liveData']['linescore']['teams']['home']['goals'],\n",
    "     json_file['liveData']['linescore']['teams']['home']['shotsOnGoal'], json_file['liveData']['linescore']['teams']['home']['goaliePulled']]\n",
    "\n",
    "    away_score = ['Away',json_file['gameData']['teams']['away']['abbreviation'], json_file['liveData']['linescore']['teams']['away']['goals'],\n",
    "    json_file['liveData']['linescore']['teams']['away']['shotsOnGoal'], json_file['liveData']['linescore']['teams']['away']['goaliePulled']]\n",
    "    score_df = pd.DataFrame(list(zip(home_score, away_score)),\n",
    "               index =['', 'Teams','Goals','SoG','Goalie Pulled'],\n",
    "               columns=['',''])\n",
    "    print(date)\n",
    "    print(f'Game ID: {single_game_id}')\n",
    "    print(f'{home} (home) vs {away} (away)')\n",
    "    print('\\n----------Final Score----------')\n",
    "    print(score_df)\n",
    "\n",
    "def pretty_print_event_info(event):\n",
    "    \"\"\"\n",
    "    Pretty prints the info of a particular event\n",
    "    :param json_file: json files as a dict\n",
    "    :return:  None\n",
    "    \"\"\"\n",
    "    # Print all the event dictionary event that exist\n",
    "    if 'about' in event.keys(): \n",
    "        print('{\"about\": { ')\n",
    "        for key,value in event['about'].items():\n",
    "            print(f'\\t \"{key}\" : {value},')\n",
    "        print('\\t}')\n",
    "    if 'players' in event.keys(): \n",
    "        print('{\"players\": { ')\n",
    "        for p in event['players']:\n",
    "            for key,value in p.items():\n",
    "                print(f'\\t \"{key}\" : {value},')\n",
    "        print('\\t}')\n",
    "    if 'result' in event.keys(): \n",
    "        print('{\"result\": { ')\n",
    "        for key,value in event['result'].items():\n",
    "            print(f'\\t \"{key}\" : {value},')\n",
    "        print('\\t}')\n",
    "    if 'coordinates' in event.keys() and event['coordinates'] : \n",
    "        print('{\"coordinates\": { ')\n",
    "        for key,value in event['coordinates'].items():\n",
    "            print(f'\\t \"{key}\" : {value},')\n",
    "        print('\\t}')\n",
    "    if 'team' in event.keys(): \n",
    "        print('{\"team\": { ')\n",
    "        for key,value in event['team'].items():\n",
    "            print(f'\\t \"{key}\" : {value},')\n",
    "        print('\\t}')\n",
    "    print('}')\n"
   ]
  },
  {
   "cell_type": "markdown",
   "metadata": {},
   "source": [
    "## Exploration of the data structure - Widget Interactions\n"
   ]
  },
  {
   "cell_type": "code",
   "execution_count": 5,
   "metadata": {},
   "outputs": [
    {
     "data": {
      "application/vnd.jupyter.widget-view+json": {
       "model_id": "8274f44bfd4f49ffb1124be5744ef92e",
       "version_major": 2,
       "version_minor": 0
      },
      "text/plain": [
       "interactive(children=(IntSlider(value=2016, continuous_update=False, description='Season', max=2020, min=2016)…"
      ]
     },
     "metadata": {},
     "output_type": "display_data"
    }
   ],
   "source": [
    "@interact(\n",
    "    # Dropdown reg/playoff season selector\n",
    "    is_playoff=Dropdown(\n",
    "        options=[('Regular', False), ('Playoff', True)],\n",
    "        value=0,\n",
    "        description='Match Type',\n",
    "        continuous_update=False),\n",
    "    # Season Selector **TODO match the season year standard across the project**\n",
    "    season = IntSlider(\n",
    "        value=2016,\n",
    "        min=2016,\n",
    "        max=2020,\n",
    "        step=1,\n",
    "        description='Season',\n",
    "        disabled=False,\n",
    "        continuous_update=False,\n",
    "        orientation='horizontal',\n",
    "        readout=True,\n",
    "        readout_format='d')\n",
    "    )\n",
    "def display_season_and_isPlayoff(season, is_playoff):\n",
    "    \"\"\"\n",
    "    Function responsible for the interactive slider controlling the season slider and the reg/playoff dropdown selector.\n",
    "    Background image of the plot is also loaded here so as not to unecessarily reload the file on each update.\n",
    "    :param season: string representing the season (ex: '2016')\n",
    "    :param is_playoff: bool representing type of game (reg or playoff)\n",
    "    :return:  None\n",
    "    \"\"\"\n",
    "    reg_playoff_indicator = '03' if is_playoff else '02'\n",
    "    paths = glob.glob(os.path.join(data_path,f'{season}{reg_playoff_indicator}*.json'))\n",
    "    valid_game_id = sorted([s[-9:-5:] for s in paths])\n",
    "    img = plt.imread(\"../figures/nhl_rink.png\")\n",
    "    \n",
    "    @interact(\n",
    "        game_id = SelectionSlider(\n",
    "        options=valid_game_id,\n",
    "        value=valid_game_id[0],\n",
    "        description='Game-ID',\n",
    "        disabled=False,\n",
    "        continuous_update=False,\n",
    "        orientation='horizontal',\n",
    "        readout=True)\n",
    "    )\n",
    "    def display_game_id(game_id):\n",
    "        \"\"\"\n",
    "        Function responsible for the interactive slider controlling the game id slider. Pretty prints general game info.\n",
    "        :param game_id: string representing the game-id (zero-filled) (ex: '0002')\n",
    "        :return:  None\n",
    "        \"\"\"\n",
    "        json_file = read_json_file(str(season),is_playoff,game_id)\n",
    "        events = json_file.get('liveData', {}).get('plays', {}).get('allPlays', '')\n",
    "            \n",
    "        #events = json_file['liveData']['plays']['allPlays']\n",
    "        event_ids = range(len(events))\n",
    "        pretty_print_game_info(json_file)\n",
    "        \n",
    "        if(len(event_ids) > 0): \n",
    "            @interact(\n",
    "            event_id = SelectionSlider(\n",
    "            options= event_ids,\n",
    "            value=0,\n",
    "            description='Event ID',\n",
    "            disabled=False,\n",
    "            continuous_update=False,\n",
    "            orientation='horizontal',\n",
    "            readout=True)\n",
    "            )\n",
    "            def display_event(event_id):\n",
    "                \"\"\"\n",
    "                Function responsible for the interactive slider controlling the event id slider. List of event_ids is obtained dynamically based on what exists for that particular game.\n",
    "                :param event_id: int representing the index of the event\n",
    "                :return:  None\n",
    "                \"\"\"\n",
    "                # Create plot\n",
    "                \n",
    "                # Display background image with correct ratio\n",
    "                event = json_file['liveData']['plays']['allPlays'][event_id]\n",
    "                # Build image title\n",
    "                desc = event['result']['description']\n",
    "                period_time = event['about']['periodTime']\n",
    "                period = event['about']['period']\n",
    "                title_string = f'{desc} \\n {period_time} P-{period}'\n",
    "                \n",
    "                # Plot event coordinates if available\n",
    "                if 'coordinates' in event.keys() and event['coordinates'] :\n",
    "                    fig, ax = plt.subplots()\n",
    "                    plt.title(title_string)\n",
    "                    ax.imshow(img,extent=[-100, 100, -42.5, 42.5])\n",
    "                    ax.plot(event['coordinates']['x'],event['coordinates']['y'],marker='o',markersize=18,color='green')\n",
    "                    plt.show()\n",
    "                pretty_print_event_info(event)\n",
    "                 \n",
    "                \n",
    "            \n",
    "\n",
    "    "
   ]
  },
  {
   "cell_type": "code",
   "execution_count": null,
   "metadata": {},
   "outputs": [],
   "source": []
  }
 ],
 "metadata": {
  "interpreter": {
   "hash": "7767b748aa468256223d4322b703841adfc398b2d97a6b30df637238b1a9ef03"
  },
  "kernelspec": {
   "display_name": "Python 3.8.11 64-bit ('6758': conda)",
   "name": "python3"
  },
  "language_info": {
   "codemirror_mode": {
    "name": "ipython",
    "version": 3
   },
   "file_extension": ".py",
   "mimetype": "text/x-python",
   "name": "python",
   "nbconvert_exporter": "python",
   "pygments_lexer": "ipython3",
   "version": "3.8.11"
  }
 },
 "nbformat": 4,
 "nbformat_minor": 4
}