{
 "cells": [
  {
   "cell_type": "markdown",
   "metadata": {},
   "source": [
    "# Exploration and Debugging <br> \n",
    "### The objectives of this notebook are: \n",
    "* **Load** a sample data file from either the regular season or playoff;\n",
    "* **Understand** an initial overview of the data structure;\n",
    "* **Create** an ipywidget to interact with a few values of a particular game."
   ]
  },
  {
   "cell_type": "markdown",
   "metadata": {},
   "source": [
    "## Imports"
   ]
  },
  {
   "cell_type": "code",
   "execution_count": 2,
   "metadata": {
    "tags": []
   },
   "outputs": [],
   "source": [
    "import json\n",
    "import ipywidgets as widgets\n",
    "import pandas as pd\n"
   ]
  },
  {
   "cell_type": "markdown",
   "metadata": {},
   "source": [
    "## Sample Data Loading"
   ]
  },
  {
   "cell_type": "code",
   "execution_count": 3,
   "metadata": {},
   "outputs": [],
   "source": [
    "data_path = '../data/raw/'"
   ]
  },
  {
   "cell_type": "markdown",
   "metadata": {},
   "source": [
    "## Exploration of the data structure"
   ]
  },
  {
   "cell_type": "code",
   "execution_count": null,
   "metadata": {},
   "outputs": [],
   "source": []
  },
  {
   "cell_type": "markdown",
   "metadata": {},
   "source": [
    "## Which side do team play when they are at home?"
   ]
  },
  {
   "cell_type": "code",
   "execution_count": 15,
   "metadata": {},
   "outputs": [
    {
     "data": {
      "text/plain": "      game_id game_time  period period_time             team  \\\n0  2019020910      0:15       1       00:15  Ottawa Senators   \n1  2019020910      0:18       1       00:18  Ottawa Senators   \n2  2019020910      0:34       1       00:34  Ottawa Senators   \n3  2019020910      1:11       1       01:11  Ottawa Senators   \n4  2019020910      1:43       1       01:43  Ottawa Senators   \n5  2019020910      2:24       1       02:24  Ottawa Senators   \n6  2019020910      2:56       1       02:56     Dallas Stars   \n7  2019020910      3:03       1       03:03     Dallas Stars   \n8  2019020910      3:41       1       03:41  Ottawa Senators   \n9  2019020910      3:58       1       03:58  Ottawa Senators   \n\n               shooter          goalie  is_goal   shot_type  x_coordinate  \\\n0          Tyler Ennis  Anton Khudobin    False    Backhand          81.0   \n1        Thomas Chabot  Anton Khudobin    False  Wrist Shot          50.0   \n2         Dylan DeMelo  Anton Khudobin    False  Wrist Shot          32.0   \n3      Anthony Duclair  Anton Khudobin    False  Wrist Shot          59.0   \n4        Cody Goloubef  Anton Khudobin    False  Wrist Shot          33.0   \n5       Scott Sabourin  Anton Khudobin    False  Wrist Shot          65.0   \n6      Jason Robertson  Craig Anderson    False   Slap Shot         -51.0   \n7       John Klingberg  Craig Anderson     True   Deflected         -39.0   \n8        Brady Tkachuk  Anton Khudobin    False   Deflected          83.0   \n9  Jean-Gabriel Pageau  Anton Khudobin    False  Wrist Shot          44.0   \n\n   y_coordinate is_empty_net strength  is_playoff  is_home_team  shot_distance  \n0          -7.0          NaN      NaN       False          True      10.630146  \n1          38.0          NaN      NaN       False          True      54.451814  \n2         -32.0          NaN      NaN       False          True      65.368188  \n3          29.0          NaN      NaN       False          True      41.725292  \n4         -20.0          NaN      NaN       False          True      59.464275  \n5          17.0          NaN      NaN       False          True      29.410882  \n6         -33.0          NaN      NaN       False         False      50.328918  \n7          30.0        False     Even       False         False      58.309519  \n8           7.0          NaN      NaN       False          True       9.219544  \n9         -29.0          NaN      NaN       False          True      53.535035  ",
      "text/html": "<div>\n<style scoped>\n    .dataframe tbody tr th:only-of-type {\n        vertical-align: middle;\n    }\n\n    .dataframe tbody tr th {\n        vertical-align: top;\n    }\n\n    .dataframe thead th {\n        text-align: right;\n    }\n</style>\n<table border=\"1\" class=\"dataframe\">\n  <thead>\n    <tr style=\"text-align: right;\">\n      <th></th>\n      <th>game_id</th>\n      <th>game_time</th>\n      <th>period</th>\n      <th>period_time</th>\n      <th>team</th>\n      <th>shooter</th>\n      <th>goalie</th>\n      <th>is_goal</th>\n      <th>shot_type</th>\n      <th>x_coordinate</th>\n      <th>y_coordinate</th>\n      <th>is_empty_net</th>\n      <th>strength</th>\n      <th>is_playoff</th>\n      <th>is_home_team</th>\n      <th>shot_distance</th>\n    </tr>\n  </thead>\n  <tbody>\n    <tr>\n      <th>0</th>\n      <td>2019020910</td>\n      <td>0:15</td>\n      <td>1</td>\n      <td>00:15</td>\n      <td>Ottawa Senators</td>\n      <td>Tyler Ennis</td>\n      <td>Anton Khudobin</td>\n      <td>False</td>\n      <td>Backhand</td>\n      <td>81.0</td>\n      <td>-7.0</td>\n      <td>NaN</td>\n      <td>NaN</td>\n      <td>False</td>\n      <td>True</td>\n      <td>10.630146</td>\n    </tr>\n    <tr>\n      <th>1</th>\n      <td>2019020910</td>\n      <td>0:18</td>\n      <td>1</td>\n      <td>00:18</td>\n      <td>Ottawa Senators</td>\n      <td>Thomas Chabot</td>\n      <td>Anton Khudobin</td>\n      <td>False</td>\n      <td>Wrist Shot</td>\n      <td>50.0</td>\n      <td>38.0</td>\n      <td>NaN</td>\n      <td>NaN</td>\n      <td>False</td>\n      <td>True</td>\n      <td>54.451814</td>\n    </tr>\n    <tr>\n      <th>2</th>\n      <td>2019020910</td>\n      <td>0:34</td>\n      <td>1</td>\n      <td>00:34</td>\n      <td>Ottawa Senators</td>\n      <td>Dylan DeMelo</td>\n      <td>Anton Khudobin</td>\n      <td>False</td>\n      <td>Wrist Shot</td>\n      <td>32.0</td>\n      <td>-32.0</td>\n      <td>NaN</td>\n      <td>NaN</td>\n      <td>False</td>\n      <td>True</td>\n      <td>65.368188</td>\n    </tr>\n    <tr>\n      <th>3</th>\n      <td>2019020910</td>\n      <td>1:11</td>\n      <td>1</td>\n      <td>01:11</td>\n      <td>Ottawa Senators</td>\n      <td>Anthony Duclair</td>\n      <td>Anton Khudobin</td>\n      <td>False</td>\n      <td>Wrist Shot</td>\n      <td>59.0</td>\n      <td>29.0</td>\n      <td>NaN</td>\n      <td>NaN</td>\n      <td>False</td>\n      <td>True</td>\n      <td>41.725292</td>\n    </tr>\n    <tr>\n      <th>4</th>\n      <td>2019020910</td>\n      <td>1:43</td>\n      <td>1</td>\n      <td>01:43</td>\n      <td>Ottawa Senators</td>\n      <td>Cody Goloubef</td>\n      <td>Anton Khudobin</td>\n      <td>False</td>\n      <td>Wrist Shot</td>\n      <td>33.0</td>\n      <td>-20.0</td>\n      <td>NaN</td>\n      <td>NaN</td>\n      <td>False</td>\n      <td>True</td>\n      <td>59.464275</td>\n    </tr>\n    <tr>\n      <th>5</th>\n      <td>2019020910</td>\n      <td>2:24</td>\n      <td>1</td>\n      <td>02:24</td>\n      <td>Ottawa Senators</td>\n      <td>Scott Sabourin</td>\n      <td>Anton Khudobin</td>\n      <td>False</td>\n      <td>Wrist Shot</td>\n      <td>65.0</td>\n      <td>17.0</td>\n      <td>NaN</td>\n      <td>NaN</td>\n      <td>False</td>\n      <td>True</td>\n      <td>29.410882</td>\n    </tr>\n    <tr>\n      <th>6</th>\n      <td>2019020910</td>\n      <td>2:56</td>\n      <td>1</td>\n      <td>02:56</td>\n      <td>Dallas Stars</td>\n      <td>Jason Robertson</td>\n      <td>Craig Anderson</td>\n      <td>False</td>\n      <td>Slap Shot</td>\n      <td>-51.0</td>\n      <td>-33.0</td>\n      <td>NaN</td>\n      <td>NaN</td>\n      <td>False</td>\n      <td>False</td>\n      <td>50.328918</td>\n    </tr>\n    <tr>\n      <th>7</th>\n      <td>2019020910</td>\n      <td>3:03</td>\n      <td>1</td>\n      <td>03:03</td>\n      <td>Dallas Stars</td>\n      <td>John Klingberg</td>\n      <td>Craig Anderson</td>\n      <td>True</td>\n      <td>Deflected</td>\n      <td>-39.0</td>\n      <td>30.0</td>\n      <td>False</td>\n      <td>Even</td>\n      <td>False</td>\n      <td>False</td>\n      <td>58.309519</td>\n    </tr>\n    <tr>\n      <th>8</th>\n      <td>2019020910</td>\n      <td>3:41</td>\n      <td>1</td>\n      <td>03:41</td>\n      <td>Ottawa Senators</td>\n      <td>Brady Tkachuk</td>\n      <td>Anton Khudobin</td>\n      <td>False</td>\n      <td>Deflected</td>\n      <td>83.0</td>\n      <td>7.0</td>\n      <td>NaN</td>\n      <td>NaN</td>\n      <td>False</td>\n      <td>True</td>\n      <td>9.219544</td>\n    </tr>\n    <tr>\n      <th>9</th>\n      <td>2019020910</td>\n      <td>3:58</td>\n      <td>1</td>\n      <td>03:58</td>\n      <td>Ottawa Senators</td>\n      <td>Jean-Gabriel Pageau</td>\n      <td>Anton Khudobin</td>\n      <td>False</td>\n      <td>Wrist Shot</td>\n      <td>44.0</td>\n      <td>-29.0</td>\n      <td>NaN</td>\n      <td>NaN</td>\n      <td>False</td>\n      <td>True</td>\n      <td>53.535035</td>\n    </tr>\n  </tbody>\n</table>\n</div>"
     },
     "execution_count": 15,
     "metadata": {},
     "output_type": "execute_result"
    }
   ],
   "source": [
    "df = pd.read_csv(\"../ift6758/data/tidy_data.csv\")\n",
    "df.head(10)"
   ]
  },
  {
   "cell_type": "code",
   "execution_count": 18,
   "metadata": {},
   "outputs": [
    {
     "data": {
      "text/plain": "team\nAnaheim Ducks            71.581250\nArizona Coyotes          64.540541\nBoston Bruins            66.641791\nBuffalo Sabres           69.404580\nCalgary Flames          -67.791209\nCarolina Hurricanes     -72.017544\nChicago Blackhawks      -70.256545\nColorado Avalanche      -58.556150\nColumbus Blue Jackets    68.077348\nDallas Stars            -69.012422\nDetroit Red Wings       -68.924242\nEdmonton Oilers          71.633663\nFlorida Panthers        -67.212644\nLos Angeles Kings       -70.839695\nMinnesota Wild          -70.602273\nMontréal Canadiens      -69.704545\nNashville Predators      70.111111\nNew Jersey Devils        69.758170\nNew York Islanders       68.310881\nNew York Rangers        -74.066667\nOttawa Senators          69.952381\nPhiladelphia Flyers     -66.829932\nPittsburgh Penguins      70.171296\nSan Jose Sharks          70.429268\nSt. Louis Blues          68.563536\nTampa Bay Lightning      59.294118\nToronto Maple Leafs     -71.027027\nVancouver Canucks       -69.513333\nVegas Golden Knights    -67.704301\nWashington Capitals     -67.698565\nWinnipeg Jets           -67.146465\nName: x_coordinate, dtype: float64"
     },
     "execution_count": 18,
     "metadata": {},
     "output_type": "execute_result"
    }
   ],
   "source": [
    "df = df[df['is_home_team'] == True]\n",
    "df = df[df['is_goal']==True]\n",
    "df = df[df['period']==1]\n",
    "df.groupby('team')['x_coordinate'].mean()"
   ]
  },
  {
   "cell_type": "markdown",
   "metadata": {},
   "source": [
    "## Widget Interactions"
   ]
  },
  {
   "cell_type": "code",
   "execution_count": 6,
   "metadata": {},
   "outputs": [
    {
     "data": {
      "application/vnd.jupyter.widget-view+json": {
       "model_id": "6eaa87aa7e334339946363f5457d2d0c",
       "version_major": 2,
       "version_minor": 0
      },
      "text/plain": [
       "IntSlider(value=0)"
      ]
     },
     "metadata": {},
     "output_type": "display_data"
    }
   ],
   "source": [
    "from IPython.display import display\n",
    "w = widgets.IntSlider()\n",
    "display(w)"
   ]
  }
 ],
 "metadata": {
  "kernelspec": {
   "display_name": "Python 3 (ipykernel)",
   "language": "python",
   "name": "python3"
  },
  "language_info": {
   "codemirror_mode": {
    "name": "ipython",
    "version": 3
   },
   "file_extension": ".py",
   "mimetype": "text/x-python",
   "name": "python",
   "nbconvert_exporter": "python",
   "pygments_lexer": "ipython3",
   "version": "3.8.11"
  }
 },
 "nbformat": 4,
 "nbformat_minor": 4
}