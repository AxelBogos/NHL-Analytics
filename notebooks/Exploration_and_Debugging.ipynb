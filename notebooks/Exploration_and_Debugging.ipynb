{
 "cells": [
  {
   "cell_type": "markdown",
   "metadata": {},
   "source": [
    "# Exploration and Debugging <br> \n",
    "### The objectives of this notebook are: \n",
    "* **Load** a sample data file from either the regular season or playoff;\n",
    "* **Understand** an initial overview of the data structure;\n",
    "* **Create** an ipywidget to interact with a few values of a particular game."
   ]
  },
  {
   "cell_type": "markdown",
   "metadata": {},
   "source": [
    "## Imports"
   ]
  },
  {
   "cell_type": "code",
   "execution_count": 12,
   "metadata": {
    "tags": []
   },
   "outputs": [],
   "source": [
    "import json\n",
    "import ipywidgets as widgets\n",
    "import numpy as np\n",
    "import pandas as pd\n"
   ]
  },
  {
   "cell_type": "markdown",
   "metadata": {},
   "source": [
    "## Sample Data Loading"
   ]
  },
  {
   "cell_type": "code",
   "execution_count": 13,
   "metadata": {},
   "outputs": [],
   "source": [
    "data_path = '../data/raw/'"
   ]
  },
  {
   "cell_type": "markdown",
   "metadata": {},
   "source": [
    "## Exploration of the data structure"
   ]
  },
  {
   "cell_type": "code",
   "execution_count": 13,
   "metadata": {},
   "outputs": [],
   "source": []
  },
  {
   "cell_type": "markdown",
   "metadata": {},
   "source": [
    "## Which side do team play when they are at home?"
   ]
  },
  {
   "cell_type": "code",
   "execution_count": 14,
   "metadata": {},
   "outputs": [
    {
     "data": {
      "text/plain": "      game_id    season game_time  period period_time             team  \\\n0  2019020910  20192020      0:15       1       00:15  Ottawa Senators   \n1  2019020910  20192020      0:18       1       00:18  Ottawa Senators   \n2  2019020910  20192020      0:34       1       00:34  Ottawa Senators   \n3  2019020910  20192020      1:11       1       01:11  Ottawa Senators   \n4  2019020910  20192020      1:43       1       01:43  Ottawa Senators   \n5  2019020910  20192020      2:24       1       02:24  Ottawa Senators   \n6  2019020910  20192020      2:56       1       02:56     Dallas Stars   \n7  2019020910  20192020      3:03       1       03:03     Dallas Stars   \n8  2019020910  20192020      3:41       1       03:41  Ottawa Senators   \n9  2019020910  20192020      3:58       1       03:58  Ottawa Senators   \n\n               shooter          goalie  is_goal   shot_type  x_coordinate  \\\n0          Tyler Ennis  Anton Khudobin    False    Backhand          81.0   \n1        Thomas Chabot  Anton Khudobin    False  Wrist Shot          50.0   \n2         Dylan DeMelo  Anton Khudobin    False  Wrist Shot          32.0   \n3      Anthony Duclair  Anton Khudobin    False  Wrist Shot          59.0   \n4        Cody Goloubef  Anton Khudobin    False  Wrist Shot          33.0   \n5       Scott Sabourin  Anton Khudobin    False  Wrist Shot          65.0   \n6      Jason Robertson  Craig Anderson    False   Slap Shot         -51.0   \n7       John Klingberg  Craig Anderson     True   Deflected         -39.0   \n8        Brady Tkachuk  Anton Khudobin    False   Deflected          83.0   \n9  Jean-Gabriel Pageau  Anton Khudobin    False  Wrist Shot          44.0   \n\n   y_coordinate is_empty_net strength  is_playoff        home_team  \n0          -7.0          NaN      NaN       False  Ottawa Senators  \n1          38.0          NaN      NaN       False  Ottawa Senators  \n2         -32.0          NaN      NaN       False  Ottawa Senators  \n3          29.0          NaN      NaN       False  Ottawa Senators  \n4         -20.0          NaN      NaN       False  Ottawa Senators  \n5          17.0          NaN      NaN       False  Ottawa Senators  \n6         -33.0          NaN      NaN       False  Ottawa Senators  \n7          30.0        False     Even       False  Ottawa Senators  \n8           7.0          NaN      NaN       False  Ottawa Senators  \n9         -29.0          NaN      NaN       False  Ottawa Senators  ",
      "text/html": "<div>\n<style scoped>\n    .dataframe tbody tr th:only-of-type {\n        vertical-align: middle;\n    }\n\n    .dataframe tbody tr th {\n        vertical-align: top;\n    }\n\n    .dataframe thead th {\n        text-align: right;\n    }\n</style>\n<table border=\"1\" class=\"dataframe\">\n  <thead>\n    <tr style=\"text-align: right;\">\n      <th></th>\n      <th>game_id</th>\n      <th>season</th>\n      <th>game_time</th>\n      <th>period</th>\n      <th>period_time</th>\n      <th>team</th>\n      <th>shooter</th>\n      <th>goalie</th>\n      <th>is_goal</th>\n      <th>shot_type</th>\n      <th>x_coordinate</th>\n      <th>y_coordinate</th>\n      <th>is_empty_net</th>\n      <th>strength</th>\n      <th>is_playoff</th>\n      <th>home_team</th>\n    </tr>\n  </thead>\n  <tbody>\n    <tr>\n      <th>0</th>\n      <td>2019020910</td>\n      <td>20192020</td>\n      <td>0:15</td>\n      <td>1</td>\n      <td>00:15</td>\n      <td>Ottawa Senators</td>\n      <td>Tyler Ennis</td>\n      <td>Anton Khudobin</td>\n      <td>False</td>\n      <td>Backhand</td>\n      <td>81.0</td>\n      <td>-7.0</td>\n      <td>NaN</td>\n      <td>NaN</td>\n      <td>False</td>\n      <td>Ottawa Senators</td>\n    </tr>\n    <tr>\n      <th>1</th>\n      <td>2019020910</td>\n      <td>20192020</td>\n      <td>0:18</td>\n      <td>1</td>\n      <td>00:18</td>\n      <td>Ottawa Senators</td>\n      <td>Thomas Chabot</td>\n      <td>Anton Khudobin</td>\n      <td>False</td>\n      <td>Wrist Shot</td>\n      <td>50.0</td>\n      <td>38.0</td>\n      <td>NaN</td>\n      <td>NaN</td>\n      <td>False</td>\n      <td>Ottawa Senators</td>\n    </tr>\n    <tr>\n      <th>2</th>\n      <td>2019020910</td>\n      <td>20192020</td>\n      <td>0:34</td>\n      <td>1</td>\n      <td>00:34</td>\n      <td>Ottawa Senators</td>\n      <td>Dylan DeMelo</td>\n      <td>Anton Khudobin</td>\n      <td>False</td>\n      <td>Wrist Shot</td>\n      <td>32.0</td>\n      <td>-32.0</td>\n      <td>NaN</td>\n      <td>NaN</td>\n      <td>False</td>\n      <td>Ottawa Senators</td>\n    </tr>\n    <tr>\n      <th>3</th>\n      <td>2019020910</td>\n      <td>20192020</td>\n      <td>1:11</td>\n      <td>1</td>\n      <td>01:11</td>\n      <td>Ottawa Senators</td>\n      <td>Anthony Duclair</td>\n      <td>Anton Khudobin</td>\n      <td>False</td>\n      <td>Wrist Shot</td>\n      <td>59.0</td>\n      <td>29.0</td>\n      <td>NaN</td>\n      <td>NaN</td>\n      <td>False</td>\n      <td>Ottawa Senators</td>\n    </tr>\n    <tr>\n      <th>4</th>\n      <td>2019020910</td>\n      <td>20192020</td>\n      <td>1:43</td>\n      <td>1</td>\n      <td>01:43</td>\n      <td>Ottawa Senators</td>\n      <td>Cody Goloubef</td>\n      <td>Anton Khudobin</td>\n      <td>False</td>\n      <td>Wrist Shot</td>\n      <td>33.0</td>\n      <td>-20.0</td>\n      <td>NaN</td>\n      <td>NaN</td>\n      <td>False</td>\n      <td>Ottawa Senators</td>\n    </tr>\n    <tr>\n      <th>5</th>\n      <td>2019020910</td>\n      <td>20192020</td>\n      <td>2:24</td>\n      <td>1</td>\n      <td>02:24</td>\n      <td>Ottawa Senators</td>\n      <td>Scott Sabourin</td>\n      <td>Anton Khudobin</td>\n      <td>False</td>\n      <td>Wrist Shot</td>\n      <td>65.0</td>\n      <td>17.0</td>\n      <td>NaN</td>\n      <td>NaN</td>\n      <td>False</td>\n      <td>Ottawa Senators</td>\n    </tr>\n    <tr>\n      <th>6</th>\n      <td>2019020910</td>\n      <td>20192020</td>\n      <td>2:56</td>\n      <td>1</td>\n      <td>02:56</td>\n      <td>Dallas Stars</td>\n      <td>Jason Robertson</td>\n      <td>Craig Anderson</td>\n      <td>False</td>\n      <td>Slap Shot</td>\n      <td>-51.0</td>\n      <td>-33.0</td>\n      <td>NaN</td>\n      <td>NaN</td>\n      <td>False</td>\n      <td>Ottawa Senators</td>\n    </tr>\n    <tr>\n      <th>7</th>\n      <td>2019020910</td>\n      <td>20192020</td>\n      <td>3:03</td>\n      <td>1</td>\n      <td>03:03</td>\n      <td>Dallas Stars</td>\n      <td>John Klingberg</td>\n      <td>Craig Anderson</td>\n      <td>True</td>\n      <td>Deflected</td>\n      <td>-39.0</td>\n      <td>30.0</td>\n      <td>False</td>\n      <td>Even</td>\n      <td>False</td>\n      <td>Ottawa Senators</td>\n    </tr>\n    <tr>\n      <th>8</th>\n      <td>2019020910</td>\n      <td>20192020</td>\n      <td>3:41</td>\n      <td>1</td>\n      <td>03:41</td>\n      <td>Ottawa Senators</td>\n      <td>Brady Tkachuk</td>\n      <td>Anton Khudobin</td>\n      <td>False</td>\n      <td>Deflected</td>\n      <td>83.0</td>\n      <td>7.0</td>\n      <td>NaN</td>\n      <td>NaN</td>\n      <td>False</td>\n      <td>Ottawa Senators</td>\n    </tr>\n    <tr>\n      <th>9</th>\n      <td>2019020910</td>\n      <td>20192020</td>\n      <td>3:58</td>\n      <td>1</td>\n      <td>03:58</td>\n      <td>Ottawa Senators</td>\n      <td>Jean-Gabriel Pageau</td>\n      <td>Anton Khudobin</td>\n      <td>False</td>\n      <td>Wrist Shot</td>\n      <td>44.0</td>\n      <td>-29.0</td>\n      <td>NaN</td>\n      <td>NaN</td>\n      <td>False</td>\n      <td>Ottawa Senators</td>\n    </tr>\n  </tbody>\n</table>\n</div>"
     },
     "execution_count": 14,
     "metadata": {},
     "output_type": "execute_result"
    }
   ],
   "source": [
    "df = pd.read_csv(\"../ift6758/data/tidy_data.csv\")\n",
    "df.head(10)"
   ]
  },
  {
   "cell_type": "markdown",
   "source": [
    "## Feature engineering tests"
   ],
   "metadata": {
    "collapsed": false
   }
  },
  {
   "cell_type": "code",
   "execution_count": 15,
   "metadata": {},
   "outputs": [],
   "source": [
    "sub_df = df[df['team'] == df['home_team']]\n",
    "sub_df = sub_df[sub_df['is_goal']==True]\n",
    "coordinates = sub_df.groupby(['season','team','period'])['x_coordinate'].mean().reset_index()\n",
    "coordinates['home_offensive_side']=np.sign(coordinates['x_coordinate'])\n",
    "coordinates = coordinates.drop(['x_coordinate'],axis=1)\n"
   ]
  },
  {
   "cell_type": "code",
   "execution_count": 16,
   "outputs": [
    {
     "data": {
      "text/plain": "      game_id    season game_time  period period_time             team  \\\n0  2019020910  20192020      0:15       1       00:15  Ottawa Senators   \n1  2019020910  20192020      0:18       1       00:18  Ottawa Senators   \n2  2019020910  20192020      0:34       1       00:34  Ottawa Senators   \n3  2019020910  20192020      1:11       1       01:11  Ottawa Senators   \n4  2019020910  20192020      1:43       1       01:43  Ottawa Senators   \n5  2019020910  20192020      2:24       1       02:24  Ottawa Senators   \n6  2019020910  20192020      2:56       1       02:56     Dallas Stars   \n7  2019020910  20192020      3:03       1       03:03     Dallas Stars   \n8  2019020910  20192020      3:41       1       03:41  Ottawa Senators   \n9  2019020910  20192020      3:58       1       03:58  Ottawa Senators   \n\n               shooter          goalie  is_goal   shot_type  x_coordinate  \\\n0          Tyler Ennis  Anton Khudobin    False    Backhand          81.0   \n1        Thomas Chabot  Anton Khudobin    False  Wrist Shot          50.0   \n2         Dylan DeMelo  Anton Khudobin    False  Wrist Shot          32.0   \n3      Anthony Duclair  Anton Khudobin    False  Wrist Shot          59.0   \n4        Cody Goloubef  Anton Khudobin    False  Wrist Shot          33.0   \n5       Scott Sabourin  Anton Khudobin    False  Wrist Shot          65.0   \n6      Jason Robertson  Craig Anderson    False   Slap Shot         -51.0   \n7       John Klingberg  Craig Anderson     True   Deflected         -39.0   \n8        Brady Tkachuk  Anton Khudobin    False   Deflected          83.0   \n9  Jean-Gabriel Pageau  Anton Khudobin    False  Wrist Shot          44.0   \n\n   y_coordinate is_empty_net strength  is_playoff        home_team  \\\n0          -7.0          NaN      NaN       False  Ottawa Senators   \n1          38.0          NaN      NaN       False  Ottawa Senators   \n2         -32.0          NaN      NaN       False  Ottawa Senators   \n3          29.0          NaN      NaN       False  Ottawa Senators   \n4         -20.0          NaN      NaN       False  Ottawa Senators   \n5          17.0          NaN      NaN       False  Ottawa Senators   \n6         -33.0          NaN      NaN       False  Ottawa Senators   \n7          30.0        False     Even       False  Ottawa Senators   \n8           7.0          NaN      NaN       False  Ottawa Senators   \n9         -29.0          NaN      NaN       False  Ottawa Senators   \n\n   home_offensive_side  \n0                  1.0  \n1                  1.0  \n2                  1.0  \n3                  1.0  \n4                  1.0  \n5                  1.0  \n6                 -1.0  \n7                 -1.0  \n8                  1.0  \n9                  1.0  ",
      "text/html": "<div>\n<style scoped>\n    .dataframe tbody tr th:only-of-type {\n        vertical-align: middle;\n    }\n\n    .dataframe tbody tr th {\n        vertical-align: top;\n    }\n\n    .dataframe thead th {\n        text-align: right;\n    }\n</style>\n<table border=\"1\" class=\"dataframe\">\n  <thead>\n    <tr style=\"text-align: right;\">\n      <th></th>\n      <th>game_id</th>\n      <th>season</th>\n      <th>game_time</th>\n      <th>period</th>\n      <th>period_time</th>\n      <th>team</th>\n      <th>shooter</th>\n      <th>goalie</th>\n      <th>is_goal</th>\n      <th>shot_type</th>\n      <th>x_coordinate</th>\n      <th>y_coordinate</th>\n      <th>is_empty_net</th>\n      <th>strength</th>\n      <th>is_playoff</th>\n      <th>home_team</th>\n      <th>home_offensive_side</th>\n    </tr>\n  </thead>\n  <tbody>\n    <tr>\n      <th>0</th>\n      <td>2019020910</td>\n      <td>20192020</td>\n      <td>0:15</td>\n      <td>1</td>\n      <td>00:15</td>\n      <td>Ottawa Senators</td>\n      <td>Tyler Ennis</td>\n      <td>Anton Khudobin</td>\n      <td>False</td>\n      <td>Backhand</td>\n      <td>81.0</td>\n      <td>-7.0</td>\n      <td>NaN</td>\n      <td>NaN</td>\n      <td>False</td>\n      <td>Ottawa Senators</td>\n      <td>1.0</td>\n    </tr>\n    <tr>\n      <th>1</th>\n      <td>2019020910</td>\n      <td>20192020</td>\n      <td>0:18</td>\n      <td>1</td>\n      <td>00:18</td>\n      <td>Ottawa Senators</td>\n      <td>Thomas Chabot</td>\n      <td>Anton Khudobin</td>\n      <td>False</td>\n      <td>Wrist Shot</td>\n      <td>50.0</td>\n      <td>38.0</td>\n      <td>NaN</td>\n      <td>NaN</td>\n      <td>False</td>\n      <td>Ottawa Senators</td>\n      <td>1.0</td>\n    </tr>\n    <tr>\n      <th>2</th>\n      <td>2019020910</td>\n      <td>20192020</td>\n      <td>0:34</td>\n      <td>1</td>\n      <td>00:34</td>\n      <td>Ottawa Senators</td>\n      <td>Dylan DeMelo</td>\n      <td>Anton Khudobin</td>\n      <td>False</td>\n      <td>Wrist Shot</td>\n      <td>32.0</td>\n      <td>-32.0</td>\n      <td>NaN</td>\n      <td>NaN</td>\n      <td>False</td>\n      <td>Ottawa Senators</td>\n      <td>1.0</td>\n    </tr>\n    <tr>\n      <th>3</th>\n      <td>2019020910</td>\n      <td>20192020</td>\n      <td>1:11</td>\n      <td>1</td>\n      <td>01:11</td>\n      <td>Ottawa Senators</td>\n      <td>Anthony Duclair</td>\n      <td>Anton Khudobin</td>\n      <td>False</td>\n      <td>Wrist Shot</td>\n      <td>59.0</td>\n      <td>29.0</td>\n      <td>NaN</td>\n      <td>NaN</td>\n      <td>False</td>\n      <td>Ottawa Senators</td>\n      <td>1.0</td>\n    </tr>\n    <tr>\n      <th>4</th>\n      <td>2019020910</td>\n      <td>20192020</td>\n      <td>1:43</td>\n      <td>1</td>\n      <td>01:43</td>\n      <td>Ottawa Senators</td>\n      <td>Cody Goloubef</td>\n      <td>Anton Khudobin</td>\n      <td>False</td>\n      <td>Wrist Shot</td>\n      <td>33.0</td>\n      <td>-20.0</td>\n      <td>NaN</td>\n      <td>NaN</td>\n      <td>False</td>\n      <td>Ottawa Senators</td>\n      <td>1.0</td>\n    </tr>\n    <tr>\n      <th>5</th>\n      <td>2019020910</td>\n      <td>20192020</td>\n      <td>2:24</td>\n      <td>1</td>\n      <td>02:24</td>\n      <td>Ottawa Senators</td>\n      <td>Scott Sabourin</td>\n      <td>Anton Khudobin</td>\n      <td>False</td>\n      <td>Wrist Shot</td>\n      <td>65.0</td>\n      <td>17.0</td>\n      <td>NaN</td>\n      <td>NaN</td>\n      <td>False</td>\n      <td>Ottawa Senators</td>\n      <td>1.0</td>\n    </tr>\n    <tr>\n      <th>6</th>\n      <td>2019020910</td>\n      <td>20192020</td>\n      <td>2:56</td>\n      <td>1</td>\n      <td>02:56</td>\n      <td>Dallas Stars</td>\n      <td>Jason Robertson</td>\n      <td>Craig Anderson</td>\n      <td>False</td>\n      <td>Slap Shot</td>\n      <td>-51.0</td>\n      <td>-33.0</td>\n      <td>NaN</td>\n      <td>NaN</td>\n      <td>False</td>\n      <td>Ottawa Senators</td>\n      <td>-1.0</td>\n    </tr>\n    <tr>\n      <th>7</th>\n      <td>2019020910</td>\n      <td>20192020</td>\n      <td>3:03</td>\n      <td>1</td>\n      <td>03:03</td>\n      <td>Dallas Stars</td>\n      <td>John Klingberg</td>\n      <td>Craig Anderson</td>\n      <td>True</td>\n      <td>Deflected</td>\n      <td>-39.0</td>\n      <td>30.0</td>\n      <td>False</td>\n      <td>Even</td>\n      <td>False</td>\n      <td>Ottawa Senators</td>\n      <td>-1.0</td>\n    </tr>\n    <tr>\n      <th>8</th>\n      <td>2019020910</td>\n      <td>20192020</td>\n      <td>3:41</td>\n      <td>1</td>\n      <td>03:41</td>\n      <td>Ottawa Senators</td>\n      <td>Brady Tkachuk</td>\n      <td>Anton Khudobin</td>\n      <td>False</td>\n      <td>Deflected</td>\n      <td>83.0</td>\n      <td>7.0</td>\n      <td>NaN</td>\n      <td>NaN</td>\n      <td>False</td>\n      <td>Ottawa Senators</td>\n      <td>1.0</td>\n    </tr>\n    <tr>\n      <th>9</th>\n      <td>2019020910</td>\n      <td>20192020</td>\n      <td>3:58</td>\n      <td>1</td>\n      <td>03:58</td>\n      <td>Ottawa Senators</td>\n      <td>Jean-Gabriel Pageau</td>\n      <td>Anton Khudobin</td>\n      <td>False</td>\n      <td>Wrist Shot</td>\n      <td>44.0</td>\n      <td>-29.0</td>\n      <td>NaN</td>\n      <td>NaN</td>\n      <td>False</td>\n      <td>Ottawa Senators</td>\n      <td>1.0</td>\n    </tr>\n  </tbody>\n</table>\n</div>"
     },
     "execution_count": 16,
     "metadata": {},
     "output_type": "execute_result"
    }
   ],
   "source": [
    "df=pd.merge(df,coordinates, on=['season','team','period'],how='left')\n",
    "df.head(10)"
   ],
   "metadata": {
    "collapsed": false,
    "pycharm": {
     "name": "#%%\n"
    }
   }
  },
  {
   "cell_type": "code",
   "execution_count": 18,
   "outputs": [
    {
     "data": {
      "text/plain": "      game_id    season game_time  period period_time             team  \\\n0  2019020910  20192020      7:36       1       07:36  Ottawa Senators   \n1  2019020910  20192020     18:10       1       18:10  Ottawa Senators   \n2  2019020746  20192020      7:15       1       07:15  Ottawa Senators   \n3  2019020988  20192020      7:13       1       07:13  Ottawa Senators   \n4  2019020988  20192020      7:44       1       07:44  Ottawa Senators   \n5  2019021038  20192020     13:57       1       13:57  Ottawa Senators   \n6  2019020255  20192020      9:34       1       09:34  Ottawa Senators   \n7  2019020255  20192020     16:47       1       16:47  Ottawa Senators   \n8  2019020255  20192020     16:51       1       16:51  Ottawa Senators   \n9  2019020347  20192020      0:57       1       00:57  Ottawa Senators   \n\n                 shooter            goalie  is_goal   shot_type  x_coordinate  \\\n0    Jean-Gabriel Pageau    Anton Khudobin     True   Snap Shot          75.0   \n1          Brady Tkachuk    Anton Khudobin     True  Wrist Shot          82.0   \n2          Brady Tkachuk     David Rittich     True  Wrist Shot          81.0   \n3           Connor Brown    Thatcher Demko     True  Wrist Shot          59.0   \n4             Bobby Ryan    Thatcher Demko     True      Tip-In          85.0   \n5           Connor Brown   Semyon Varlamov     True  Wrist Shot          88.0   \n6          Filip Chlapik      James Reimer     True    Backhand          77.0   \n7  Vladislav Namestnikov      James Reimer     True      Tip-In          77.0   \n8    Jean-Gabriel Pageau      James Reimer     True  Wrist Shot          58.0   \n9          Thomas Chabot  Henrik Lundqvist     True   Slap Shot          65.0   \n\n   y_coordinate is_empty_net    strength  is_playoff        home_team  \\\n0          -2.0        False  Power Play       False  Ottawa Senators   \n1           3.0        False        Even       False  Ottawa Senators   \n2          37.0        False        Even       False  Ottawa Senators   \n3         -28.0        False        Even       False  Ottawa Senators   \n4          -9.0        False        Even       False  Ottawa Senators   \n5           4.0        False        Even       False  Ottawa Senators   \n6           1.0        False        Even       False  Ottawa Senators   \n7          -1.0        False        Even       False  Ottawa Senators   \n8           8.0        False        Even       False  Ottawa Senators   \n9          24.0        False        Even       False  Ottawa Senators   \n\n   home_offensive_side  shot_distance  \n0                  1.0      14.142136  \n1                  1.0       7.615773  \n2                  1.0      37.854986  \n3                  1.0      41.036569  \n4                  1.0       9.848858  \n5                  1.0       4.123106  \n6                  1.0      12.041595  \n7                  1.0      12.041595  \n8                  1.0      32.015621  \n9                  1.0      33.941125  ",
      "text/html": "<div>\n<style scoped>\n    .dataframe tbody tr th:only-of-type {\n        vertical-align: middle;\n    }\n\n    .dataframe tbody tr th {\n        vertical-align: top;\n    }\n\n    .dataframe thead th {\n        text-align: right;\n    }\n</style>\n<table border=\"1\" class=\"dataframe\">\n  <thead>\n    <tr style=\"text-align: right;\">\n      <th></th>\n      <th>game_id</th>\n      <th>season</th>\n      <th>game_time</th>\n      <th>period</th>\n      <th>period_time</th>\n      <th>team</th>\n      <th>shooter</th>\n      <th>goalie</th>\n      <th>is_goal</th>\n      <th>shot_type</th>\n      <th>x_coordinate</th>\n      <th>y_coordinate</th>\n      <th>is_empty_net</th>\n      <th>strength</th>\n      <th>is_playoff</th>\n      <th>home_team</th>\n      <th>home_offensive_side</th>\n      <th>shot_distance</th>\n    </tr>\n  </thead>\n  <tbody>\n    <tr>\n      <th>0</th>\n      <td>2019020910</td>\n      <td>20192020</td>\n      <td>7:36</td>\n      <td>1</td>\n      <td>07:36</td>\n      <td>Ottawa Senators</td>\n      <td>Jean-Gabriel Pageau</td>\n      <td>Anton Khudobin</td>\n      <td>True</td>\n      <td>Snap Shot</td>\n      <td>75.0</td>\n      <td>-2.0</td>\n      <td>False</td>\n      <td>Power Play</td>\n      <td>False</td>\n      <td>Ottawa Senators</td>\n      <td>1.0</td>\n      <td>14.142136</td>\n    </tr>\n    <tr>\n      <th>1</th>\n      <td>2019020910</td>\n      <td>20192020</td>\n      <td>18:10</td>\n      <td>1</td>\n      <td>18:10</td>\n      <td>Ottawa Senators</td>\n      <td>Brady Tkachuk</td>\n      <td>Anton Khudobin</td>\n      <td>True</td>\n      <td>Wrist Shot</td>\n      <td>82.0</td>\n      <td>3.0</td>\n      <td>False</td>\n      <td>Even</td>\n      <td>False</td>\n      <td>Ottawa Senators</td>\n      <td>1.0</td>\n      <td>7.615773</td>\n    </tr>\n    <tr>\n      <th>2</th>\n      <td>2019020746</td>\n      <td>20192020</td>\n      <td>7:15</td>\n      <td>1</td>\n      <td>07:15</td>\n      <td>Ottawa Senators</td>\n      <td>Brady Tkachuk</td>\n      <td>David Rittich</td>\n      <td>True</td>\n      <td>Wrist Shot</td>\n      <td>81.0</td>\n      <td>37.0</td>\n      <td>False</td>\n      <td>Even</td>\n      <td>False</td>\n      <td>Ottawa Senators</td>\n      <td>1.0</td>\n      <td>37.854986</td>\n    </tr>\n    <tr>\n      <th>3</th>\n      <td>2019020988</td>\n      <td>20192020</td>\n      <td>7:13</td>\n      <td>1</td>\n      <td>07:13</td>\n      <td>Ottawa Senators</td>\n      <td>Connor Brown</td>\n      <td>Thatcher Demko</td>\n      <td>True</td>\n      <td>Wrist Shot</td>\n      <td>59.0</td>\n      <td>-28.0</td>\n      <td>False</td>\n      <td>Even</td>\n      <td>False</td>\n      <td>Ottawa Senators</td>\n      <td>1.0</td>\n      <td>41.036569</td>\n    </tr>\n    <tr>\n      <th>4</th>\n      <td>2019020988</td>\n      <td>20192020</td>\n      <td>7:44</td>\n      <td>1</td>\n      <td>07:44</td>\n      <td>Ottawa Senators</td>\n      <td>Bobby Ryan</td>\n      <td>Thatcher Demko</td>\n      <td>True</td>\n      <td>Tip-In</td>\n      <td>85.0</td>\n      <td>-9.0</td>\n      <td>False</td>\n      <td>Even</td>\n      <td>False</td>\n      <td>Ottawa Senators</td>\n      <td>1.0</td>\n      <td>9.848858</td>\n    </tr>\n    <tr>\n      <th>5</th>\n      <td>2019021038</td>\n      <td>20192020</td>\n      <td>13:57</td>\n      <td>1</td>\n      <td>13:57</td>\n      <td>Ottawa Senators</td>\n      <td>Connor Brown</td>\n      <td>Semyon Varlamov</td>\n      <td>True</td>\n      <td>Wrist Shot</td>\n      <td>88.0</td>\n      <td>4.0</td>\n      <td>False</td>\n      <td>Even</td>\n      <td>False</td>\n      <td>Ottawa Senators</td>\n      <td>1.0</td>\n      <td>4.123106</td>\n    </tr>\n    <tr>\n      <th>6</th>\n      <td>2019020255</td>\n      <td>20192020</td>\n      <td>9:34</td>\n      <td>1</td>\n      <td>09:34</td>\n      <td>Ottawa Senators</td>\n      <td>Filip Chlapik</td>\n      <td>James Reimer</td>\n      <td>True</td>\n      <td>Backhand</td>\n      <td>77.0</td>\n      <td>1.0</td>\n      <td>False</td>\n      <td>Even</td>\n      <td>False</td>\n      <td>Ottawa Senators</td>\n      <td>1.0</td>\n      <td>12.041595</td>\n    </tr>\n    <tr>\n      <th>7</th>\n      <td>2019020255</td>\n      <td>20192020</td>\n      <td>16:47</td>\n      <td>1</td>\n      <td>16:47</td>\n      <td>Ottawa Senators</td>\n      <td>Vladislav Namestnikov</td>\n      <td>James Reimer</td>\n      <td>True</td>\n      <td>Tip-In</td>\n      <td>77.0</td>\n      <td>-1.0</td>\n      <td>False</td>\n      <td>Even</td>\n      <td>False</td>\n      <td>Ottawa Senators</td>\n      <td>1.0</td>\n      <td>12.041595</td>\n    </tr>\n    <tr>\n      <th>8</th>\n      <td>2019020255</td>\n      <td>20192020</td>\n      <td>16:51</td>\n      <td>1</td>\n      <td>16:51</td>\n      <td>Ottawa Senators</td>\n      <td>Jean-Gabriel Pageau</td>\n      <td>James Reimer</td>\n      <td>True</td>\n      <td>Wrist Shot</td>\n      <td>58.0</td>\n      <td>8.0</td>\n      <td>False</td>\n      <td>Even</td>\n      <td>False</td>\n      <td>Ottawa Senators</td>\n      <td>1.0</td>\n      <td>32.015621</td>\n    </tr>\n    <tr>\n      <th>9</th>\n      <td>2019020347</td>\n      <td>20192020</td>\n      <td>0:57</td>\n      <td>1</td>\n      <td>00:57</td>\n      <td>Ottawa Senators</td>\n      <td>Thomas Chabot</td>\n      <td>Henrik Lundqvist</td>\n      <td>True</td>\n      <td>Slap Shot</td>\n      <td>65.0</td>\n      <td>24.0</td>\n      <td>False</td>\n      <td>Even</td>\n      <td>False</td>\n      <td>Ottawa Senators</td>\n      <td>1.0</td>\n      <td>33.941125</td>\n    </tr>\n  </tbody>\n</table>\n</div>"
     },
     "execution_count": 18,
     "metadata": {},
     "output_type": "execute_result"
    }
   ],
   "source": [
    "def get_goal_distance(x,y,team,home_team,home_offensive_side):\n",
    "    goal_coord = np.array([89,0])\n",
    "    if x is None or y is None:\n",
    "        return None\n",
    "    if team == home_team:\n",
    "        home_offensive_side * goal_coord\n",
    "    else:\n",
    "        -1 * home_offensive_side * goal_coord\n",
    "    return np.linalg.norm(np.array([x,y]) - goal_coord)\n",
    "df['shot_distance']= df.apply(lambda row: get_goal_distance(\n",
    "                                       row['x_coordinate'],\n",
    "                                       row['y_coordinate'],\n",
    "                                       row['team'],\n",
    "                                       row['home_team'],\n",
    "                                       row['home_offensive_side']), axis=1)\n",
    "\n",
    "df.head(10)"
   ],
   "metadata": {
    "collapsed": false,
    "pycharm": {
     "name": "#%%\n"
    }
   }
  },
  {
   "cell_type": "code",
   "execution_count": null,
   "outputs": [],
   "source": [
    "## Widget Interactions"
   ],
   "metadata": {
    "collapsed": false,
    "pycharm": {
     "name": "#%%\n"
    }
   }
  },
  {
   "cell_type": "markdown",
   "source": [
    "## Widget Interactions"
   ],
   "metadata": {
    "collapsed": false
   }
  },
  {
   "cell_type": "markdown",
   "source": [
    "from IPython.display import display\n",
    "w = widgets.IntSlider()\n",
    "display(w)"
   ],
   "metadata": {
    "collapsed": false
   }
  }
 ],
 "metadata": {
  "kernelspec": {
   "display_name": "Python 3 (ipykernel)",
   "language": "python",
   "name": "python3"
  },
  "language_info": {
   "codemirror_mode": {
    "name": "ipython",
    "version": 3
   },
   "file_extension": ".py",
   "mimetype": "text/x-python",
   "name": "python",
   "nbconvert_exporter": "python",
   "pygments_lexer": "ipython3",
   "version": "3.8.11"
  }
 },
 "nbformat": 4,
 "nbformat_minor": 4
}